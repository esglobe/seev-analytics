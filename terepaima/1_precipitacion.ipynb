{
 "cells": [
  {
   "cell_type": "markdown",
   "metadata": {},
   "source": [
    "## Análisis Precipitación Total Parque Nacional Terepaima\n",
    "\n",
    "**PROYECTO:** SISTEMA PARA EL SEGUIMIENTO DE ECOSISTEMAS VENEZOLANOS \\\n",
    "**AUTOR:** Javier Martinez"
   ]
  },
  {
   "cell_type": "markdown",
   "metadata": {},
   "source": [
    "Directorio de trabajo"
   ]
  },
  {
   "cell_type": "code",
   "execution_count": 10,
   "metadata": {},
   "outputs": [
    {
     "name": "stdout",
     "output_type": "stream",
     "text": [
      "> Directorio actual:  /media/javier/Compartida/doctorado/ssev-analytics\n",
      "> Directorio actual:  /media/javier/Compartida/doctorado\n"
     ]
    }
   ],
   "source": [
    "import os\n",
    "\n",
    "print('> Directorio actual: ', os.getcwd())  \n",
    "os.chdir('../')\n",
    "print('> Directorio actual: ', os.getcwd()) "
   ]
  },
  {
   "cell_type": "code",
   "execution_count": 11,
   "metadata": {},
   "outputs": [],
   "source": [
    "from utils.MONGO import CONEXION\n",
    "from datetime import datetime\n",
    "import pandas as pd"
   ]
  },
  {
   "cell_type": "markdown",
   "metadata": {},
   "source": [
    "# Creando Coenxión con Mongo DB"
   ]
  },
  {
   "cell_type": "code",
   "execution_count": 12,
   "metadata": {},
   "outputs": [
    {
     "data": {
      "text/plain": [
       "['meteorological', 'estimateSSTNino34', 'SSTNino34']"
      ]
     },
     "execution_count": 12,
     "metadata": {},
     "output_type": "execute_result"
    }
   ],
   "source": [
    "# Creando la conexión con MongoDB\n",
    "db = CONEXION.conexion()\n",
    "db.list_collection_names()"
   ]
  },
  {
   "cell_type": "markdown",
   "metadata": {},
   "source": [
    "# Descargando la Información Precipitación"
   ]
  },
  {
   "cell_type": "code",
   "execution_count": 13,
   "metadata": {},
   "outputs": [
    {
     "data": {
      "text/html": [
       "<div>\n",
       "<style scoped>\n",
       "    .dataframe tbody tr th:only-of-type {\n",
       "        vertical-align: middle;\n",
       "    }\n",
       "\n",
       "    .dataframe tbody tr th {\n",
       "        vertical-align: top;\n",
       "    }\n",
       "\n",
       "    .dataframe thead th {\n",
       "        text-align: right;\n",
       "    }\n",
       "</style>\n",
       "<table border=\"1\" class=\"dataframe\">\n",
       "  <thead>\n",
       "    <tr style=\"text-align: right;\">\n",
       "      <th></th>\n",
       "      <th>_id</th>\n",
       "      <th>id_point</th>\n",
       "      <th>park</th>\n",
       "      <th>time</th>\n",
       "      <th>elevacion_maxima</th>\n",
       "      <th>elevacion_media</th>\n",
       "      <th>elevacion_mediana</th>\n",
       "      <th>latitud</th>\n",
       "      <th>longitud</th>\n",
       "      <th>ndvi_maxima</th>\n",
       "      <th>ndvi_media</th>\n",
       "      <th>ndvi_mediana</th>\n",
       "      <th>precipitacion_mm</th>\n",
       "      <th>time_actualizacion</th>\n",
       "      <th>periodo</th>\n",
       "    </tr>\n",
       "    <tr>\n",
       "      <th>periodo</th>\n",
       "      <th></th>\n",
       "      <th></th>\n",
       "      <th></th>\n",
       "      <th></th>\n",
       "      <th></th>\n",
       "      <th></th>\n",
       "      <th></th>\n",
       "      <th></th>\n",
       "      <th></th>\n",
       "      <th></th>\n",
       "      <th></th>\n",
       "      <th></th>\n",
       "      <th></th>\n",
       "      <th></th>\n",
       "      <th></th>\n",
       "    </tr>\n",
       "  </thead>\n",
       "  <tbody>\n",
       "    <tr>\n",
       "      <th>1970-01-01</th>\n",
       "      <td>63398c34eed0e0231b35b3bf</td>\n",
       "      <td>1</td>\n",
       "      <td>terepaima</td>\n",
       "      <td>719163</td>\n",
       "      <td>1632.0</td>\n",
       "      <td>1001.651794</td>\n",
       "      <td>986.0</td>\n",
       "      <td>9.96</td>\n",
       "      <td>-69.38</td>\n",
       "      <td>NaN</td>\n",
       "      <td>NaN</td>\n",
       "      <td>NaN</td>\n",
       "      <td>1.698088</td>\n",
       "      <td>738430</td>\n",
       "      <td>1970-01-01</td>\n",
       "    </tr>\n",
       "    <tr>\n",
       "      <th>1970-01-01</th>\n",
       "      <td>63398c34eed0e0231b35b3cf</td>\n",
       "      <td>2</td>\n",
       "      <td>terepaima</td>\n",
       "      <td>719163</td>\n",
       "      <td>1556.0</td>\n",
       "      <td>896.212402</td>\n",
       "      <td>875.0</td>\n",
       "      <td>9.96</td>\n",
       "      <td>-69.28</td>\n",
       "      <td>NaN</td>\n",
       "      <td>NaN</td>\n",
       "      <td>NaN</td>\n",
       "      <td>1.375303</td>\n",
       "      <td>738430</td>\n",
       "      <td>1970-01-01</td>\n",
       "    </tr>\n",
       "    <tr>\n",
       "      <th>1970-01-01</th>\n",
       "      <td>63398c34eed0e0231b35b3dd</td>\n",
       "      <td>3</td>\n",
       "      <td>terepaima</td>\n",
       "      <td>719163</td>\n",
       "      <td>755.0</td>\n",
       "      <td>470.032227</td>\n",
       "      <td>462.0</td>\n",
       "      <td>9.96</td>\n",
       "      <td>-69.18</td>\n",
       "      <td>NaN</td>\n",
       "      <td>NaN</td>\n",
       "      <td>NaN</td>\n",
       "      <td>1.234049</td>\n",
       "      <td>738430</td>\n",
       "      <td>1970-01-01</td>\n",
       "    </tr>\n",
       "    <tr>\n",
       "      <th>1970-01-01</th>\n",
       "      <td>63398c34eed0e0231b35b3f6</td>\n",
       "      <td>4</td>\n",
       "      <td>terepaima</td>\n",
       "      <td>719163</td>\n",
       "      <td>1922.0</td>\n",
       "      <td>1273.258179</td>\n",
       "      <td>1264.0</td>\n",
       "      <td>9.86</td>\n",
       "      <td>-69.38</td>\n",
       "      <td>NaN</td>\n",
       "      <td>NaN</td>\n",
       "      <td>NaN</td>\n",
       "      <td>2.647525</td>\n",
       "      <td>738430</td>\n",
       "      <td>1970-01-01</td>\n",
       "    </tr>\n",
       "    <tr>\n",
       "      <th>1970-01-01</th>\n",
       "      <td>63398c34eed0e0231b35b419</td>\n",
       "      <td>5</td>\n",
       "      <td>terepaima</td>\n",
       "      <td>719163</td>\n",
       "      <td>1622.0</td>\n",
       "      <td>1118.260376</td>\n",
       "      <td>1172.0</td>\n",
       "      <td>9.86</td>\n",
       "      <td>-69.28</td>\n",
       "      <td>NaN</td>\n",
       "      <td>NaN</td>\n",
       "      <td>NaN</td>\n",
       "      <td>2.170181</td>\n",
       "      <td>738430</td>\n",
       "      <td>1970-01-01</td>\n",
       "    </tr>\n",
       "  </tbody>\n",
       "</table>\n",
       "</div>"
      ],
      "text/plain": [
       "                                 _id  id_point       park    time  \\\n",
       "periodo                                                             \n",
       "1970-01-01  63398c34eed0e0231b35b3bf         1  terepaima  719163   \n",
       "1970-01-01  63398c34eed0e0231b35b3cf         2  terepaima  719163   \n",
       "1970-01-01  63398c34eed0e0231b35b3dd         3  terepaima  719163   \n",
       "1970-01-01  63398c34eed0e0231b35b3f6         4  terepaima  719163   \n",
       "1970-01-01  63398c34eed0e0231b35b419         5  terepaima  719163   \n",
       "\n",
       "            elevacion_maxima  elevacion_media  elevacion_mediana  latitud  \\\n",
       "periodo                                                                     \n",
       "1970-01-01            1632.0      1001.651794              986.0     9.96   \n",
       "1970-01-01            1556.0       896.212402              875.0     9.96   \n",
       "1970-01-01             755.0       470.032227              462.0     9.96   \n",
       "1970-01-01            1922.0      1273.258179             1264.0     9.86   \n",
       "1970-01-01            1622.0      1118.260376             1172.0     9.86   \n",
       "\n",
       "            longitud  ndvi_maxima  ndvi_media  ndvi_mediana  precipitacion_mm  \\\n",
       "periodo                                                                         \n",
       "1970-01-01    -69.38          NaN         NaN           NaN          1.698088   \n",
       "1970-01-01    -69.28          NaN         NaN           NaN          1.375303   \n",
       "1970-01-01    -69.18          NaN         NaN           NaN          1.234049   \n",
       "1970-01-01    -69.38          NaN         NaN           NaN          2.647525   \n",
       "1970-01-01    -69.28          NaN         NaN           NaN          2.170181   \n",
       "\n",
       "            time_actualizacion    periodo  \n",
       "periodo                                    \n",
       "1970-01-01              738430 1970-01-01  \n",
       "1970-01-01              738430 1970-01-01  \n",
       "1970-01-01              738430 1970-01-01  \n",
       "1970-01-01              738430 1970-01-01  \n",
       "1970-01-01              738430 1970-01-01  "
      ]
     },
     "execution_count": 13,
     "metadata": {},
     "output_type": "execute_result"
    }
   ],
   "source": [
    "# Parque\n",
    "park = 'terepaima'\n",
    "\n",
    "# Realizando consulta\n",
    "meteorological = db.meteorological.find({\"park\":park})\n",
    "\n",
    "# Generando pandas dataframe\n",
    "data_pandas = pd.DataFrame([file for file in meteorological])\n",
    "data_pandas['periodo'] = data_pandas.time.apply(lambda x: datetime.fromordinal(x))\n",
    "data_pandas.index = pd.to_datetime(data_pandas.periodo)\n",
    "data_pandas.head()"
   ]
  },
  {
   "cell_type": "code",
   "execution_count": 14,
   "metadata": {},
   "outputs": [
    {
     "name": "stdout",
     "output_type": "stream",
     "text": [
      "(5661, 15)\n"
     ]
    }
   ],
   "source": [
    "# Registros\n",
    "print(data_pandas.shape)"
   ]
  },
  {
   "cell_type": "code",
   "execution_count": 15,
   "metadata": {},
   "outputs": [
    {
     "name": "stdout",
     "output_type": "stream",
     "text": [
      "1970-01-01 00:00:00\n",
      "2022-05-01 00:00:00\n"
     ]
    }
   ],
   "source": [
    "# Data disponible\n",
    "print(data_pandas.index.min())\n",
    "print(data_pandas.index.max())"
   ]
  },
  {
   "cell_type": "code",
   "execution_count": 16,
   "metadata": {},
   "outputs": [
    {
     "data": {
      "text/html": [
       "<div>\n",
       "<style scoped>\n",
       "    .dataframe tbody tr th:only-of-type {\n",
       "        vertical-align: middle;\n",
       "    }\n",
       "\n",
       "    .dataframe tbody tr th {\n",
       "        vertical-align: top;\n",
       "    }\n",
       "\n",
       "    .dataframe thead th {\n",
       "        text-align: right;\n",
       "    }\n",
       "</style>\n",
       "<table border=\"1\" class=\"dataframe\">\n",
       "  <thead>\n",
       "    <tr style=\"text-align: right;\">\n",
       "      <th></th>\n",
       "      <th>id_point</th>\n",
       "      <th>latitud</th>\n",
       "      <th>longitud</th>\n",
       "      <th>precipitacion_mm</th>\n",
       "    </tr>\n",
       "  </thead>\n",
       "  <tbody>\n",
       "    <tr>\n",
       "      <th>0</th>\n",
       "      <td>1</td>\n",
       "      <td>9.96</td>\n",
       "      <td>-69.38</td>\n",
       "      <td>629</td>\n",
       "    </tr>\n",
       "    <tr>\n",
       "      <th>1</th>\n",
       "      <td>2</td>\n",
       "      <td>9.96</td>\n",
       "      <td>-69.28</td>\n",
       "      <td>629</td>\n",
       "    </tr>\n",
       "    <tr>\n",
       "      <th>2</th>\n",
       "      <td>3</td>\n",
       "      <td>9.96</td>\n",
       "      <td>-69.18</td>\n",
       "      <td>629</td>\n",
       "    </tr>\n",
       "    <tr>\n",
       "      <th>3</th>\n",
       "      <td>4</td>\n",
       "      <td>9.86</td>\n",
       "      <td>-69.38</td>\n",
       "      <td>629</td>\n",
       "    </tr>\n",
       "    <tr>\n",
       "      <th>4</th>\n",
       "      <td>5</td>\n",
       "      <td>9.86</td>\n",
       "      <td>-69.28</td>\n",
       "      <td>629</td>\n",
       "    </tr>\n",
       "    <tr>\n",
       "      <th>5</th>\n",
       "      <td>6</td>\n",
       "      <td>9.86</td>\n",
       "      <td>-69.18</td>\n",
       "      <td>629</td>\n",
       "    </tr>\n",
       "    <tr>\n",
       "      <th>6</th>\n",
       "      <td>7</td>\n",
       "      <td>9.76</td>\n",
       "      <td>-69.38</td>\n",
       "      <td>629</td>\n",
       "    </tr>\n",
       "    <tr>\n",
       "      <th>7</th>\n",
       "      <td>8</td>\n",
       "      <td>9.76</td>\n",
       "      <td>-69.28</td>\n",
       "      <td>629</td>\n",
       "    </tr>\n",
       "    <tr>\n",
       "      <th>8</th>\n",
       "      <td>9</td>\n",
       "      <td>9.76</td>\n",
       "      <td>-69.18</td>\n",
       "      <td>629</td>\n",
       "    </tr>\n",
       "  </tbody>\n",
       "</table>\n",
       "</div>"
      ],
      "text/plain": [
       "   id_point  latitud  longitud  precipitacion_mm\n",
       "0         1     9.96    -69.38               629\n",
       "1         2     9.96    -69.28               629\n",
       "2         3     9.96    -69.18               629\n",
       "3         4     9.86    -69.38               629\n",
       "4         5     9.86    -69.28               629\n",
       "5         6     9.86    -69.18               629\n",
       "6         7     9.76    -69.38               629\n",
       "7         8     9.76    -69.28               629\n",
       "8         9     9.76    -69.18               629"
      ]
     },
     "execution_count": 16,
     "metadata": {},
     "output_type": "execute_result"
    }
   ],
   "source": [
    "# Cantidad de registros\n",
    "data_pandas[[ 'id_point','latitud', 'longitud','precipitacion_mm']]\\\n",
    "    .groupby(['id_point','latitud', 'longitud'],as_index=False)\\\n",
    "    .count()"
   ]
  },
  {
   "cell_type": "code",
   "execution_count": 17,
   "metadata": {},
   "outputs": [
    {
     "data": {
      "text/plain": [
       "Index(['_id', 'id_point', 'park', 'time', 'elevacion_maxima',\n",
       "       'elevacion_media', 'elevacion_mediana', 'latitud', 'longitud',\n",
       "       'ndvi_maxima', 'ndvi_media', 'ndvi_mediana', 'precipitacion_mm',\n",
       "       'time_actualizacion', 'periodo'],\n",
       "      dtype='object')"
      ]
     },
     "execution_count": 17,
     "metadata": {},
     "output_type": "execute_result"
    }
   ],
   "source": [
    "data_pandas.columns"
   ]
  },
  {
   "cell_type": "code",
   "execution_count": null,
   "metadata": {},
   "outputs": [],
   "source": []
  }
 ],
 "metadata": {
  "kernelspec": {
   "display_name": "Python 3.9.0 ('ssev_analytics')",
   "language": "python",
   "name": "python3"
  },
  "language_info": {
   "codemirror_mode": {
    "name": "ipython",
    "version": 3
   },
   "file_extension": ".py",
   "mimetype": "text/x-python",
   "name": "python",
   "nbconvert_exporter": "python",
   "pygments_lexer": "ipython3",
   "version": "3.9.0"
  },
  "orig_nbformat": 4,
  "vscode": {
   "interpreter": {
    "hash": "7962acab993cb47be2d59fc45292cc4ac077641aa9e9bf66ffc44da07d377859"
   }
  }
 },
 "nbformat": 4,
 "nbformat_minor": 2
}
