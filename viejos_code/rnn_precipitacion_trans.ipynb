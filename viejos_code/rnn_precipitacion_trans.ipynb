{
 "cells": [
  {
   "cell_type": "markdown",
   "metadata": {},
   "source": [
    "## RNN Precipitación Cerro Saroche\n",
    "\n",
    "**PROYECTO:** SISTEMA PARA EL SEGUIMIENTO DE ECOSISTEMAS VENEZOLANOS \\\n",
    "**AUTOR:** Javier Martinez"
   ]
  },
  {
   "cell_type": "markdown",
   "metadata": {},
   "source": [
    "Directorio de trabajo"
   ]
  },
  {
   "cell_type": "code",
   "execution_count": 1,
   "metadata": {},
   "outputs": [
    {
     "name": "stdout",
     "output_type": "stream",
     "text": [
      "> Directorio actual:  /media/javier/Compartida/doctorado/ssev-analytics/cerro_saroche\n",
      "> Directorio actual:  /media/javier/Compartida/doctorado/ssev-analytics\n"
     ]
    }
   ],
   "source": [
    "import os\n",
    "\n",
    "print('> Directorio actual: ', os.getcwd())  \n",
    "os.chdir('../')\n",
    "print('> Directorio actual: ', os.getcwd()) "
   ]
  },
  {
   "cell_type": "code",
   "execution_count": 2,
   "metadata": {},
   "outputs": [],
   "source": [
    "from utils.MONGO import CONEXION\n",
    "from datetime import datetime\n",
    "import pandas as pd\n",
    "import numpy as np\n",
    "\n",
    "from tensorflow import keras\n",
    "\n",
    "from utils.UTILS import *"
   ]
  },
  {
   "cell_type": "markdown",
   "metadata": {},
   "source": [
    "# Creando Coenxión con Mongo DB"
   ]
  },
  {
   "cell_type": "code",
   "execution_count": 3,
   "metadata": {},
   "outputs": [
    {
     "data": {
      "text/plain": [
       "['meteorological', 'estimateSSTNino34', 'SSTNino34']"
      ]
     },
     "execution_count": 3,
     "metadata": {},
     "output_type": "execute_result"
    }
   ],
   "source": [
    "# Creando la conexión con MongoDB\n",
    "db = CONEXION.conexion()\n",
    "db.list_collection_names()"
   ]
  },
  {
   "cell_type": "markdown",
   "metadata": {},
   "source": [
    "# Descargando la Información Precipitación"
   ]
  },
  {
   "cell_type": "code",
   "execution_count": 4,
   "metadata": {},
   "outputs": [
    {
     "data": {
      "text/html": [
       "<div>\n",
       "<style scoped>\n",
       "    .dataframe tbody tr th:only-of-type {\n",
       "        vertical-align: middle;\n",
       "    }\n",
       "\n",
       "    .dataframe tbody tr th {\n",
       "        vertical-align: top;\n",
       "    }\n",
       "\n",
       "    .dataframe thead th {\n",
       "        text-align: right;\n",
       "    }\n",
       "</style>\n",
       "<table border=\"1\" class=\"dataframe\">\n",
       "  <thead>\n",
       "    <tr style=\"text-align: right;\">\n",
       "      <th></th>\n",
       "      <th>_id</th>\n",
       "      <th>id_point</th>\n",
       "      <th>park</th>\n",
       "      <th>time</th>\n",
       "      <th>elevacion_maxima</th>\n",
       "      <th>elevacion_media</th>\n",
       "      <th>elevacion_mediana</th>\n",
       "      <th>latitud</th>\n",
       "      <th>longitud</th>\n",
       "      <th>ndvi_maxima</th>\n",
       "      <th>ndvi_media</th>\n",
       "      <th>ndvi_mediana</th>\n",
       "      <th>precipitacion_mm</th>\n",
       "      <th>time_actualizacion</th>\n",
       "      <th>periodo</th>\n",
       "      <th>mes_year</th>\n",
       "    </tr>\n",
       "    <tr>\n",
       "      <th>periodo</th>\n",
       "      <th></th>\n",
       "      <th></th>\n",
       "      <th></th>\n",
       "      <th></th>\n",
       "      <th></th>\n",
       "      <th></th>\n",
       "      <th></th>\n",
       "      <th></th>\n",
       "      <th></th>\n",
       "      <th></th>\n",
       "      <th></th>\n",
       "      <th></th>\n",
       "      <th></th>\n",
       "      <th></th>\n",
       "      <th></th>\n",
       "      <th></th>\n",
       "    </tr>\n",
       "  </thead>\n",
       "  <tbody>\n",
       "    <tr>\n",
       "      <th>1970-01-01</th>\n",
       "      <td>633988a2eed0e0231b327c97</td>\n",
       "      <td>1</td>\n",
       "      <td>cerro_saroche</td>\n",
       "      <td>719163</td>\n",
       "      <td>921.0</td>\n",
       "      <td>508.541046</td>\n",
       "      <td>491.0</td>\n",
       "      <td>10.31</td>\n",
       "      <td>-69.83</td>\n",
       "      <td>NaN</td>\n",
       "      <td>NaN</td>\n",
       "      <td>NaN</td>\n",
       "      <td>0.913065</td>\n",
       "      <td>738430</td>\n",
       "      <td>1970-01-01</td>\n",
       "      <td>January-1970</td>\n",
       "    </tr>\n",
       "    <tr>\n",
       "      <th>1970-01-01</th>\n",
       "      <td>633988a2eed0e0231b327ca7</td>\n",
       "      <td>2</td>\n",
       "      <td>cerro_saroche</td>\n",
       "      <td>719163</td>\n",
       "      <td>1000.0</td>\n",
       "      <td>625.942932</td>\n",
       "      <td>614.0</td>\n",
       "      <td>10.31</td>\n",
       "      <td>-69.73</td>\n",
       "      <td>NaN</td>\n",
       "      <td>NaN</td>\n",
       "      <td>NaN</td>\n",
       "      <td>0.958915</td>\n",
       "      <td>738430</td>\n",
       "      <td>1970-01-01</td>\n",
       "      <td>January-1970</td>\n",
       "    </tr>\n",
       "    <tr>\n",
       "      <th>1970-01-01</th>\n",
       "      <td>633988a2eed0e0231b327cc0</td>\n",
       "      <td>3</td>\n",
       "      <td>cerro_saroche</td>\n",
       "      <td>719163</td>\n",
       "      <td>1025.0</td>\n",
       "      <td>731.954834</td>\n",
       "      <td>731.0</td>\n",
       "      <td>10.31</td>\n",
       "      <td>-69.63</td>\n",
       "      <td>NaN</td>\n",
       "      <td>NaN</td>\n",
       "      <td>NaN</td>\n",
       "      <td>1.026073</td>\n",
       "      <td>738430</td>\n",
       "      <td>1970-01-01</td>\n",
       "      <td>January-1970</td>\n",
       "    </tr>\n",
       "    <tr>\n",
       "      <th>1970-01-01</th>\n",
       "      <td>633988a2eed0e0231b327ccc</td>\n",
       "      <td>4</td>\n",
       "      <td>cerro_saroche</td>\n",
       "      <td>719163</td>\n",
       "      <td>1103.0</td>\n",
       "      <td>761.129150</td>\n",
       "      <td>737.0</td>\n",
       "      <td>10.31</td>\n",
       "      <td>-69.53</td>\n",
       "      <td>NaN</td>\n",
       "      <td>NaN</td>\n",
       "      <td>NaN</td>\n",
       "      <td>1.095035</td>\n",
       "      <td>738430</td>\n",
       "      <td>1970-01-01</td>\n",
       "      <td>January-1970</td>\n",
       "    </tr>\n",
       "    <tr>\n",
       "      <th>1970-01-01</th>\n",
       "      <td>633988a3eed0e0231b327cdc</td>\n",
       "      <td>5</td>\n",
       "      <td>cerro_saroche</td>\n",
       "      <td>719163</td>\n",
       "      <td>1202.0</td>\n",
       "      <td>726.967285</td>\n",
       "      <td>709.0</td>\n",
       "      <td>10.31</td>\n",
       "      <td>-69.43</td>\n",
       "      <td>NaN</td>\n",
       "      <td>NaN</td>\n",
       "      <td>NaN</td>\n",
       "      <td>1.203287</td>\n",
       "      <td>738430</td>\n",
       "      <td>1970-01-01</td>\n",
       "      <td>January-1970</td>\n",
       "    </tr>\n",
       "  </tbody>\n",
       "</table>\n",
       "</div>"
      ],
      "text/plain": [
       "                                 _id  id_point           park    time  \\\n",
       "periodo                                                                 \n",
       "1970-01-01  633988a2eed0e0231b327c97         1  cerro_saroche  719163   \n",
       "1970-01-01  633988a2eed0e0231b327ca7         2  cerro_saroche  719163   \n",
       "1970-01-01  633988a2eed0e0231b327cc0         3  cerro_saroche  719163   \n",
       "1970-01-01  633988a2eed0e0231b327ccc         4  cerro_saroche  719163   \n",
       "1970-01-01  633988a3eed0e0231b327cdc         5  cerro_saroche  719163   \n",
       "\n",
       "            elevacion_maxima  elevacion_media  elevacion_mediana  latitud  \\\n",
       "periodo                                                                     \n",
       "1970-01-01             921.0       508.541046              491.0    10.31   \n",
       "1970-01-01            1000.0       625.942932              614.0    10.31   \n",
       "1970-01-01            1025.0       731.954834              731.0    10.31   \n",
       "1970-01-01            1103.0       761.129150              737.0    10.31   \n",
       "1970-01-01            1202.0       726.967285              709.0    10.31   \n",
       "\n",
       "            longitud  ndvi_maxima  ndvi_media  ndvi_mediana  precipitacion_mm  \\\n",
       "periodo                                                                         \n",
       "1970-01-01    -69.83          NaN         NaN           NaN          0.913065   \n",
       "1970-01-01    -69.73          NaN         NaN           NaN          0.958915   \n",
       "1970-01-01    -69.63          NaN         NaN           NaN          1.026073   \n",
       "1970-01-01    -69.53          NaN         NaN           NaN          1.095035   \n",
       "1970-01-01    -69.43          NaN         NaN           NaN          1.203287   \n",
       "\n",
       "            time_actualizacion    periodo      mes_year  \n",
       "periodo                                                  \n",
       "1970-01-01              738430 1970-01-01  January-1970  \n",
       "1970-01-01              738430 1970-01-01  January-1970  \n",
       "1970-01-01              738430 1970-01-01  January-1970  \n",
       "1970-01-01              738430 1970-01-01  January-1970  \n",
       "1970-01-01              738430 1970-01-01  January-1970  "
      ]
     },
     "execution_count": 4,
     "metadata": {},
     "output_type": "execute_result"
    }
   ],
   "source": [
    "# Parque\n",
    "park = 'cerro_saroche'\n",
    "\n",
    "# Realizando consulta\n",
    "meteorological = db.meteorological.find({\"park\":park})\n",
    "\n",
    "# Generando pandas dataframe\n",
    "data_pandas = pd.DataFrame([file for file in meteorological])\n",
    "data_pandas['periodo'] = data_pandas.time.apply(lambda x: datetime.fromordinal(x))\n",
    "data_pandas['mes_year'] =  data_pandas['periodo'].dt.strftime('%B-%Y')\n",
    "data_pandas.index = pd.to_datetime(data_pandas.periodo)\n",
    "data_pandas.head()"
   ]
  },
  {
   "cell_type": "code",
   "execution_count": 5,
   "metadata": {},
   "outputs": [
    {
     "name": "stdout",
     "output_type": "stream",
     "text": [
      "(9435, 16)\n"
     ]
    }
   ],
   "source": [
    "# Registros\n",
    "print(data_pandas.shape)"
   ]
  },
  {
   "cell_type": "code",
   "execution_count": 6,
   "metadata": {},
   "outputs": [
    {
     "name": "stdout",
     "output_type": "stream",
     "text": [
      "1970-01-01 00:00:00\n",
      "2022-05-01 00:00:00\n"
     ]
    }
   ],
   "source": [
    "# Data disponible\n",
    "print(data_pandas.index.min())\n",
    "print(data_pandas.index.max())"
   ]
  },
  {
   "cell_type": "code",
   "execution_count": 7,
   "metadata": {},
   "outputs": [],
   "source": [
    "DIR = './cerro_saroche/'"
   ]
  },
  {
   "cell_type": "code",
   "execution_count": 8,
   "metadata": {},
   "outputs": [
    {
     "data": {
      "text/html": [
       "<div>\n",
       "<style scoped>\n",
       "    .dataframe tbody tr th:only-of-type {\n",
       "        vertical-align: middle;\n",
       "    }\n",
       "\n",
       "    .dataframe tbody tr th {\n",
       "        vertical-align: top;\n",
       "    }\n",
       "\n",
       "    .dataframe thead th {\n",
       "        text-align: right;\n",
       "    }\n",
       "</style>\n",
       "<table border=\"1\" class=\"dataframe\">\n",
       "  <thead>\n",
       "    <tr style=\"text-align: right;\">\n",
       "      <th></th>\n",
       "      <th>id_point</th>\n",
       "      <th>latitud</th>\n",
       "      <th>longitud</th>\n",
       "      <th>precipitacion_mm</th>\n",
       "    </tr>\n",
       "  </thead>\n",
       "  <tbody>\n",
       "    <tr>\n",
       "      <th>0</th>\n",
       "      <td>1</td>\n",
       "      <td>10.31</td>\n",
       "      <td>-69.83</td>\n",
       "      <td>629</td>\n",
       "    </tr>\n",
       "    <tr>\n",
       "      <th>1</th>\n",
       "      <td>2</td>\n",
       "      <td>10.31</td>\n",
       "      <td>-69.73</td>\n",
       "      <td>629</td>\n",
       "    </tr>\n",
       "    <tr>\n",
       "      <th>2</th>\n",
       "      <td>3</td>\n",
       "      <td>10.31</td>\n",
       "      <td>-69.63</td>\n",
       "      <td>629</td>\n",
       "    </tr>\n",
       "    <tr>\n",
       "      <th>3</th>\n",
       "      <td>4</td>\n",
       "      <td>10.31</td>\n",
       "      <td>-69.53</td>\n",
       "      <td>629</td>\n",
       "    </tr>\n",
       "    <tr>\n",
       "      <th>4</th>\n",
       "      <td>5</td>\n",
       "      <td>10.31</td>\n",
       "      <td>-69.43</td>\n",
       "      <td>629</td>\n",
       "    </tr>\n",
       "    <tr>\n",
       "      <th>5</th>\n",
       "      <td>6</td>\n",
       "      <td>10.21</td>\n",
       "      <td>-69.83</td>\n",
       "      <td>629</td>\n",
       "    </tr>\n",
       "    <tr>\n",
       "      <th>6</th>\n",
       "      <td>7</td>\n",
       "      <td>10.21</td>\n",
       "      <td>-69.73</td>\n",
       "      <td>629</td>\n",
       "    </tr>\n",
       "    <tr>\n",
       "      <th>7</th>\n",
       "      <td>8</td>\n",
       "      <td>10.21</td>\n",
       "      <td>-69.63</td>\n",
       "      <td>629</td>\n",
       "    </tr>\n",
       "    <tr>\n",
       "      <th>8</th>\n",
       "      <td>9</td>\n",
       "      <td>10.21</td>\n",
       "      <td>-69.53</td>\n",
       "      <td>629</td>\n",
       "    </tr>\n",
       "    <tr>\n",
       "      <th>9</th>\n",
       "      <td>10</td>\n",
       "      <td>10.21</td>\n",
       "      <td>-69.43</td>\n",
       "      <td>629</td>\n",
       "    </tr>\n",
       "    <tr>\n",
       "      <th>10</th>\n",
       "      <td>11</td>\n",
       "      <td>10.11</td>\n",
       "      <td>-69.83</td>\n",
       "      <td>629</td>\n",
       "    </tr>\n",
       "    <tr>\n",
       "      <th>11</th>\n",
       "      <td>12</td>\n",
       "      <td>10.11</td>\n",
       "      <td>-69.73</td>\n",
       "      <td>629</td>\n",
       "    </tr>\n",
       "    <tr>\n",
       "      <th>12</th>\n",
       "      <td>13</td>\n",
       "      <td>10.11</td>\n",
       "      <td>-69.63</td>\n",
       "      <td>629</td>\n",
       "    </tr>\n",
       "    <tr>\n",
       "      <th>13</th>\n",
       "      <td>14</td>\n",
       "      <td>10.11</td>\n",
       "      <td>-69.53</td>\n",
       "      <td>629</td>\n",
       "    </tr>\n",
       "    <tr>\n",
       "      <th>14</th>\n",
       "      <td>15</td>\n",
       "      <td>10.11</td>\n",
       "      <td>-69.43</td>\n",
       "      <td>629</td>\n",
       "    </tr>\n",
       "  </tbody>\n",
       "</table>\n",
       "</div>"
      ],
      "text/plain": [
       "    id_point  latitud  longitud  precipitacion_mm\n",
       "0          1    10.31    -69.83               629\n",
       "1          2    10.31    -69.73               629\n",
       "2          3    10.31    -69.63               629\n",
       "3          4    10.31    -69.53               629\n",
       "4          5    10.31    -69.43               629\n",
       "5          6    10.21    -69.83               629\n",
       "6          7    10.21    -69.73               629\n",
       "7          8    10.21    -69.63               629\n",
       "8          9    10.21    -69.53               629\n",
       "9         10    10.21    -69.43               629\n",
       "10        11    10.11    -69.83               629\n",
       "11        12    10.11    -69.73               629\n",
       "12        13    10.11    -69.63               629\n",
       "13        14    10.11    -69.53               629\n",
       "14        15    10.11    -69.43               629"
      ]
     },
     "execution_count": 8,
     "metadata": {},
     "output_type": "execute_result"
    }
   ],
   "source": [
    "# Cantidad de registros\n",
    "park_points = data_pandas[[ 'id_point','latitud', 'longitud','precipitacion_mm']]\\\n",
    "                .groupby(['id_point','latitud', 'longitud'],as_index=False)\\\n",
    "                .count()\n",
    "\n",
    "# Guardando resumen de experimentos\n",
    "park_points.to_csv(DIR + 'summary/poinst.csv')\n",
    "park_points"
   ]
  },
  {
   "cell_type": "code",
   "execution_count": 9,
   "metadata": {},
   "outputs": [
    {
     "data": {
      "text/html": [
       "<div>\n",
       "<style scoped>\n",
       "    .dataframe tbody tr th:only-of-type {\n",
       "        vertical-align: middle;\n",
       "    }\n",
       "\n",
       "    .dataframe tbody tr th {\n",
       "        vertical-align: top;\n",
       "    }\n",
       "\n",
       "    .dataframe thead th {\n",
       "        text-align: right;\n",
       "    }\n",
       "</style>\n",
       "<table border=\"1\" class=\"dataframe\">\n",
       "  <thead>\n",
       "    <tr style=\"text-align: right;\">\n",
       "      <th></th>\n",
       "      <th>id_point</th>\n",
       "      <th>latitud</th>\n",
       "      <th>longitud</th>\n",
       "      <th>precipitacion_mm</th>\n",
       "    </tr>\n",
       "    <tr>\n",
       "      <th>periodo</th>\n",
       "      <th></th>\n",
       "      <th></th>\n",
       "      <th></th>\n",
       "      <th></th>\n",
       "    </tr>\n",
       "  </thead>\n",
       "  <tbody>\n",
       "    <tr>\n",
       "      <th>1970-01-01</th>\n",
       "      <td>1</td>\n",
       "      <td>10.31</td>\n",
       "      <td>-69.83</td>\n",
       "      <td>0.913065</td>\n",
       "    </tr>\n",
       "    <tr>\n",
       "      <th>1970-01-01</th>\n",
       "      <td>2</td>\n",
       "      <td>10.31</td>\n",
       "      <td>-69.73</td>\n",
       "      <td>0.958915</td>\n",
       "    </tr>\n",
       "    <tr>\n",
       "      <th>1970-01-01</th>\n",
       "      <td>3</td>\n",
       "      <td>10.31</td>\n",
       "      <td>-69.63</td>\n",
       "      <td>1.026073</td>\n",
       "    </tr>\n",
       "    <tr>\n",
       "      <th>1970-01-01</th>\n",
       "      <td>4</td>\n",
       "      <td>10.31</td>\n",
       "      <td>-69.53</td>\n",
       "      <td>1.095035</td>\n",
       "    </tr>\n",
       "    <tr>\n",
       "      <th>1970-01-01</th>\n",
       "      <td>5</td>\n",
       "      <td>10.31</td>\n",
       "      <td>-69.43</td>\n",
       "      <td>1.203287</td>\n",
       "    </tr>\n",
       "  </tbody>\n",
       "</table>\n",
       "</div>"
      ],
      "text/plain": [
       "            id_point  latitud  longitud  precipitacion_mm\n",
       "periodo                                                  \n",
       "1970-01-01         1    10.31    -69.83          0.913065\n",
       "1970-01-01         2    10.31    -69.73          0.958915\n",
       "1970-01-01         3    10.31    -69.63          1.026073\n",
       "1970-01-01         4    10.31    -69.53          1.095035\n",
       "1970-01-01         5    10.31    -69.43          1.203287"
      ]
     },
     "execution_count": 9,
     "metadata": {},
     "output_type": "execute_result"
    }
   ],
   "source": [
    "pd_precipitacion = data_pandas[['id_point', 'latitud', 'longitud',\n",
    "                                'precipitacion_mm']]\n",
    "pd_precipitacion.head()"
   ]
  },
  {
   "cell_type": "code",
   "execution_count": 10,
   "metadata": {},
   "outputs": [],
   "source": [
    "months = 1\n",
    "\n",
    "list_data = []\n",
    "\n",
    "for id in pd_precipitacion.id_point.unique().tolist():\n",
    "\n",
    "    data = pd_precipitacion.query(f'id_point=={id}').copy()\n",
    "\n",
    "    y_dif = []\n",
    "    y_pro = []\n",
    "    for t in data.index[1:]:\n",
    "\n",
    "        dif_preci = data[data.index==t]['precipitacion_mm'].values[0] - data[data.index==(t - pd.DateOffset(months=months))]['precipitacion_mm'].values[0] \n",
    "        pro_preci = dif_preci/data[data.index==(t - pd.DateOffset(months=months))]['precipitacion_mm'].values[0] \n",
    "\n",
    "        y_dif.append(dif_preci)\n",
    "        y_pro.append(pro_preci)\n",
    "\n",
    "    data_trans = data[1:].copy()\n",
    "    data_trans['dif_precipitacion_mm'] = y_dif\n",
    "    data_trans['pro_precipitacion_mm'] = y_pro\n",
    "\n",
    "    list_data.append(data_trans)\n",
    "\n",
    "pd_precipitacion_trans = pd.concat(list_data)"
   ]
  },
  {
   "cell_type": "code",
   "execution_count": 11,
   "metadata": {},
   "outputs": [
    {
     "data": {
      "text/html": [
       "<div>\n",
       "<style scoped>\n",
       "    .dataframe tbody tr th:only-of-type {\n",
       "        vertical-align: middle;\n",
       "    }\n",
       "\n",
       "    .dataframe tbody tr th {\n",
       "        vertical-align: top;\n",
       "    }\n",
       "\n",
       "    .dataframe thead th {\n",
       "        text-align: right;\n",
       "    }\n",
       "</style>\n",
       "<table border=\"1\" class=\"dataframe\">\n",
       "  <thead>\n",
       "    <tr style=\"text-align: right;\">\n",
       "      <th></th>\n",
       "      <th>id_point</th>\n",
       "      <th>latitud</th>\n",
       "      <th>longitud</th>\n",
       "      <th>precipitacion_mm</th>\n",
       "      <th>dif_precipitacion_mm</th>\n",
       "      <th>pro_precipitacion_mm</th>\n",
       "    </tr>\n",
       "    <tr>\n",
       "      <th>periodo</th>\n",
       "      <th></th>\n",
       "      <th></th>\n",
       "      <th></th>\n",
       "      <th></th>\n",
       "      <th></th>\n",
       "      <th></th>\n",
       "    </tr>\n",
       "  </thead>\n",
       "  <tbody>\n",
       "    <tr>\n",
       "      <th>1970-02-01</th>\n",
       "      <td>1</td>\n",
       "      <td>10.31</td>\n",
       "      <td>-69.83</td>\n",
       "      <td>0.081278</td>\n",
       "      <td>-0.831787</td>\n",
       "      <td>-0.910983</td>\n",
       "    </tr>\n",
       "    <tr>\n",
       "      <th>1970-03-01</th>\n",
       "      <td>1</td>\n",
       "      <td>10.31</td>\n",
       "      <td>-69.83</td>\n",
       "      <td>0.413783</td>\n",
       "      <td>0.332504</td>\n",
       "      <td>4.090928</td>\n",
       "    </tr>\n",
       "    <tr>\n",
       "      <th>1970-04-01</th>\n",
       "      <td>1</td>\n",
       "      <td>10.31</td>\n",
       "      <td>-69.83</td>\n",
       "      <td>0.895653</td>\n",
       "      <td>0.481870</td>\n",
       "      <td>1.164550</td>\n",
       "    </tr>\n",
       "    <tr>\n",
       "      <th>1970-05-01</th>\n",
       "      <td>1</td>\n",
       "      <td>10.31</td>\n",
       "      <td>-69.83</td>\n",
       "      <td>2.909450</td>\n",
       "      <td>2.013797</td>\n",
       "      <td>2.248411</td>\n",
       "    </tr>\n",
       "    <tr>\n",
       "      <th>1970-06-01</th>\n",
       "      <td>1</td>\n",
       "      <td>10.31</td>\n",
       "      <td>-69.83</td>\n",
       "      <td>1.247108</td>\n",
       "      <td>-1.662342</td>\n",
       "      <td>-0.571359</td>\n",
       "    </tr>\n",
       "  </tbody>\n",
       "</table>\n",
       "</div>"
      ],
      "text/plain": [
       "            id_point  latitud  longitud  precipitacion_mm  \\\n",
       "periodo                                                     \n",
       "1970-02-01         1    10.31    -69.83          0.081278   \n",
       "1970-03-01         1    10.31    -69.83          0.413783   \n",
       "1970-04-01         1    10.31    -69.83          0.895653   \n",
       "1970-05-01         1    10.31    -69.83          2.909450   \n",
       "1970-06-01         1    10.31    -69.83          1.247108   \n",
       "\n",
       "            dif_precipitacion_mm  pro_precipitacion_mm  \n",
       "periodo                                                 \n",
       "1970-02-01             -0.831787             -0.910983  \n",
       "1970-03-01              0.332504              4.090928  \n",
       "1970-04-01              0.481870              1.164550  \n",
       "1970-05-01              2.013797              2.248411  \n",
       "1970-06-01             -1.662342             -0.571359  "
      ]
     },
     "execution_count": 11,
     "metadata": {},
     "output_type": "execute_result"
    }
   ],
   "source": [
    "pd_precipitacion_trans.head()"
   ]
  },
  {
   "cell_type": "markdown",
   "metadata": {},
   "source": [
    "# Cargando data SST"
   ]
  },
  {
   "cell_type": "code",
   "execution_count": 12,
   "metadata": {},
   "outputs": [
    {
     "data": {
      "text/html": [
       "<div>\n",
       "<style scoped>\n",
       "    .dataframe tbody tr th:only-of-type {\n",
       "        vertical-align: middle;\n",
       "    }\n",
       "\n",
       "    .dataframe tbody tr th {\n",
       "        vertical-align: top;\n",
       "    }\n",
       "\n",
       "    .dataframe thead th {\n",
       "        text-align: right;\n",
       "    }\n",
       "</style>\n",
       "<table border=\"1\" class=\"dataframe\">\n",
       "  <thead>\n",
       "    <tr style=\"text-align: right;\">\n",
       "      <th></th>\n",
       "      <th>oni</th>\n",
       "      <th>time</th>\n",
       "      <th>periodo</th>\n",
       "    </tr>\n",
       "    <tr>\n",
       "      <th>periodo</th>\n",
       "      <th></th>\n",
       "      <th></th>\n",
       "      <th></th>\n",
       "    </tr>\n",
       "  </thead>\n",
       "  <tbody>\n",
       "    <tr>\n",
       "      <th>1950-01-01</th>\n",
       "      <td>-1.470000</td>\n",
       "      <td>711858</td>\n",
       "      <td>1950-01-01</td>\n",
       "    </tr>\n",
       "    <tr>\n",
       "      <th>1950-02-01</th>\n",
       "      <td>-1.336667</td>\n",
       "      <td>711889</td>\n",
       "      <td>1950-02-01</td>\n",
       "    </tr>\n",
       "    <tr>\n",
       "      <th>1950-03-01</th>\n",
       "      <td>-1.163333</td>\n",
       "      <td>711917</td>\n",
       "      <td>1950-03-01</td>\n",
       "    </tr>\n",
       "    <tr>\n",
       "      <th>1950-04-01</th>\n",
       "      <td>-1.180000</td>\n",
       "      <td>711948</td>\n",
       "      <td>1950-04-01</td>\n",
       "    </tr>\n",
       "    <tr>\n",
       "      <th>1950-05-01</th>\n",
       "      <td>-1.070000</td>\n",
       "      <td>711978</td>\n",
       "      <td>1950-05-01</td>\n",
       "    </tr>\n",
       "  </tbody>\n",
       "</table>\n",
       "</div>"
      ],
      "text/plain": [
       "                 oni    time    periodo\n",
       "periodo                                \n",
       "1950-01-01 -1.470000  711858 1950-01-01\n",
       "1950-02-01 -1.336667  711889 1950-02-01\n",
       "1950-03-01 -1.163333  711917 1950-03-01\n",
       "1950-04-01 -1.180000  711948 1950-04-01\n",
       "1950-05-01 -1.070000  711978 1950-05-01"
      ]
     },
     "execution_count": 12,
     "metadata": {},
     "output_type": "execute_result"
    }
   ],
   "source": [
    "# Realizando consulta\n",
    "data_sst = db.estimateSSTNino34.find()\n",
    "\n",
    "# Generando pandas dataframe\n",
    "pd_sst = pd.DataFrame([file for file in data_sst])[['oni','time']]\n",
    "pd_sst['periodo'] = pd_sst.time.apply(lambda x: datetime.fromordinal(x))\n",
    "pd_sst.index = pd.to_datetime(pd_sst.periodo)\n",
    "pd_sst\n",
    "\n",
    "pd_sst.head()"
   ]
  },
  {
   "cell_type": "code",
   "execution_count": 13,
   "metadata": {},
   "outputs": [],
   "source": [
    "oni_max = pd_sst.oni.max()\n",
    "oni_min = pd_sst.oni.min()\n",
    "\n",
    "pd_sst['oni'] = pd_sst['oni'].apply(lambda x: (x-oni_min)/(oni_max-oni_min))"
   ]
  },
  {
   "cell_type": "code",
   "execution_count": 14,
   "metadata": {},
   "outputs": [
    {
     "data": {
      "text/plain": [
       "<AxesSubplot:xlabel='periodo'>"
      ]
     },
     "execution_count": 14,
     "metadata": {},
     "output_type": "execute_result"
    },
    {
     "data": {
      "image/png": "[encoded data removed]",
      "text/plain": [
       "<Figure size 432x288 with 1 Axes>"
      ]
     },
     "metadata": {
      "needs_background": "light"
     },
     "output_type": "display_data"
    }
   ],
   "source": [
    "pd_sst.oni.plot()"
   ]
  },
  {
   "cell_type": "markdown",
   "metadata": {},
   "source": [
    "# Integrando base de datos"
   ]
  },
  {
   "cell_type": "code",
   "execution_count": 15,
   "metadata": {},
   "outputs": [],
   "source": [
    "# Entrenamiento\n",
    "pd_model = pd.merge(pd_precipitacion_trans.reset_index(drop=False),pd_sst[['oni']].reset_index(drop=False),\n",
    "                    on=['periodo'],\n",
    "                    how='left'\n",
    "                    )\n",
    "\n",
    "# Pronostico\n",
    "pd_sst_pron = pd_sst[['periodo','oni']][pd_sst.periodo > pd_model.periodo.max()].copy()"
   ]
  },
  {
   "cell_type": "code",
   "execution_count": 16,
   "metadata": {},
   "outputs": [
    {
     "data": {
      "text/html": [
       "<div>\n",
       "<style scoped>\n",
       "    .dataframe tbody tr th:only-of-type {\n",
       "        vertical-align: middle;\n",
       "    }\n",
       "\n",
       "    .dataframe tbody tr th {\n",
       "        vertical-align: top;\n",
       "    }\n",
       "\n",
       "    .dataframe thead th {\n",
       "        text-align: right;\n",
       "    }\n",
       "</style>\n",
       "<table border=\"1\" class=\"dataframe\">\n",
       "  <thead>\n",
       "    <tr style=\"text-align: right;\">\n",
       "      <th></th>\n",
       "      <th>periodo</th>\n",
       "      <th>id_point</th>\n",
       "      <th>latitud</th>\n",
       "      <th>longitud</th>\n",
       "      <th>precipitacion_mm</th>\n",
       "      <th>dif_precipitacion_mm</th>\n",
       "      <th>pro_precipitacion_mm</th>\n",
       "      <th>oni</th>\n",
       "    </tr>\n",
       "  </thead>\n",
       "  <tbody>\n",
       "    <tr>\n",
       "      <th>0</th>\n",
       "      <td>1970-02-01</td>\n",
       "      <td>1</td>\n",
       "      <td>10.31</td>\n",
       "      <td>-69.83</td>\n",
       "      <td>0.081278</td>\n",
       "      <td>-0.831787</td>\n",
       "      <td>-0.910983</td>\n",
       "      <td>0.506771</td>\n",
       "    </tr>\n",
       "    <tr>\n",
       "      <th>1</th>\n",
       "      <td>1970-03-01</td>\n",
       "      <td>1</td>\n",
       "      <td>10.31</td>\n",
       "      <td>-69.83</td>\n",
       "      <td>0.413783</td>\n",
       "      <td>0.332504</td>\n",
       "      <td>4.090928</td>\n",
       "      <td>0.497505</td>\n",
       "    </tr>\n",
       "    <tr>\n",
       "      <th>2</th>\n",
       "      <td>1970-04-01</td>\n",
       "      <td>1</td>\n",
       "      <td>10.31</td>\n",
       "      <td>-69.83</td>\n",
       "      <td>0.895653</td>\n",
       "      <td>0.481870</td>\n",
       "      <td>1.164550</td>\n",
       "      <td>0.476123</td>\n",
       "    </tr>\n",
       "    <tr>\n",
       "      <th>3</th>\n",
       "      <td>1970-05-01</td>\n",
       "      <td>1</td>\n",
       "      <td>10.31</td>\n",
       "      <td>-69.83</td>\n",
       "      <td>2.909450</td>\n",
       "      <td>2.013797</td>\n",
       "      <td>2.248411</td>\n",
       "      <td>0.444048</td>\n",
       "    </tr>\n",
       "    <tr>\n",
       "      <th>4</th>\n",
       "      <td>1970-06-01</td>\n",
       "      <td>1</td>\n",
       "      <td>10.31</td>\n",
       "      <td>-69.83</td>\n",
       "      <td>1.247108</td>\n",
       "      <td>-1.662342</td>\n",
       "      <td>-0.571359</td>\n",
       "      <td>0.369922</td>\n",
       "    </tr>\n",
       "  </tbody>\n",
       "</table>\n",
       "</div>"
      ],
      "text/plain": [
       "     periodo  id_point  latitud  longitud  precipitacion_mm  \\\n",
       "0 1970-02-01         1    10.31    -69.83          0.081278   \n",
       "1 1970-03-01         1    10.31    -69.83          0.413783   \n",
       "2 1970-04-01         1    10.31    -69.83          0.895653   \n",
       "3 1970-05-01         1    10.31    -69.83          2.909450   \n",
       "4 1970-06-01         1    10.31    -69.83          1.247108   \n",
       "\n",
       "   dif_precipitacion_mm  pro_precipitacion_mm       oni  \n",
       "0             -0.831787             -0.910983  0.506771  \n",
       "1              0.332504              4.090928  0.497505  \n",
       "2              0.481870              1.164550  0.476123  \n",
       "3              2.013797              2.248411  0.444048  \n",
       "4             -1.662342             -0.571359  0.369922  "
      ]
     },
     "execution_count": 16,
     "metadata": {},
     "output_type": "execute_result"
    }
   ],
   "source": [
    "pd_model.head()"
   ]
  },
  {
   "cell_type": "markdown",
   "metadata": {},
   "source": [
    "# Ajustando modelo RNN"
   ]
  },
  {
   "cell_type": "code",
   "execution_count": 17,
   "metadata": {},
   "outputs": [],
   "source": [
    "id_point = 1\n",
    "y_output = 'precip_t'\n",
    "feature = 'oni'\n",
    "\n",
    "prediction_order = 12 # rango de prediccion\n",
    "auto_order = 20*12 # componente autoregresiva"
   ]
  },
  {
   "cell_type": "code",
   "execution_count": 18,
   "metadata": {},
   "outputs": [
    {
     "data": {
      "text/html": [
       "<div>\n",
       "<style scoped>\n",
       "    .dataframe tbody tr th:only-of-type {\n",
       "        vertical-align: middle;\n",
       "    }\n",
       "\n",
       "    .dataframe tbody tr th {\n",
       "        vertical-align: top;\n",
       "    }\n",
       "\n",
       "    .dataframe thead th {\n",
       "        text-align: right;\n",
       "    }\n",
       "</style>\n",
       "<table border=\"1\" class=\"dataframe\">\n",
       "  <thead>\n",
       "    <tr style=\"text-align: right;\">\n",
       "      <th></th>\n",
       "      <th>precip_t</th>\n",
       "      <th>oni</th>\n",
       "    </tr>\n",
       "    <tr>\n",
       "      <th>periodo</th>\n",
       "      <th></th>\n",
       "      <th></th>\n",
       "    </tr>\n",
       "  </thead>\n",
       "  <tbody>\n",
       "    <tr>\n",
       "      <th>1970-02-01</th>\n",
       "      <td>0.440730</td>\n",
       "      <td>0.506771</td>\n",
       "    </tr>\n",
       "    <tr>\n",
       "      <th>1970-03-01</th>\n",
       "      <td>0.523449</td>\n",
       "      <td>0.497505</td>\n",
       "    </tr>\n",
       "    <tr>\n",
       "      <th>1970-04-01</th>\n",
       "      <td>0.534061</td>\n",
       "      <td>0.476123</td>\n",
       "    </tr>\n",
       "    <tr>\n",
       "      <th>1970-05-01</th>\n",
       "      <td>0.642900</td>\n",
       "      <td>0.444048</td>\n",
       "    </tr>\n",
       "    <tr>\n",
       "      <th>1970-06-01</th>\n",
       "      <td>0.381721</td>\n",
       "      <td>0.369922</td>\n",
       "    </tr>\n",
       "  </tbody>\n",
       "</table>\n",
       "</div>"
      ],
      "text/plain": [
       "            precip_t       oni\n",
       "periodo                       \n",
       "1970-02-01  0.440730  0.506771\n",
       "1970-03-01  0.523449  0.497505\n",
       "1970-04-01  0.534061  0.476123\n",
       "1970-05-01  0.642900  0.444048\n",
       "1970-06-01  0.381721  0.369922"
      ]
     },
     "execution_count": 18,
     "metadata": {},
     "output_type": "execute_result"
    }
   ],
   "source": [
    "# Data\n",
    "data_pd = pd_model.query(f'id_point=={id_point}').copy()\n",
    "data_pd.index = pd.to_datetime(data_pd.periodo)\n",
    "\n",
    "from sklearn.preprocessing import MinMaxScaler\n",
    "pre_scaler = MinMaxScaler()\n",
    "\n",
    "pre_scaler.fit(data_pd[['dif_precipitacion_mm']])\n",
    "data_pd['precip_t']  = pre_scaler.transform(data_pd[['dif_precipitacion_mm']])\n",
    "\n",
    "data_pd = data_pd[[y_output,feature]].sort_index().copy()\n",
    "data_pd.head()"
   ]
  },
  {
   "cell_type": "code",
   "execution_count": 19,
   "metadata": {},
   "outputs": [
    {
     "data": {
      "text/plain": [
       "<AxesSubplot:xlabel='periodo'>"
      ]
     },
     "execution_count": 19,
     "metadata": {},
     "output_type": "execute_result"
    },
    {
     "data": {
      "image/png": "[encoded data removed]",
      "text/plain": [
       "<Figure size 432x288 with 1 Axes>"
      ]
     },
     "metadata": {
      "needs_background": "light"
     },
     "output_type": "display_data"
    }
   ],
   "source": [
    "data_pd.precip_t.plot()"
   ]
  },
  {
   "cell_type": "markdown",
   "metadata": {},
   "source": [
    "Redefiniendo serie temporal"
   ]
  },
  {
   "cell_type": "code",
   "execution_count": 20,
   "metadata": {},
   "outputs": [],
   "source": [
    "x_data = []\n",
    "y_data = []\n",
    "\n",
    "for t in range(auto_order+1, data_pd.shape[0]+1):\n",
    "    x_data.append( np.array(data_pd[(t-auto_order-1):(t-1)]) )\n",
    "    y_data.append( np.array( data_pd[(t-auto_order-1):t][[y_output]] )[-1] )"
   ]
  },
  {
   "cell_type": "code",
   "execution_count": 21,
   "metadata": {},
   "outputs": [],
   "source": [
    "x_data = np.array(x_data)\n",
    "y_data = np.array(y_data).reshape(x_data.shape[0],1,1)"
   ]
  },
  {
   "cell_type": "markdown",
   "metadata": {},
   "source": [
    "Entrenamiento y validación"
   ]
  },
  {
   "cell_type": "code",
   "execution_count": 22,
   "metadata": {},
   "outputs": [
    {
     "name": "stdout",
     "output_type": "stream",
     "text": [
      "(376, 240, 2)\n",
      "(12, 240, 2)\n",
      "(376, 1, 1)\n",
      "(12, 1, 1)\n"
     ]
    }
   ],
   "source": [
    "x_train = x_data[:-prediction_order]\n",
    "x_vasl = x_data[-prediction_order:]\n",
    "\n",
    "y_train = y_data[:-prediction_order]\n",
    "y_vasl = y_data[-prediction_order:]\n",
    "\n",
    "print(x_train.shape)\n",
    "print(x_vasl.shape)\n",
    "\n",
    "print(y_train.shape)\n",
    "print(y_vasl.shape)"
   ]
  },
  {
   "cell_type": "markdown",
   "metadata": {},
   "source": [
    "Modelos RNN"
   ]
  },
  {
   "cell_type": "code",
   "execution_count": 23,
   "metadata": {},
   "outputs": [],
   "source": [
    "import os\n",
    "os.environ['TF_CPP_MIN_LOG_LEVEL'] = '2'"
   ]
  },
  {
   "cell_type": "code",
   "execution_count": 24,
   "metadata": {},
   "outputs": [],
   "source": [
    "# Metrícas\n",
    "mae = keras.metrics.MeanAbsoluteError()\n",
    "rmse = keras.metrics.RootMeanSquaredError()"
   ]
  },
  {
   "cell_type": "code",
   "execution_count": 25,
   "metadata": {},
   "outputs": [],
   "source": [
    "model = keras.models.Sequential()\n",
    "\n",
    "rate = 0.2\n",
    "model.add(keras.layers.LSTM(auto_order, return_sequences=False ))\n",
    "# model.add(keras.layers.Dropout(rate))\n",
    "\n",
    "# model.add(keras.layers.LSTM(auto_order, return_sequences=False ))\n",
    "# model.add(keras.layers.Dropout(rate-0.1))\n",
    "\n",
    "model.add(keras.layers.Dense(1))\n",
    "\n",
    "model.compile(loss='mean_squared_error', optimizer='adam', metrics=[mae,rmse]) "
   ]
  },
  {
   "cell_type": "code",
   "execution_count": 26,
   "metadata": {},
   "outputs": [],
   "source": [
    "callback = keras.callbacks.EarlyStopping(\n",
    "                                            monitor=\"loss\",\n",
    "                                            min_delta=0,\n",
    "                                            patience=10,\n",
    "                                            verbose=0,\n",
    "                                            mode=\"min\",\n",
    "                                            baseline=None,\n",
    "                                            restore_best_weights=False,\n",
    "                                        )"
   ]
  },
  {
   "cell_type": "markdown",
   "metadata": {},
   "source": [
    "Entrenamiento"
   ]
  },
  {
   "cell_type": "code",
   "execution_count": 27,
   "metadata": {},
   "outputs": [],
   "source": [
    "epochs=500\n",
    "\n",
    "history = model.fit(x=x_train,\n",
    "                    y=y_train,\n",
    "                    epochs=epochs,\n",
    "                    batch_size=1,\n",
    "                    verbose=0,\n",
    "                    workers=2,\n",
    "                    callbacks=[callback])"
   ]
  },
  {
   "cell_type": "code",
   "execution_count": 28,
   "metadata": {},
   "outputs": [
    {
     "name": "stdout",
     "output_type": "stream",
     "text": [
      "Total epocas:80\n"
     ]
    }
   ],
   "source": [
    "print(f'Total epocas:{len(history.epoch)}')"
   ]
  },
  {
   "cell_type": "markdown",
   "metadata": {},
   "source": [
    "Evaluación"
   ]
  },
  {
   "cell_type": "code",
   "execution_count": 29,
   "metadata": {},
   "outputs": [],
   "source": [
    "# make predictions\n",
    "trainPredict = model.predict(x_train, verbose=0).reshape(-1)\n",
    "testPredict = model.predict(x_vasl, verbose=0).reshape(-1)"
   ]
  },
  {
   "cell_type": "code",
   "execution_count": 30,
   "metadata": {},
   "outputs": [
    {
     "data": {
      "text/plain": [
       "(376,)"
      ]
     },
     "execution_count": 30,
     "metadata": {},
     "output_type": "execute_result"
    }
   ],
   "source": [
    "trainPredict.shape"
   ]
  },
  {
   "cell_type": "code",
   "execution_count": 31,
   "metadata": {},
   "outputs": [
    {
     "data": {
      "text/html": [
       "<div>\n",
       "<style scoped>\n",
       "    .dataframe tbody tr th:only-of-type {\n",
       "        vertical-align: middle;\n",
       "    }\n",
       "\n",
       "    .dataframe tbody tr th {\n",
       "        vertical-align: top;\n",
       "    }\n",
       "\n",
       "    .dataframe thead th {\n",
       "        text-align: right;\n",
       "    }\n",
       "</style>\n",
       "<table border=\"1\" class=\"dataframe\">\n",
       "  <thead>\n",
       "    <tr style=\"text-align: right;\">\n",
       "      <th></th>\n",
       "      <th>prediction</th>\n",
       "      <th>precip_t</th>\n",
       "      <th>type</th>\n",
       "    </tr>\n",
       "    <tr>\n",
       "      <th>periodo</th>\n",
       "      <th></th>\n",
       "      <th></th>\n",
       "      <th></th>\n",
       "    </tr>\n",
       "  </thead>\n",
       "  <tbody>\n",
       "    <tr>\n",
       "      <th>1990-02-01</th>\n",
       "      <td>0.434017</td>\n",
       "      <td>0.517333</td>\n",
       "      <td>training</td>\n",
       "    </tr>\n",
       "    <tr>\n",
       "      <th>1990-03-01</th>\n",
       "      <td>0.477031</td>\n",
       "      <td>0.479003</td>\n",
       "      <td>training</td>\n",
       "    </tr>\n",
       "    <tr>\n",
       "      <th>1990-04-01</th>\n",
       "      <td>0.545849</td>\n",
       "      <td>0.657875</td>\n",
       "      <td>training</td>\n",
       "    </tr>\n",
       "    <tr>\n",
       "      <th>1990-05-01</th>\n",
       "      <td>0.409142</td>\n",
       "      <td>0.517005</td>\n",
       "      <td>training</td>\n",
       "    </tr>\n",
       "    <tr>\n",
       "      <th>1990-06-01</th>\n",
       "      <td>0.402017</td>\n",
       "      <td>0.353179</td>\n",
       "      <td>training</td>\n",
       "    </tr>\n",
       "  </tbody>\n",
       "</table>\n",
       "</div>"
      ],
      "text/plain": [
       "            prediction  precip_t      type\n",
       "periodo                                   \n",
       "1990-02-01    0.434017  0.517333  training\n",
       "1990-03-01    0.477031  0.479003  training\n",
       "1990-04-01    0.545849  0.657875  training\n",
       "1990-05-01    0.409142  0.517005  training\n",
       "1990-06-01    0.402017  0.353179  training"
      ]
     },
     "execution_count": 31,
     "metadata": {},
     "output_type": "execute_result"
    }
   ],
   "source": [
    "# Data de test\n",
    "trainind_pd = pd.DataFrame(trainPredict,\n",
    "                            index = data_pd.index[:-prediction_order][-len(trainPredict):],\n",
    "                            columns=['prediction']\n",
    "                            )\n",
    "\n",
    "trainind_pd[y_output] = y_train.reshape(-1)\n",
    "trainind_pd['type'] = 'training'\n",
    "# trainind_pd['precipitacion_mm'] = trainind_pd[y_output].apply(lambda x: transformacion.inversa(x) if np.isnan(x)==False else np.nan )\n",
    "# trainind_pd['prediction_precipitacion_mm'] = trainind_pd['prediction'].apply(lambda x: transformacion.inversa(x) if np.isnan(x)==False else np.nan )\n",
    "\n",
    "trainind_pd.head()"
   ]
  },
  {
   "cell_type": "code",
   "execution_count": 32,
   "metadata": {},
   "outputs": [
    {
     "data": {
      "text/plain": [
       "<AxesSubplot:xlabel='periodo'>"
      ]
     },
     "execution_count": 32,
     "metadata": {},
     "output_type": "execute_result"
    },
    {
     "data": {
      "image/png": "[encoded data removed]",
      "text/plain": [
       "<Figure size 432x288 with 1 Axes>"
      ]
     },
     "metadata": {
      "needs_background": "light"
     },
     "output_type": "display_data"
    }
   ],
   "source": [
    "trainind_pd[['precip_t','prediction']].plot()"
   ]
  },
  {
   "cell_type": "code",
   "execution_count": 33,
   "metadata": {},
   "outputs": [
    {
     "data": {
      "text/plain": [
       "{'mape': 121852134491516.84,\n",
       " 'mae': 0.05465669647178779,\n",
       " 'mse': 0.07870100451762876,\n",
       " 'rmse': 0.006193848112083822,\n",
       " 'r2': 0.4787062197843349}"
      ]
     },
     "execution_count": 33,
     "metadata": {},
     "output_type": "execute_result"
    }
   ],
   "source": [
    "trainig_metrics = metrics(observado=trainind_pd.precip_t,prediccion=trainind_pd.prediction)\n",
    "trainig_metrics"
   ]
  },
  {
   "cell_type": "code",
   "execution_count": 35,
   "metadata": {},
   "outputs": [
    {
     "data": {
      "text/html": [
       "<div>\n",
       "<style scoped>\n",
       "    .dataframe tbody tr th:only-of-type {\n",
       "        vertical-align: middle;\n",
       "    }\n",
       "\n",
       "    .dataframe tbody tr th {\n",
       "        vertical-align: top;\n",
       "    }\n",
       "\n",
       "    .dataframe thead th {\n",
       "        text-align: right;\n",
       "    }\n",
       "</style>\n",
       "<table border=\"1\" class=\"dataframe\">\n",
       "  <thead>\n",
       "    <tr style=\"text-align: right;\">\n",
       "      <th></th>\n",
       "      <th>prediction</th>\n",
       "      <th>precip_t</th>\n",
       "      <th>type</th>\n",
       "    </tr>\n",
       "    <tr>\n",
       "      <th>periodo</th>\n",
       "      <th></th>\n",
       "      <th></th>\n",
       "      <th></th>\n",
       "    </tr>\n",
       "  </thead>\n",
       "  <tbody>\n",
       "    <tr>\n",
       "      <th>2021-06-01</th>\n",
       "      <td>0.408667</td>\n",
       "      <td>0.560988</td>\n",
       "      <td>validation</td>\n",
       "    </tr>\n",
       "    <tr>\n",
       "      <th>2021-07-01</th>\n",
       "      <td>0.409080</td>\n",
       "      <td>0.399982</td>\n",
       "      <td>validation</td>\n",
       "    </tr>\n",
       "    <tr>\n",
       "      <th>2021-08-01</th>\n",
       "      <td>0.546942</td>\n",
       "      <td>0.534115</td>\n",
       "      <td>validation</td>\n",
       "    </tr>\n",
       "    <tr>\n",
       "      <th>2021-09-01</th>\n",
       "      <td>0.530266</td>\n",
       "      <td>0.470040</td>\n",
       "      <td>validation</td>\n",
       "    </tr>\n",
       "    <tr>\n",
       "      <th>2021-10-01</th>\n",
       "      <td>0.629418</td>\n",
       "      <td>0.561614</td>\n",
       "      <td>validation</td>\n",
       "    </tr>\n",
       "  </tbody>\n",
       "</table>\n",
       "</div>"
      ],
      "text/plain": [
       "            prediction  precip_t        type\n",
       "periodo                                     \n",
       "2021-06-01    0.408667  0.560988  validation\n",
       "2021-07-01    0.409080  0.399982  validation\n",
       "2021-08-01    0.546942  0.534115  validation\n",
       "2021-09-01    0.530266  0.470040  validation\n",
       "2021-10-01    0.629418  0.561614  validation"
      ]
     },
     "execution_count": 35,
     "metadata": {},
     "output_type": "execute_result"
    }
   ],
   "source": [
    "# Data de Validacion\n",
    "validation_pd = pd.DataFrame(testPredict,\n",
    "                            index = data_pd.index[-prediction_order:],\n",
    "                            columns=['prediction']\n",
    "                            )\n",
    "\n",
    "validation_pd[y_output] = y_vasl.reshape(-1)\n",
    "validation_pd['type'] = 'validation'\n",
    "\n",
    "# validation_pd['precipitacion_mm'] = validation_pd[y_output].apply(lambda x: transformacion.inversa(x) if np.isnan(x)==False else np.nan )\n",
    "# validation_pd['prediction_precipitacion_mm'] = validation_pd['prediction'].apply(lambda x: transformacion.inversa(x) if np.isnan(x)==False else np.nan )\n",
    "validation_pd.head()"
   ]
  },
  {
   "cell_type": "code",
   "execution_count": 36,
   "metadata": {},
   "outputs": [
    {
     "data": {
      "text/plain": [
       "{'mape': 12.945009733536983,\n",
       " 'mae': 0.07098632582048857,\n",
       " 'mse': 0.09885241003127067,\n",
       " 'rmse': 0.00977179896899046,\n",
       " 'r2': 0.026848713906082122}"
      ]
     },
     "execution_count": 36,
     "metadata": {},
     "output_type": "execute_result"
    }
   ],
   "source": [
    "validation_metrics = metrics(observado=validation_pd.precip_t,prediccion=validation_pd.prediction)\n",
    "validation_metrics"
   ]
  },
  {
   "cell_type": "code",
   "execution_count": 37,
   "metadata": {},
   "outputs": [
    {
     "data": {
      "text/plain": [
       "<AxesSubplot:xlabel='periodo'>"
      ]
     },
     "execution_count": 37,
     "metadata": {},
     "output_type": "execute_result"
    },
    {
     "data": {
      "image/png": "[encoded data removed]",
      "text/plain": [
       "<Figure size 432x288 with 1 Axes>"
      ]
     },
     "metadata": {
      "needs_background": "light"
     },
     "output_type": "display_data"
    }
   ],
   "source": [
    "validation_pd[['precip_t','prediction']].plot()"
   ]
  },
  {
   "cell_type": "code",
   "execution_count": 38,
   "metadata": {},
   "outputs": [],
   "source": [
    "def precipitacion_data_rnn(data_pd,auto_order,y_output):\n",
    "    \"\"\"\n",
    "    Funcion para darle estructura a los datos para modelo rnn\n",
    "    \"\"\"\n",
    "\n",
    "    x_data = []\n",
    "    y_data = []\n",
    "\n",
    "    for t in range(auto_order+1, data_pd.shape[0]+1):\n",
    "        x_data.append( np.array(data_pd[(t-auto_order-1):(t-1)]) )\n",
    "        y_data.append( np.array( data_pd[(t-auto_order-1):t][[y_output]] )[-1] )\n",
    "\n",
    "    x_data = np.array(x_data)\n",
    "    y_data = np.array(y_data).reshape(x_data.shape[0],1,1)\n",
    "\n",
    "    return x_data, y_data"
   ]
  },
  {
   "cell_type": "code",
   "execution_count": 39,
   "metadata": {},
   "outputs": [],
   "source": [
    "def one_step_predict(data_for_test,pd_sst_pron,auto_order,y_output,feature):\n",
    "    \"\"\"\n",
    "    Funcion para el pronostico a un paso de la precipitacion\n",
    "    \"\"\"\n",
    "\n",
    "    for t in pd_sst_pron.index:\n",
    "\n",
    "        x_entrada, y_salida = precipitacion_data_rnn(data_pd=data_for_test[data_for_test.index < t],\n",
    "                                                    auto_order=auto_order,\n",
    "                                                    y_output=y_output)\n",
    "\n",
    "        predict = model.predict(x_entrada, verbose=0).reshape(-1)\n",
    "\n",
    "        data_forecast = pd.DataFrame({y_output:predict[-1],\n",
    "                                feature:pd_sst_pron[pd_sst_pron.index == t][feature][0]},\n",
    "                                index = [t])\n",
    "                                \n",
    "        data_for_test = pd.concat([data_for_test, data_forecast]).copy()\n",
    "\n",
    "    return data_for_test"
   ]
  },
  {
   "cell_type": "code",
   "execution_count": 40,
   "metadata": {},
   "outputs": [
    {
     "data": {
      "text/html": [
       "<div>\n",
       "<style scoped>\n",
       "    .dataframe tbody tr th:only-of-type {\n",
       "        vertical-align: middle;\n",
       "    }\n",
       "\n",
       "    .dataframe tbody tr th {\n",
       "        vertical-align: top;\n",
       "    }\n",
       "\n",
       "    .dataframe thead th {\n",
       "        text-align: right;\n",
       "    }\n",
       "</style>\n",
       "<table border=\"1\" class=\"dataframe\">\n",
       "  <thead>\n",
       "    <tr style=\"text-align: right;\">\n",
       "      <th></th>\n",
       "      <th>prediction</th>\n",
       "      <th>oni</th>\n",
       "      <th>type</th>\n",
       "      <th>precip_t</th>\n",
       "    </tr>\n",
       "  </thead>\n",
       "  <tbody>\n",
       "    <tr>\n",
       "      <th>2002-06-01</th>\n",
       "      <td>0.433376</td>\n",
       "      <td>0.573770</td>\n",
       "      <td>test</td>\n",
       "      <td>0.240229</td>\n",
       "    </tr>\n",
       "    <tr>\n",
       "      <th>2002-07-01</th>\n",
       "      <td>0.280029</td>\n",
       "      <td>0.603706</td>\n",
       "      <td>test</td>\n",
       "      <td>0.485760</td>\n",
       "    </tr>\n",
       "    <tr>\n",
       "      <th>2002-08-01</th>\n",
       "      <td>0.330025</td>\n",
       "      <td>0.619387</td>\n",
       "      <td>test</td>\n",
       "      <td>0.492398</td>\n",
       "    </tr>\n",
       "    <tr>\n",
       "      <th>2002-09-01</th>\n",
       "      <td>0.511397</td>\n",
       "      <td>0.650748</td>\n",
       "      <td>test</td>\n",
       "      <td>0.563266</td>\n",
       "    </tr>\n",
       "    <tr>\n",
       "      <th>2002-10-01</th>\n",
       "      <td>0.655357</td>\n",
       "      <td>0.693514</td>\n",
       "      <td>test</td>\n",
       "      <td>0.603221</td>\n",
       "    </tr>\n",
       "  </tbody>\n",
       "</table>\n",
       "</div>"
      ],
      "text/plain": [
       "            prediction       oni  type  precip_t\n",
       "2002-06-01    0.433376  0.573770  test  0.240229\n",
       "2002-07-01    0.280029  0.603706  test  0.485760\n",
       "2002-08-01    0.330025  0.619387  test  0.492398\n",
       "2002-09-01    0.511397  0.650748  test  0.563266\n",
       "2002-10-01    0.655357  0.693514  test  0.603221"
      ]
     },
     "execution_count": 40,
     "metadata": {},
     "output_type": "execute_result"
    }
   ],
   "source": [
    "pd_test = one_step_predict(data_for_test=data_pd[:(data_pd.shape[0] - auto_order)],\n",
    "                pd_sst_pron=data_pd[-auto_order:],\n",
    "                auto_order=auto_order,\n",
    "                y_output=y_output,\n",
    "                feature=feature)\n",
    "\n",
    "pd_test = pd_test[-auto_order:].rename(columns={'precip_t':'prediction'})\n",
    "pd_test['type'] = 'test'\n",
    "pd_test[y_output] = data_pd[-auto_order:][y_output]\n",
    "\n",
    "\n",
    "# pd_test['precipitacion_mm'] = pd_test[y_output].apply(lambda x: transformacion.inversa(x) if np.isnan(x)==False else np.nan )\n",
    "# pd_test['prediction_precipitacion_mm'] = pd_test['prediction'].apply(lambda x: transformacion.inversa(x) if np.isnan(x)==False else np.nan )\n",
    "pd_test.head()"
   ]
  },
  {
   "cell_type": "code",
   "execution_count": 42,
   "metadata": {},
   "outputs": [
    {
     "data": {
      "text/plain": [
       "<AxesSubplot:>"
      ]
     },
     "execution_count": 42,
     "metadata": {},
     "output_type": "execute_result"
    },
    {
     "data": {
      "image/png": "[encoded data removed]",
      "text/plain": [
       "<Figure size 432x288 with 1 Axes>"
      ]
     },
     "metadata": {
      "needs_background": "light"
     },
     "output_type": "display_data"
    }
   ],
   "source": [
    "pd_test[['precip_t','prediction']].plot()"
   ]
  },
  {
   "cell_type": "code",
   "execution_count": 41,
   "metadata": {},
   "outputs": [
    {
     "data": {
      "text/plain": [
       "{'mape': 870908190610823.1,\n",
       " 'mae': 0.24049485052412944,\n",
       " 'mse': 0.2923011987286623,\n",
       " 'rmse': 0.08543999077821292,\n",
       " 'r2': -5.676441069363879}"
      ]
     },
     "execution_count": 41,
     "metadata": {},
     "output_type": "execute_result"
    }
   ],
   "source": [
    "test_metrics = metrics(observado=pd_test.precip_t,prediccion=pd_test.prediction)\n",
    "test_metrics"
   ]
  },
  {
   "cell_type": "code",
   "execution_count": null,
   "metadata": {},
   "outputs": [],
   "source": [
    "pd_prediction = one_step_predict(data_for_test=data_pd,\n",
    "                                pd_sst_pron=pd_sst_pron,\n",
    "                                auto_order=auto_order,\n",
    "                                y_output=y_output,\n",
    "                                feature=feature)"
   ]
  },
  {
   "cell_type": "code",
   "execution_count": null,
   "metadata": {},
   "outputs": [
    {
     "data": {
      "text/html": [
       "<div>\n",
       "<style scoped>\n",
       "    .dataframe tbody tr th:only-of-type {\n",
       "        vertical-align: middle;\n",
       "    }\n",
       "\n",
       "    .dataframe tbody tr th {\n",
       "        vertical-align: top;\n",
       "    }\n",
       "\n",
       "    .dataframe thead th {\n",
       "        text-align: right;\n",
       "    }\n",
       "</style>\n",
       "<table border=\"1\" class=\"dataframe\">\n",
       "  <thead>\n",
       "    <tr style=\"text-align: right;\">\n",
       "      <th></th>\n",
       "      <th>prediction</th>\n",
       "      <th>oni</th>\n",
       "      <th>type</th>\n",
       "      <th>precip_t</th>\n",
       "      <th>precipitacion_mm</th>\n",
       "      <th>prediction_precipitacion_mm</th>\n",
       "    </tr>\n",
       "  </thead>\n",
       "  <tbody>\n",
       "    <tr>\n",
       "      <th>1970-01-01</th>\n",
       "      <td>0.609060</td>\n",
       "      <td>0.543835</td>\n",
       "      <td>prediction</td>\n",
       "      <td>NaN</td>\n",
       "      <td>NaN</td>\n",
       "      <td>0.913065</td>\n",
       "    </tr>\n",
       "    <tr>\n",
       "      <th>1970-02-01</th>\n",
       "      <td>0.167493</td>\n",
       "      <td>0.506771</td>\n",
       "      <td>prediction</td>\n",
       "      <td>NaN</td>\n",
       "      <td>NaN</td>\n",
       "      <td>0.081278</td>\n",
       "    </tr>\n",
       "    <tr>\n",
       "      <th>1970-03-01</th>\n",
       "      <td>0.464581</td>\n",
       "      <td>0.497505</td>\n",
       "      <td>prediction</td>\n",
       "      <td>NaN</td>\n",
       "      <td>NaN</td>\n",
       "      <td>0.413783</td>\n",
       "    </tr>\n",
       "    <tr>\n",
       "      <th>1970-04-01</th>\n",
       "      <td>0.605545</td>\n",
       "      <td>0.476123</td>\n",
       "      <td>prediction</td>\n",
       "      <td>NaN</td>\n",
       "      <td>NaN</td>\n",
       "      <td>0.895653</td>\n",
       "    </tr>\n",
       "    <tr>\n",
       "      <th>1970-05-01</th>\n",
       "      <td>0.820615</td>\n",
       "      <td>0.444048</td>\n",
       "      <td>prediction</td>\n",
       "      <td>NaN</td>\n",
       "      <td>NaN</td>\n",
       "      <td>2.909450</td>\n",
       "    </tr>\n",
       "  </tbody>\n",
       "</table>\n",
       "</div>"
      ],
      "text/plain": [
       "            prediction       oni        type  precip_t  precipitacion_mm  \\\n",
       "1970-01-01    0.609060  0.543835  prediction       NaN               NaN   \n",
       "1970-02-01    0.167493  0.506771  prediction       NaN               NaN   \n",
       "1970-03-01    0.464581  0.497505  prediction       NaN               NaN   \n",
       "1970-04-01    0.605545  0.476123  prediction       NaN               NaN   \n",
       "1970-05-01    0.820615  0.444048  prediction       NaN               NaN   \n",
       "\n",
       "            prediction_precipitacion_mm  \n",
       "1970-01-01                     0.913065  \n",
       "1970-02-01                     0.081278  \n",
       "1970-03-01                     0.413783  \n",
       "1970-04-01                     0.895653  \n",
       "1970-05-01                     2.909450  "
      ]
     },
     "execution_count": 35,
     "metadata": {},
     "output_type": "execute_result"
    }
   ],
   "source": [
    "pd_prediction = pd_prediction.rename(columns={'precip_t':'prediction'})\n",
    "pd_prediction['type'] = 'prediction'\n",
    "\n",
    "pd_prediction[y_output] = np.nan\n",
    "\n",
    "pd_prediction['precipitacion_mm'] =  np.nan\n",
    "pd_prediction['prediction_precipitacion_mm'] = pd_prediction['prediction'].apply(lambda x: transformacion.inversa(x) if np.isnan(x)==False else np.nan )\n",
    "\n",
    "pd_prediction.head()"
   ]
  },
  {
   "cell_type": "code",
   "execution_count": null,
   "metadata": {},
   "outputs": [
    {
     "data": {
      "text/html": [
       "<div>\n",
       "<style scoped>\n",
       "    .dataframe tbody tr th:only-of-type {\n",
       "        vertical-align: middle;\n",
       "    }\n",
       "\n",
       "    .dataframe tbody tr th {\n",
       "        vertical-align: top;\n",
       "    }\n",
       "\n",
       "    .dataframe thead th {\n",
       "        text-align: right;\n",
       "    }\n",
       "</style>\n",
       "<table border=\"1\" class=\"dataframe\">\n",
       "  <thead>\n",
       "    <tr style=\"text-align: right;\">\n",
       "      <th></th>\n",
       "      <th>epocas</th>\n",
       "      <th>auto_order</th>\n",
       "      <th>id_point</th>\n",
       "      <th>training_mse</th>\n",
       "      <th>training_rmse</th>\n",
       "      <th>training_mae</th>\n",
       "      <th>trainig_mape</th>\n",
       "      <th>trainig_r</th>\n",
       "      <th>validation_mse</th>\n",
       "      <th>validation_rmse</th>\n",
       "      <th>validation_mae</th>\n",
       "      <th>validation_mape</th>\n",
       "      <th>validation_r</th>\n",
       "      <th>test_mse</th>\n",
       "      <th>test_rmse</th>\n",
       "      <th>test_mae</th>\n",
       "      <th>test_mape</th>\n",
       "      <th>test_r</th>\n",
       "    </tr>\n",
       "  </thead>\n",
       "  <tbody>\n",
       "    <tr>\n",
       "      <th>0</th>\n",
       "      <td>196</td>\n",
       "      <td>12</td>\n",
       "      <td>1</td>\n",
       "      <td>0.015218</td>\n",
       "      <td>0.12336</td>\n",
       "      <td>0.097935</td>\n",
       "      <td>61.704877</td>\n",
       "      <td>0.471853</td>\n",
       "      <td>1.38366</td>\n",
       "      <td>1.914514</td>\n",
       "      <td>0.972171</td>\n",
       "      <td>168.291152</td>\n",
       "      <td>-1.049535</td>\n",
       "      <td>1.353378</td>\n",
       "      <td>1.831632</td>\n",
       "      <td>1.047542</td>\n",
       "      <td>454.304314</td>\n",
       "      <td>-0.960808</td>\n",
       "    </tr>\n",
       "  </tbody>\n",
       "</table>\n",
       "</div>"
      ],
      "text/plain": [
       "   epocas  auto_order  id_point  training_mse  training_rmse  training_mae  \\\n",
       "0     196          12         1      0.015218        0.12336      0.097935   \n",
       "\n",
       "   trainig_mape  trainig_r  validation_mse  validation_rmse  validation_mae  \\\n",
       "0     61.704877   0.471853         1.38366         1.914514        0.972171   \n",
       "\n",
       "   validation_mape  validation_r  test_mse  test_rmse  test_mae   test_mape  \\\n",
       "0       168.291152     -1.049535  1.353378   1.831632  1.047542  454.304314   \n",
       "\n",
       "     test_r  \n",
       "0 -0.960808  "
      ]
     },
     "execution_count": 36,
     "metadata": {},
     "output_type": "execute_result"
    }
   ],
   "source": [
    "# Resultados del modelo\n",
    "dict_metrics = {'epocas':[len(history.epoch)],\n",
    "                'auto_order':[auto_order],\n",
    "                'id_point':[id_point],\n",
    "                'training_mse':[history.history[\"loss\"][-1]],\n",
    "                'training_rmse':[history.history[\"root_mean_squared_error\"][-1]],\n",
    "                'training_mae':[history.history[\"mean_absolute_error\"][-1]],\n",
    "                'trainig_mape':[trainig_metrics['mape']],\n",
    "                'trainig_r':[trainig_metrics['r2']],\n",
    "                'validation_mse':[validation_metrics[\"mse\"]],\n",
    "                'validation_rmse':[validation_metrics[\"rmse\"]],\n",
    "                'validation_mae':[validation_metrics[\"mae\"]],\n",
    "                'validation_mape':[validation_metrics['mape']],\n",
    "                'validation_r':[validation_metrics['r2']],\n",
    "                'test_mse':[test_metrics[\"mse\"]],\n",
    "                'test_rmse':[test_metrics[\"rmse\"]],\n",
    "                'test_mae':[test_metrics[\"mae\"]],\n",
    "                'test_mape':[test_metrics['mape']],\n",
    "                'test_r':[test_metrics['r2']]\n",
    "                }\n",
    "\n",
    "experimento_pd = pd.DataFrame.from_dict(dict_metrics)\n",
    "experimento_pd"
   ]
  },
  {
   "cell_type": "code",
   "execution_count": null,
   "metadata": {},
   "outputs": [],
   "source": [
    "columns = [ 'precip_t',\n",
    "            'prediction',\n",
    "            #'oni',\n",
    "            'type',\n",
    "            'precipitacion_mm',\n",
    "            'prediction_precipitacion_mm']"
   ]
  },
  {
   "cell_type": "code",
   "execution_count": null,
   "metadata": {},
   "outputs": [
    {
     "data": {
      "text/html": [
       "<div>\n",
       "<style scoped>\n",
       "    .dataframe tbody tr th:only-of-type {\n",
       "        vertical-align: middle;\n",
       "    }\n",
       "\n",
       "    .dataframe tbody tr th {\n",
       "        vertical-align: top;\n",
       "    }\n",
       "\n",
       "    .dataframe thead th {\n",
       "        text-align: right;\n",
       "    }\n",
       "</style>\n",
       "<table border=\"1\" class=\"dataframe\">\n",
       "  <thead>\n",
       "    <tr style=\"text-align: right;\">\n",
       "      <th></th>\n",
       "      <th>periodo</th>\n",
       "      <th>precip_t</th>\n",
       "      <th>prediction</th>\n",
       "      <th>type</th>\n",
       "      <th>precipitacion_mm</th>\n",
       "      <th>prediction_precipitacion_mm</th>\n",
       "    </tr>\n",
       "  </thead>\n",
       "  <tbody>\n",
       "    <tr>\n",
       "      <th>1971-01-01</th>\n",
       "      <td>1971-01-01</td>\n",
       "      <td>0.488734</td>\n",
       "      <td>0.469698</td>\n",
       "      <td>training</td>\n",
       "      <td>0.472320</td>\n",
       "      <td>0.425546</td>\n",
       "    </tr>\n",
       "    <tr>\n",
       "      <th>1971-02-01</th>\n",
       "      <td>1971-02-01</td>\n",
       "      <td>0.283769</td>\n",
       "      <td>0.417885</td>\n",
       "      <td>training</td>\n",
       "      <td>0.153676</td>\n",
       "      <td>0.320390</td>\n",
       "    </tr>\n",
       "    <tr>\n",
       "      <th>1971-03-01</th>\n",
       "      <td>1971-03-01</td>\n",
       "      <td>0.515458</td>\n",
       "      <td>0.506914</td>\n",
       "      <td>training</td>\n",
       "      <td>0.546783</td>\n",
       "      <td>0.521779</td>\n",
       "    </tr>\n",
       "    <tr>\n",
       "      <th>1971-04-01</th>\n",
       "      <td>1971-04-01</td>\n",
       "      <td>0.817589</td>\n",
       "      <td>0.717392</td>\n",
       "      <td>training</td>\n",
       "      <td>2.861612</td>\n",
       "      <td>1.652848</td>\n",
       "    </tr>\n",
       "    <tr>\n",
       "      <th>1971-05-01</th>\n",
       "      <td>1971-05-01</td>\n",
       "      <td>0.825787</td>\n",
       "      <td>0.759201</td>\n",
       "      <td>training</td>\n",
       "      <td>2.993050</td>\n",
       "      <td>2.078264</td>\n",
       "    </tr>\n",
       "    <tr>\n",
       "      <th>...</th>\n",
       "      <td>...</td>\n",
       "      <td>...</td>\n",
       "      <td>...</td>\n",
       "      <td>...</td>\n",
       "      <td>...</td>\n",
       "      <td>...</td>\n",
       "    </tr>\n",
       "    <tr>\n",
       "      <th>2024-02-01</th>\n",
       "      <td>2024-02-01</td>\n",
       "      <td>NaN</td>\n",
       "      <td>0.502425</td>\n",
       "      <td>prediction</td>\n",
       "      <td>NaN</td>\n",
       "      <td>0.509105</td>\n",
       "    </tr>\n",
       "    <tr>\n",
       "      <th>2024-03-01</th>\n",
       "      <td>2024-03-01</td>\n",
       "      <td>NaN</td>\n",
       "      <td>0.573754</td>\n",
       "      <td>prediction</td>\n",
       "      <td>NaN</td>\n",
       "      <td>0.752498</td>\n",
       "    </tr>\n",
       "    <tr>\n",
       "      <th>2024-04-01</th>\n",
       "      <td>2024-04-01</td>\n",
       "      <td>NaN</td>\n",
       "      <td>0.630557</td>\n",
       "      <td>prediction</td>\n",
       "      <td>NaN</td>\n",
       "      <td>1.027175</td>\n",
       "    </tr>\n",
       "    <tr>\n",
       "      <th>2024-05-01</th>\n",
       "      <td>2024-05-01</td>\n",
       "      <td>NaN</td>\n",
       "      <td>0.671114</td>\n",
       "      <td>prediction</td>\n",
       "      <td>NaN</td>\n",
       "      <td>1.282727</td>\n",
       "    </tr>\n",
       "    <tr>\n",
       "      <th>2024-06-01</th>\n",
       "      <td>2024-06-01</td>\n",
       "      <td>NaN</td>\n",
       "      <td>0.691819</td>\n",
       "      <td>prediction</td>\n",
       "      <td>NaN</td>\n",
       "      <td>1.436788</td>\n",
       "    </tr>\n",
       "  </tbody>\n",
       "</table>\n",
       "<p>1271 rows × 6 columns</p>\n",
       "</div>"
      ],
      "text/plain": [
       "              periodo  precip_t  prediction        type  precipitacion_mm  \\\n",
       "1971-01-01 1971-01-01  0.488734    0.469698    training          0.472320   \n",
       "1971-02-01 1971-02-01  0.283769    0.417885    training          0.153676   \n",
       "1971-03-01 1971-03-01  0.515458    0.506914    training          0.546783   \n",
       "1971-04-01 1971-04-01  0.817589    0.717392    training          2.861612   \n",
       "1971-05-01 1971-05-01  0.825787    0.759201    training          2.993050   \n",
       "...               ...       ...         ...         ...               ...   \n",
       "2024-02-01 2024-02-01       NaN    0.502425  prediction               NaN   \n",
       "2024-03-01 2024-03-01       NaN    0.573754  prediction               NaN   \n",
       "2024-04-01 2024-04-01       NaN    0.630557  prediction               NaN   \n",
       "2024-05-01 2024-05-01       NaN    0.671114  prediction               NaN   \n",
       "2024-06-01 2024-06-01       NaN    0.691819  prediction               NaN   \n",
       "\n",
       "            prediction_precipitacion_mm  \n",
       "1971-01-01                     0.425546  \n",
       "1971-02-01                     0.320390  \n",
       "1971-03-01                     0.521779  \n",
       "1971-04-01                     1.652848  \n",
       "1971-05-01                     2.078264  \n",
       "...                                 ...  \n",
       "2024-02-01                     0.509105  \n",
       "2024-03-01                     0.752498  \n",
       "2024-04-01                     1.027175  \n",
       "2024-05-01                     1.282727  \n",
       "2024-06-01                     1.436788  \n",
       "\n",
       "[1271 rows x 6 columns]"
      ]
     },
     "execution_count": 38,
     "metadata": {},
     "output_type": "execute_result"
    }
   ],
   "source": [
    "# Uniendo informacion\n",
    "pd_summary = pd.concat([trainind_pd[columns], \n",
    "                        pd_test[columns], \n",
    "                        pd_prediction[columns]\n",
    "                        ])\n",
    "pd_summary['periodo'] = pd.to_datetime(pd_summary.index.values)\n",
    "pd_summary = pd_summary[ ['periodo']+ columns ]\n",
    "pd_summary"
   ]
  }
 ],
 "metadata": {
  "kernelspec": {
   "display_name": "Python 3.9.0 ('ssev_analytics')",
   "language": "python",
   "name": "python3"
  },
  "language_info": {
   "codemirror_mode": {
    "name": "ipython",
    "version": 3
   },
   "file_extension": ".py",
   "mimetype": "text/x-python",
   "name": "python",
   "nbconvert_exporter": "python",
   "pygments_lexer": "ipython3",
   "version": "3.9.0"
  },
  "orig_nbformat": 4,
  "vscode": {
   "interpreter": {
    "hash": "7962acab993cb47be2d59fc45292cc4ac077641aa9e9bf66ffc44da07d377859"
   }
  }
 },
 "nbformat": 4,
 "nbformat_minor": 2
}
