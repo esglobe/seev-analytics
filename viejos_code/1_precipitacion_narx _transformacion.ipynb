{
 "cells": [
  {
   "cell_type": "markdown",
   "metadata": {},
   "source": [
    "## Análisis Precipitación Total Parque Nacional Cerro Saroche\n",
    "\n",
    "**PROYECTO:** SISTEMA PARA EL SEGUIMIENTO DE ECOSISTEMAS VENEZOLANOS \\\n",
    "**AUTOR:** Javier Martinez"
   ]
  },
  {
   "cell_type": "markdown",
   "metadata": {},
   "source": [
    "Directorio de trabajo"
   ]
  },
  {
   "cell_type": "code",
   "execution_count": 1,
   "metadata": {},
   "outputs": [
    {
     "name": "stdout",
     "output_type": "stream",
     "text": [
      "> Directorio actual:  /media/javier/Compartida/doctorado/ssev-analytics/cerro_saroche\n",
      "> Directorio actual:  /media/javier/Compartida/doctorado/ssev-analytics\n"
     ]
    }
   ],
   "source": [
    "import os\n",
    "\n",
    "print('> Directorio actual: ', os.getcwd())  \n",
    "os.chdir('../')\n",
    "print('> Directorio actual: ', os.getcwd()) "
   ]
  },
  {
   "cell_type": "code",
   "execution_count": 2,
   "metadata": {},
   "outputs": [],
   "source": [
    "from utils.MONGO import CONEXION\n",
    "from utils.UTILS import *\n",
    "from datetime import datetime\n",
    "import pandas as pd\n",
    "\n",
    "from tensorflow import keras"
   ]
  },
  {
   "cell_type": "code",
   "execution_count": 3,
   "metadata": {},
   "outputs": [],
   "source": [
    "import warnings\n",
    "warnings.filterwarnings('ignore')"
   ]
  },
  {
   "cell_type": "markdown",
   "metadata": {},
   "source": [
    "# Creando Coenxión con Mongo DB"
   ]
  },
  {
   "cell_type": "code",
   "execution_count": 4,
   "metadata": {},
   "outputs": [
    {
     "data": {
      "text/plain": [
       "['meteorological', 'estimateSSTNino34', 'SSTNino34']"
      ]
     },
     "execution_count": 4,
     "metadata": {},
     "output_type": "execute_result"
    }
   ],
   "source": [
    "# Creando la conexión con MongoDB\n",
    "db = CONEXION.conexion()\n",
    "db.list_collection_names()"
   ]
  },
  {
   "cell_type": "markdown",
   "metadata": {},
   "source": [
    "# Descargando la Información Precipitación"
   ]
  },
  {
   "cell_type": "code",
   "execution_count": 5,
   "metadata": {},
   "outputs": [
    {
     "data": {
      "text/html": [
       "<div>\n",
       "<style scoped>\n",
       "    .dataframe tbody tr th:only-of-type {\n",
       "        vertical-align: middle;\n",
       "    }\n",
       "\n",
       "    .dataframe tbody tr th {\n",
       "        vertical-align: top;\n",
       "    }\n",
       "\n",
       "    .dataframe thead th {\n",
       "        text-align: right;\n",
       "    }\n",
       "</style>\n",
       "<table border=\"1\" class=\"dataframe\">\n",
       "  <thead>\n",
       "    <tr style=\"text-align: right;\">\n",
       "      <th></th>\n",
       "      <th>_id</th>\n",
       "      <th>id_point</th>\n",
       "      <th>park</th>\n",
       "      <th>time</th>\n",
       "      <th>elevacion_maxima</th>\n",
       "      <th>elevacion_media</th>\n",
       "      <th>elevacion_mediana</th>\n",
       "      <th>latitud</th>\n",
       "      <th>longitud</th>\n",
       "      <th>ndvi_maxima</th>\n",
       "      <th>ndvi_media</th>\n",
       "      <th>ndvi_mediana</th>\n",
       "      <th>precipitacion_mm</th>\n",
       "      <th>time_actualizacion</th>\n",
       "      <th>periodo</th>\n",
       "      <th>mes_year</th>\n",
       "    </tr>\n",
       "    <tr>\n",
       "      <th>periodo</th>\n",
       "      <th></th>\n",
       "      <th></th>\n",
       "      <th></th>\n",
       "      <th></th>\n",
       "      <th></th>\n",
       "      <th></th>\n",
       "      <th></th>\n",
       "      <th></th>\n",
       "      <th></th>\n",
       "      <th></th>\n",
       "      <th></th>\n",
       "      <th></th>\n",
       "      <th></th>\n",
       "      <th></th>\n",
       "      <th></th>\n",
       "      <th></th>\n",
       "    </tr>\n",
       "  </thead>\n",
       "  <tbody>\n",
       "    <tr>\n",
       "      <th>1970-01-01</th>\n",
       "      <td>633988a2eed0e0231b327c97</td>\n",
       "      <td>1</td>\n",
       "      <td>cerro_saroche</td>\n",
       "      <td>719163</td>\n",
       "      <td>921.0</td>\n",
       "      <td>508.541046</td>\n",
       "      <td>491.0</td>\n",
       "      <td>10.31</td>\n",
       "      <td>-69.83</td>\n",
       "      <td>NaN</td>\n",
       "      <td>NaN</td>\n",
       "      <td>NaN</td>\n",
       "      <td>0.913065</td>\n",
       "      <td>738430</td>\n",
       "      <td>1970-01-01</td>\n",
       "      <td>January-1970</td>\n",
       "    </tr>\n",
       "    <tr>\n",
       "      <th>1970-01-01</th>\n",
       "      <td>633988a2eed0e0231b327ca7</td>\n",
       "      <td>2</td>\n",
       "      <td>cerro_saroche</td>\n",
       "      <td>719163</td>\n",
       "      <td>1000.0</td>\n",
       "      <td>625.942932</td>\n",
       "      <td>614.0</td>\n",
       "      <td>10.31</td>\n",
       "      <td>-69.73</td>\n",
       "      <td>NaN</td>\n",
       "      <td>NaN</td>\n",
       "      <td>NaN</td>\n",
       "      <td>0.958915</td>\n",
       "      <td>738430</td>\n",
       "      <td>1970-01-01</td>\n",
       "      <td>January-1970</td>\n",
       "    </tr>\n",
       "    <tr>\n",
       "      <th>1970-01-01</th>\n",
       "      <td>633988a2eed0e0231b327cc0</td>\n",
       "      <td>3</td>\n",
       "      <td>cerro_saroche</td>\n",
       "      <td>719163</td>\n",
       "      <td>1025.0</td>\n",
       "      <td>731.954834</td>\n",
       "      <td>731.0</td>\n",
       "      <td>10.31</td>\n",
       "      <td>-69.63</td>\n",
       "      <td>NaN</td>\n",
       "      <td>NaN</td>\n",
       "      <td>NaN</td>\n",
       "      <td>1.026073</td>\n",
       "      <td>738430</td>\n",
       "      <td>1970-01-01</td>\n",
       "      <td>January-1970</td>\n",
       "    </tr>\n",
       "    <tr>\n",
       "      <th>1970-01-01</th>\n",
       "      <td>633988a2eed0e0231b327ccc</td>\n",
       "      <td>4</td>\n",
       "      <td>cerro_saroche</td>\n",
       "      <td>719163</td>\n",
       "      <td>1103.0</td>\n",
       "      <td>761.129150</td>\n",
       "      <td>737.0</td>\n",
       "      <td>10.31</td>\n",
       "      <td>-69.53</td>\n",
       "      <td>NaN</td>\n",
       "      <td>NaN</td>\n",
       "      <td>NaN</td>\n",
       "      <td>1.095035</td>\n",
       "      <td>738430</td>\n",
       "      <td>1970-01-01</td>\n",
       "      <td>January-1970</td>\n",
       "    </tr>\n",
       "    <tr>\n",
       "      <th>1970-01-01</th>\n",
       "      <td>633988a3eed0e0231b327cdc</td>\n",
       "      <td>5</td>\n",
       "      <td>cerro_saroche</td>\n",
       "      <td>719163</td>\n",
       "      <td>1202.0</td>\n",
       "      <td>726.967285</td>\n",
       "      <td>709.0</td>\n",
       "      <td>10.31</td>\n",
       "      <td>-69.43</td>\n",
       "      <td>NaN</td>\n",
       "      <td>NaN</td>\n",
       "      <td>NaN</td>\n",
       "      <td>1.203287</td>\n",
       "      <td>738430</td>\n",
       "      <td>1970-01-01</td>\n",
       "      <td>January-1970</td>\n",
       "    </tr>\n",
       "  </tbody>\n",
       "</table>\n",
       "</div>"
      ],
      "text/plain": [
       "                                 _id  id_point           park    time  \\\n",
       "periodo                                                                 \n",
       "1970-01-01  633988a2eed0e0231b327c97         1  cerro_saroche  719163   \n",
       "1970-01-01  633988a2eed0e0231b327ca7         2  cerro_saroche  719163   \n",
       "1970-01-01  633988a2eed0e0231b327cc0         3  cerro_saroche  719163   \n",
       "1970-01-01  633988a2eed0e0231b327ccc         4  cerro_saroche  719163   \n",
       "1970-01-01  633988a3eed0e0231b327cdc         5  cerro_saroche  719163   \n",
       "\n",
       "            elevacion_maxima  elevacion_media  elevacion_mediana  latitud  \\\n",
       "periodo                                                                     \n",
       "1970-01-01             921.0       508.541046              491.0    10.31   \n",
       "1970-01-01            1000.0       625.942932              614.0    10.31   \n",
       "1970-01-01            1025.0       731.954834              731.0    10.31   \n",
       "1970-01-01            1103.0       761.129150              737.0    10.31   \n",
       "1970-01-01            1202.0       726.967285              709.0    10.31   \n",
       "\n",
       "            longitud  ndvi_maxima  ndvi_media  ndvi_mediana  precipitacion_mm  \\\n",
       "periodo                                                                         \n",
       "1970-01-01    -69.83          NaN         NaN           NaN          0.913065   \n",
       "1970-01-01    -69.73          NaN         NaN           NaN          0.958915   \n",
       "1970-01-01    -69.63          NaN         NaN           NaN          1.026073   \n",
       "1970-01-01    -69.53          NaN         NaN           NaN          1.095035   \n",
       "1970-01-01    -69.43          NaN         NaN           NaN          1.203287   \n",
       "\n",
       "            time_actualizacion    periodo      mes_year  \n",
       "periodo                                                  \n",
       "1970-01-01              738430 1970-01-01  January-1970  \n",
       "1970-01-01              738430 1970-01-01  January-1970  \n",
       "1970-01-01              738430 1970-01-01  January-1970  \n",
       "1970-01-01              738430 1970-01-01  January-1970  \n",
       "1970-01-01              738430 1970-01-01  January-1970  "
      ]
     },
     "execution_count": 5,
     "metadata": {},
     "output_type": "execute_result"
    }
   ],
   "source": [
    "# Parque\n",
    "park = 'cerro_saroche'\n",
    "\n",
    "# Realizando consulta\n",
    "meteorological = db.meteorological.find({\"park\":park})\n",
    "\n",
    "# Generando pandas dataframe\n",
    "data_pandas = pd.DataFrame([file for file in meteorological])\n",
    "data_pandas['periodo'] = data_pandas.time.apply(lambda x: datetime.fromordinal(x))\n",
    "data_pandas['mes_year'] =  data_pandas['periodo'].dt.strftime('%B-%Y')\n",
    "data_pandas.index = pd.to_datetime(data_pandas.periodo)\n",
    "data_pandas.head()"
   ]
  },
  {
   "cell_type": "code",
   "execution_count": 6,
   "metadata": {},
   "outputs": [
    {
     "name": "stdout",
     "output_type": "stream",
     "text": [
      "(9435, 16)\n"
     ]
    }
   ],
   "source": [
    "# Registros\n",
    "print(data_pandas.shape)"
   ]
  },
  {
   "cell_type": "code",
   "execution_count": 7,
   "metadata": {},
   "outputs": [
    {
     "name": "stdout",
     "output_type": "stream",
     "text": [
      "1970-01-01 00:00:00\n",
      "2022-05-01 00:00:00\n"
     ]
    }
   ],
   "source": [
    "# Data disponible\n",
    "print(data_pandas.index.min())\n",
    "print(data_pandas.index.max())"
   ]
  },
  {
   "cell_type": "code",
   "execution_count": 8,
   "metadata": {},
   "outputs": [],
   "source": [
    "DIR = './cerro_saroche/'"
   ]
  },
  {
   "cell_type": "code",
   "execution_count": 9,
   "metadata": {},
   "outputs": [],
   "source": [
    "# Cantidad de registros\n",
    "# park_points = data_pandas[[ 'id_point','latitud', 'longitud','precipitacion_mm']]\\\n",
    "#                 .groupby(['id_point','latitud', 'longitud'],as_index=False)\\\n",
    "#                 .count()\n",
    "\n",
    "# # Guardando resumen de experimentos\n",
    "# park_points.to_csv(DIR + 'summary/poinst.csv')\n",
    "# park_points"
   ]
  },
  {
   "cell_type": "markdown",
   "metadata": {},
   "source": [
    "# Estudio Precipitación"
   ]
  },
  {
   "cell_type": "code",
   "execution_count": 10,
   "metadata": {},
   "outputs": [
    {
     "data": {
      "text/html": [
       "<div>\n",
       "<style scoped>\n",
       "    .dataframe tbody tr th:only-of-type {\n",
       "        vertical-align: middle;\n",
       "    }\n",
       "\n",
       "    .dataframe tbody tr th {\n",
       "        vertical-align: top;\n",
       "    }\n",
       "\n",
       "    .dataframe thead th {\n",
       "        text-align: right;\n",
       "    }\n",
       "</style>\n",
       "<table border=\"1\" class=\"dataframe\">\n",
       "  <thead>\n",
       "    <tr style=\"text-align: right;\">\n",
       "      <th></th>\n",
       "      <th>id_point</th>\n",
       "      <th>latitud</th>\n",
       "      <th>longitud</th>\n",
       "      <th>precipitacion_mm</th>\n",
       "    </tr>\n",
       "    <tr>\n",
       "      <th>periodo</th>\n",
       "      <th></th>\n",
       "      <th></th>\n",
       "      <th></th>\n",
       "      <th></th>\n",
       "    </tr>\n",
       "  </thead>\n",
       "  <tbody>\n",
       "    <tr>\n",
       "      <th>1970-01-01</th>\n",
       "      <td>1</td>\n",
       "      <td>10.31</td>\n",
       "      <td>-69.83</td>\n",
       "      <td>0.913065</td>\n",
       "    </tr>\n",
       "    <tr>\n",
       "      <th>1970-01-01</th>\n",
       "      <td>2</td>\n",
       "      <td>10.31</td>\n",
       "      <td>-69.73</td>\n",
       "      <td>0.958915</td>\n",
       "    </tr>\n",
       "    <tr>\n",
       "      <th>1970-01-01</th>\n",
       "      <td>3</td>\n",
       "      <td>10.31</td>\n",
       "      <td>-69.63</td>\n",
       "      <td>1.026073</td>\n",
       "    </tr>\n",
       "    <tr>\n",
       "      <th>1970-01-01</th>\n",
       "      <td>4</td>\n",
       "      <td>10.31</td>\n",
       "      <td>-69.53</td>\n",
       "      <td>1.095035</td>\n",
       "    </tr>\n",
       "    <tr>\n",
       "      <th>1970-01-01</th>\n",
       "      <td>5</td>\n",
       "      <td>10.31</td>\n",
       "      <td>-69.43</td>\n",
       "      <td>1.203287</td>\n",
       "    </tr>\n",
       "  </tbody>\n",
       "</table>\n",
       "</div>"
      ],
      "text/plain": [
       "            id_point  latitud  longitud  precipitacion_mm\n",
       "periodo                                                  \n",
       "1970-01-01         1    10.31    -69.83          0.913065\n",
       "1970-01-01         2    10.31    -69.73          0.958915\n",
       "1970-01-01         3    10.31    -69.63          1.026073\n",
       "1970-01-01         4    10.31    -69.53          1.095035\n",
       "1970-01-01         5    10.31    -69.43          1.203287"
      ]
     },
     "execution_count": 10,
     "metadata": {},
     "output_type": "execute_result"
    }
   ],
   "source": [
    "pd_precipitacion = data_pandas[['id_point', 'latitud', 'longitud',\n",
    "                                'precipitacion_mm']]\n",
    "pd_precipitacion.head()"
   ]
  },
  {
   "cell_type": "markdown",
   "metadata": {},
   "source": [
    "Aplicando transformación"
   ]
  },
  {
   "cell_type": "code",
   "execution_count": 11,
   "metadata": {},
   "outputs": [],
   "source": [
    "months = 1\n",
    "\n",
    "list_data = []\n",
    "\n",
    "for id in pd_precipitacion.id_point.unique().tolist():\n",
    "\n",
    "    data = pd_precipitacion.query(f'id_point=={id}')\n",
    "\n",
    "    y_dif = []\n",
    "    y_pro = []\n",
    "    for t in data.index[1:]:\n",
    "\n",
    "        dif_preci = data[data.index==t]['precipitacion_mm'].values[0] - data[data.index==(t - pd.DateOffset(months=months))]['precipitacion_mm'].values[0] \n",
    "        pro_preci = dif_preci/data[data.index==(t - pd.DateOffset(months=months))]['precipitacion_mm'].values[0] \n",
    "\n",
    "        y_dif.append(dif_preci)\n",
    "        y_pro.append(pro_preci)\n",
    "\n",
    "    data_trans = data[1:]\n",
    "    data_trans['dif_precipitacion_mm'] = y_dif\n",
    "    data_trans['pro_precipitacion_mm'] = y_pro\n",
    "\n",
    "    list_data.append(data_trans)\n",
    "\n",
    "pd_precipitacion_trans = pd.concat(list_data)"
   ]
  },
  {
   "cell_type": "markdown",
   "metadata": {},
   "source": [
    "# Cargando data SST"
   ]
  },
  {
   "cell_type": "code",
   "execution_count": 12,
   "metadata": {},
   "outputs": [
    {
     "data": {
      "text/html": [
       "<div>\n",
       "<style scoped>\n",
       "    .dataframe tbody tr th:only-of-type {\n",
       "        vertical-align: middle;\n",
       "    }\n",
       "\n",
       "    .dataframe tbody tr th {\n",
       "        vertical-align: top;\n",
       "    }\n",
       "\n",
       "    .dataframe thead th {\n",
       "        text-align: right;\n",
       "    }\n",
       "</style>\n",
       "<table border=\"1\" class=\"dataframe\">\n",
       "  <thead>\n",
       "    <tr style=\"text-align: right;\">\n",
       "      <th></th>\n",
       "      <th>oni</th>\n",
       "      <th>time</th>\n",
       "      <th>periodo</th>\n",
       "    </tr>\n",
       "    <tr>\n",
       "      <th>periodo</th>\n",
       "      <th></th>\n",
       "      <th></th>\n",
       "      <th></th>\n",
       "    </tr>\n",
       "  </thead>\n",
       "  <tbody>\n",
       "    <tr>\n",
       "      <th>1950-01-01</th>\n",
       "      <td>-1.470000</td>\n",
       "      <td>711858</td>\n",
       "      <td>1950-01-01</td>\n",
       "    </tr>\n",
       "    <tr>\n",
       "      <th>1950-02-01</th>\n",
       "      <td>-1.336667</td>\n",
       "      <td>711889</td>\n",
       "      <td>1950-02-01</td>\n",
       "    </tr>\n",
       "    <tr>\n",
       "      <th>1950-03-01</th>\n",
       "      <td>-1.163333</td>\n",
       "      <td>711917</td>\n",
       "      <td>1950-03-01</td>\n",
       "    </tr>\n",
       "    <tr>\n",
       "      <th>1950-04-01</th>\n",
       "      <td>-1.180000</td>\n",
       "      <td>711948</td>\n",
       "      <td>1950-04-01</td>\n",
       "    </tr>\n",
       "    <tr>\n",
       "      <th>1950-05-01</th>\n",
       "      <td>-1.070000</td>\n",
       "      <td>711978</td>\n",
       "      <td>1950-05-01</td>\n",
       "    </tr>\n",
       "  </tbody>\n",
       "</table>\n",
       "</div>"
      ],
      "text/plain": [
       "                 oni    time    periodo\n",
       "periodo                                \n",
       "1950-01-01 -1.470000  711858 1950-01-01\n",
       "1950-02-01 -1.336667  711889 1950-02-01\n",
       "1950-03-01 -1.163333  711917 1950-03-01\n",
       "1950-04-01 -1.180000  711948 1950-04-01\n",
       "1950-05-01 -1.070000  711978 1950-05-01"
      ]
     },
     "execution_count": 12,
     "metadata": {},
     "output_type": "execute_result"
    }
   ],
   "source": [
    "# Realizando consulta\n",
    "data_sst = db.estimateSSTNino34.find()\n",
    "\n",
    "# Generando pandas dataframe\n",
    "pd_sst = pd.DataFrame([file for file in data_sst])[['oni','time']]\n",
    "pd_sst['periodo'] = pd_sst.time.apply(lambda x: datetime.fromordinal(x))\n",
    "pd_sst.index = pd.to_datetime(pd_sst.periodo)\n",
    "pd_sst\n",
    "\n",
    "pd_sst.head()"
   ]
  },
  {
   "cell_type": "code",
   "execution_count": 13,
   "metadata": {},
   "outputs": [],
   "source": [
    "from sklearn.preprocessing import MinMaxScaler"
   ]
  },
  {
   "cell_type": "code",
   "execution_count": 14,
   "metadata": {},
   "outputs": [],
   "source": [
    "sst_scaler = MinMaxScaler()\n",
    "\n",
    "sst_scaler.fit(pd_sst[['oni']])\n",
    "\n",
    "pd_sst['oni_trans']  = sst_scaler.transform(pd_sst[['oni']])\n",
    "#pd_sst['oni_trans']  = np.sqrt(pd_sst['oni_trans'] )"
   ]
  },
  {
   "cell_type": "code",
   "execution_count": 15,
   "metadata": {},
   "outputs": [
    {
     "data": {
      "text/plain": [
       "<AxesSubplot:xlabel='periodo'>"
      ]
     },
     "execution_count": 15,
     "metadata": {},
     "output_type": "execute_result"
    },
    {
     "data": {
      "image/png": "[encoded data removed]",
      "text/plain": [
       "<Figure size 432x288 with 1 Axes>"
      ]
     },
     "metadata": {
      "needs_background": "light"
     },
     "output_type": "display_data"
    }
   ],
   "source": [
    "pd_sst['oni_trans'].plot()"
   ]
  },
  {
   "cell_type": "markdown",
   "metadata": {},
   "source": [
    "# Integrando base de datos"
   ]
  },
  {
   "cell_type": "code",
   "execution_count": 16,
   "metadata": {},
   "outputs": [],
   "source": [
    "# Entrenamiento\n",
    "pd_model = pd.merge(pd_precipitacion_trans.reset_index(drop=False),pd_sst[['oni_trans']].reset_index(drop=False),\n",
    "                    on=['periodo'],\n",
    "                    how='left'\n",
    "                    )\n",
    "\n",
    "# Pronostico\n",
    "pd_sst_pron = pd_sst[['periodo','oni_trans']][pd_sst.periodo > pd_model.periodo.max()].copy()"
   ]
  },
  {
   "cell_type": "code",
   "execution_count": 17,
   "metadata": {},
   "outputs": [
    {
     "data": {
      "text/html": [
       "<div>\n",
       "<style scoped>\n",
       "    .dataframe tbody tr th:only-of-type {\n",
       "        vertical-align: middle;\n",
       "    }\n",
       "\n",
       "    .dataframe tbody tr th {\n",
       "        vertical-align: top;\n",
       "    }\n",
       "\n",
       "    .dataframe thead th {\n",
       "        text-align: right;\n",
       "    }\n",
       "</style>\n",
       "<table border=\"1\" class=\"dataframe\">\n",
       "  <thead>\n",
       "    <tr style=\"text-align: right;\">\n",
       "      <th></th>\n",
       "      <th>id_point</th>\n",
       "      <th>latitud</th>\n",
       "      <th>longitud</th>\n",
       "      <th>oni_trans</th>\n",
       "    </tr>\n",
       "  </thead>\n",
       "  <tbody>\n",
       "    <tr>\n",
       "      <th>0</th>\n",
       "      <td>1</td>\n",
       "      <td>10.31</td>\n",
       "      <td>-69.83</td>\n",
       "      <td>628</td>\n",
       "    </tr>\n",
       "    <tr>\n",
       "      <th>1</th>\n",
       "      <td>2</td>\n",
       "      <td>10.31</td>\n",
       "      <td>-69.73</td>\n",
       "      <td>628</td>\n",
       "    </tr>\n",
       "    <tr>\n",
       "      <th>2</th>\n",
       "      <td>3</td>\n",
       "      <td>10.31</td>\n",
       "      <td>-69.63</td>\n",
       "      <td>628</td>\n",
       "    </tr>\n",
       "    <tr>\n",
       "      <th>3</th>\n",
       "      <td>4</td>\n",
       "      <td>10.31</td>\n",
       "      <td>-69.53</td>\n",
       "      <td>628</td>\n",
       "    </tr>\n",
       "    <tr>\n",
       "      <th>4</th>\n",
       "      <td>5</td>\n",
       "      <td>10.31</td>\n",
       "      <td>-69.43</td>\n",
       "      <td>628</td>\n",
       "    </tr>\n",
       "    <tr>\n",
       "      <th>5</th>\n",
       "      <td>6</td>\n",
       "      <td>10.21</td>\n",
       "      <td>-69.83</td>\n",
       "      <td>628</td>\n",
       "    </tr>\n",
       "    <tr>\n",
       "      <th>6</th>\n",
       "      <td>7</td>\n",
       "      <td>10.21</td>\n",
       "      <td>-69.73</td>\n",
       "      <td>628</td>\n",
       "    </tr>\n",
       "    <tr>\n",
       "      <th>7</th>\n",
       "      <td>8</td>\n",
       "      <td>10.21</td>\n",
       "      <td>-69.63</td>\n",
       "      <td>628</td>\n",
       "    </tr>\n",
       "    <tr>\n",
       "      <th>8</th>\n",
       "      <td>9</td>\n",
       "      <td>10.21</td>\n",
       "      <td>-69.53</td>\n",
       "      <td>628</td>\n",
       "    </tr>\n",
       "    <tr>\n",
       "      <th>9</th>\n",
       "      <td>10</td>\n",
       "      <td>10.21</td>\n",
       "      <td>-69.43</td>\n",
       "      <td>628</td>\n",
       "    </tr>\n",
       "    <tr>\n",
       "      <th>10</th>\n",
       "      <td>11</td>\n",
       "      <td>10.11</td>\n",
       "      <td>-69.83</td>\n",
       "      <td>628</td>\n",
       "    </tr>\n",
       "    <tr>\n",
       "      <th>11</th>\n",
       "      <td>12</td>\n",
       "      <td>10.11</td>\n",
       "      <td>-69.73</td>\n",
       "      <td>628</td>\n",
       "    </tr>\n",
       "    <tr>\n",
       "      <th>12</th>\n",
       "      <td>13</td>\n",
       "      <td>10.11</td>\n",
       "      <td>-69.63</td>\n",
       "      <td>628</td>\n",
       "    </tr>\n",
       "    <tr>\n",
       "      <th>13</th>\n",
       "      <td>14</td>\n",
       "      <td>10.11</td>\n",
       "      <td>-69.53</td>\n",
       "      <td>628</td>\n",
       "    </tr>\n",
       "    <tr>\n",
       "      <th>14</th>\n",
       "      <td>15</td>\n",
       "      <td>10.11</td>\n",
       "      <td>-69.43</td>\n",
       "      <td>628</td>\n",
       "    </tr>\n",
       "  </tbody>\n",
       "</table>\n",
       "</div>"
      ],
      "text/plain": [
       "    id_point  latitud  longitud  oni_trans\n",
       "0          1    10.31    -69.83        628\n",
       "1          2    10.31    -69.73        628\n",
       "2          3    10.31    -69.63        628\n",
       "3          4    10.31    -69.53        628\n",
       "4          5    10.31    -69.43        628\n",
       "5          6    10.21    -69.83        628\n",
       "6          7    10.21    -69.73        628\n",
       "7          8    10.21    -69.63        628\n",
       "8          9    10.21    -69.53        628\n",
       "9         10    10.21    -69.43        628\n",
       "10        11    10.11    -69.83        628\n",
       "11        12    10.11    -69.73        628\n",
       "12        13    10.11    -69.63        628\n",
       "13        14    10.11    -69.53        628\n",
       "14        15    10.11    -69.43        628"
      ]
     },
     "execution_count": 17,
     "metadata": {},
     "output_type": "execute_result"
    }
   ],
   "source": [
    "pd_model[[ 'id_point','latitud', 'longitud','oni_trans']]\\\n",
    "                .groupby(['id_point','latitud', 'longitud'],as_index=False)\\\n",
    "                .count()"
   ]
  },
  {
   "cell_type": "markdown",
   "metadata": {},
   "source": [
    "# Ajustando modelo NARX"
   ]
  },
  {
   "cell_type": "markdown",
   "metadata": {},
   "source": [
    "Modelo según ID point"
   ]
  },
  {
   "cell_type": "code",
   "execution_count": 18,
   "metadata": {},
   "outputs": [],
   "source": [
    "id_point = 1\n",
    "#y_output = 'minmax_dif_precipitacion_mm'\n",
    "y_output = 'minmax_pro_precipitacion_mm'\n",
    "exogena = 'oni_trans'\n",
    "\n",
    "prediction_order = 12 # rango de prediccion\n",
    "auto_order = 13*12 # componente autoregresiva\n",
    "exog_order =  5*12# componente exogena qm\n",
    "exog_delay = 1# componente exogena dm"
   ]
  },
  {
   "cell_type": "code",
   "execution_count": 19,
   "metadata": {},
   "outputs": [
    {
     "data": {
      "text/html": [
       "<div>\n",
       "<style scoped>\n",
       "    .dataframe tbody tr th:only-of-type {\n",
       "        vertical-align: middle;\n",
       "    }\n",
       "\n",
       "    .dataframe tbody tr th {\n",
       "        vertical-align: top;\n",
       "    }\n",
       "\n",
       "    .dataframe thead th {\n",
       "        text-align: right;\n",
       "    }\n",
       "</style>\n",
       "<table border=\"1\" class=\"dataframe\">\n",
       "  <thead>\n",
       "    <tr style=\"text-align: right;\">\n",
       "      <th></th>\n",
       "      <th>periodo</th>\n",
       "      <th>id_point</th>\n",
       "      <th>latitud</th>\n",
       "      <th>longitud</th>\n",
       "      <th>precipitacion_mm</th>\n",
       "      <th>dif_precipitacion_mm</th>\n",
       "      <th>pro_precipitacion_mm</th>\n",
       "      <th>oni_trans</th>\n",
       "    </tr>\n",
       "  </thead>\n",
       "  <tbody>\n",
       "    <tr>\n",
       "      <th>0</th>\n",
       "      <td>1970-02-01</td>\n",
       "      <td>1</td>\n",
       "      <td>10.31</td>\n",
       "      <td>-69.83</td>\n",
       "      <td>0.081278</td>\n",
       "      <td>-0.831787</td>\n",
       "      <td>-0.910983</td>\n",
       "      <td>0.506771</td>\n",
       "    </tr>\n",
       "    <tr>\n",
       "      <th>1</th>\n",
       "      <td>1970-03-01</td>\n",
       "      <td>1</td>\n",
       "      <td>10.31</td>\n",
       "      <td>-69.83</td>\n",
       "      <td>0.413783</td>\n",
       "      <td>0.332504</td>\n",
       "      <td>4.090928</td>\n",
       "      <td>0.497505</td>\n",
       "    </tr>\n",
       "    <tr>\n",
       "      <th>2</th>\n",
       "      <td>1970-04-01</td>\n",
       "      <td>1</td>\n",
       "      <td>10.31</td>\n",
       "      <td>-69.83</td>\n",
       "      <td>0.895653</td>\n",
       "      <td>0.481870</td>\n",
       "      <td>1.164550</td>\n",
       "      <td>0.476123</td>\n",
       "    </tr>\n",
       "    <tr>\n",
       "      <th>3</th>\n",
       "      <td>1970-05-01</td>\n",
       "      <td>1</td>\n",
       "      <td>10.31</td>\n",
       "      <td>-69.83</td>\n",
       "      <td>2.909450</td>\n",
       "      <td>2.013797</td>\n",
       "      <td>2.248411</td>\n",
       "      <td>0.444048</td>\n",
       "    </tr>\n",
       "    <tr>\n",
       "      <th>4</th>\n",
       "      <td>1970-06-01</td>\n",
       "      <td>1</td>\n",
       "      <td>10.31</td>\n",
       "      <td>-69.83</td>\n",
       "      <td>1.247108</td>\n",
       "      <td>-1.662342</td>\n",
       "      <td>-0.571359</td>\n",
       "      <td>0.369922</td>\n",
       "    </tr>\n",
       "    <tr>\n",
       "      <th>...</th>\n",
       "      <td>...</td>\n",
       "      <td>...</td>\n",
       "      <td>...</td>\n",
       "      <td>...</td>\n",
       "      <td>...</td>\n",
       "      <td>...</td>\n",
       "      <td>...</td>\n",
       "      <td>...</td>\n",
       "    </tr>\n",
       "    <tr>\n",
       "      <th>9415</th>\n",
       "      <td>2022-01-01</td>\n",
       "      <td>15</td>\n",
       "      <td>10.11</td>\n",
       "      <td>-69.43</td>\n",
       "      <td>0.160296</td>\n",
       "      <td>-0.320596</td>\n",
       "      <td>-0.666669</td>\n",
       "      <td>0.228083</td>\n",
       "    </tr>\n",
       "    <tr>\n",
       "      <th>9416</th>\n",
       "      <td>2022-02-01</td>\n",
       "      <td>15</td>\n",
       "      <td>10.11</td>\n",
       "      <td>-69.43</td>\n",
       "      <td>0.407593</td>\n",
       "      <td>0.247297</td>\n",
       "      <td>1.542748</td>\n",
       "      <td>0.234498</td>\n",
       "    </tr>\n",
       "    <tr>\n",
       "      <th>9417</th>\n",
       "      <td>2022-03-01</td>\n",
       "      <td>15</td>\n",
       "      <td>10.11</td>\n",
       "      <td>-69.43</td>\n",
       "      <td>0.842776</td>\n",
       "      <td>0.435183</td>\n",
       "      <td>1.067690</td>\n",
       "      <td>0.222381</td>\n",
       "    </tr>\n",
       "    <tr>\n",
       "      <th>9418</th>\n",
       "      <td>2022-04-01</td>\n",
       "      <td>15</td>\n",
       "      <td>10.11</td>\n",
       "      <td>-69.43</td>\n",
       "      <td>4.089661</td>\n",
       "      <td>3.246885</td>\n",
       "      <td>3.852606</td>\n",
       "      <td>0.205987</td>\n",
       "    </tr>\n",
       "    <tr>\n",
       "      <th>9419</th>\n",
       "      <td>2022-05-01</td>\n",
       "      <td>15</td>\n",
       "      <td>10.11</td>\n",
       "      <td>-69.43</td>\n",
       "      <td>0.879056</td>\n",
       "      <td>-3.210606</td>\n",
       "      <td>-0.785054</td>\n",
       "      <td>0.220242</td>\n",
       "    </tr>\n",
       "  </tbody>\n",
       "</table>\n",
       "<p>9420 rows × 8 columns</p>\n",
       "</div>"
      ],
      "text/plain": [
       "        periodo  id_point  latitud  longitud  precipitacion_mm  \\\n",
       "0    1970-02-01         1    10.31    -69.83          0.081278   \n",
       "1    1970-03-01         1    10.31    -69.83          0.413783   \n",
       "2    1970-04-01         1    10.31    -69.83          0.895653   \n",
       "3    1970-05-01         1    10.31    -69.83          2.909450   \n",
       "4    1970-06-01         1    10.31    -69.83          1.247108   \n",
       "...         ...       ...      ...       ...               ...   \n",
       "9415 2022-01-01        15    10.11    -69.43          0.160296   \n",
       "9416 2022-02-01        15    10.11    -69.43          0.407593   \n",
       "9417 2022-03-01        15    10.11    -69.43          0.842776   \n",
       "9418 2022-04-01        15    10.11    -69.43          4.089661   \n",
       "9419 2022-05-01        15    10.11    -69.43          0.879056   \n",
       "\n",
       "      dif_precipitacion_mm  pro_precipitacion_mm  oni_trans  \n",
       "0                -0.831787             -0.910983   0.506771  \n",
       "1                 0.332504              4.090928   0.497505  \n",
       "2                 0.481870              1.164550   0.476123  \n",
       "3                 2.013797              2.248411   0.444048  \n",
       "4                -1.662342             -0.571359   0.369922  \n",
       "...                    ...                   ...        ...  \n",
       "9415             -0.320596             -0.666669   0.228083  \n",
       "9416              0.247297              1.542748   0.234498  \n",
       "9417              0.435183              1.067690   0.222381  \n",
       "9418              3.246885              3.852606   0.205987  \n",
       "9419             -3.210606             -0.785054   0.220242  \n",
       "\n",
       "[9420 rows x 8 columns]"
      ]
     },
     "execution_count": 19,
     "metadata": {},
     "output_type": "execute_result"
    }
   ],
   "source": [
    "pd_model"
   ]
  },
  {
   "cell_type": "code",
   "execution_count": 20,
   "metadata": {},
   "outputs": [],
   "source": [
    "pd_model_id = pd_model[pd_model.id_point==id_point]\n",
    "pd_model_id.index = pd.to_datetime(pd_model_id.periodo)"
   ]
  },
  {
   "cell_type": "code",
   "execution_count": 21,
   "metadata": {},
   "outputs": [
    {
     "data": {
      "text/html": [
       "<div>\n",
       "<style scoped>\n",
       "    .dataframe tbody tr th:only-of-type {\n",
       "        vertical-align: middle;\n",
       "    }\n",
       "\n",
       "    .dataframe tbody tr th {\n",
       "        vertical-align: top;\n",
       "    }\n",
       "\n",
       "    .dataframe thead th {\n",
       "        text-align: right;\n",
       "    }\n",
       "</style>\n",
       "<table border=\"1\" class=\"dataframe\">\n",
       "  <thead>\n",
       "    <tr style=\"text-align: right;\">\n",
       "      <th></th>\n",
       "      <th>periodo</th>\n",
       "      <th>id_point</th>\n",
       "      <th>latitud</th>\n",
       "      <th>longitud</th>\n",
       "      <th>precipitacion_mm</th>\n",
       "      <th>dif_precipitacion_mm</th>\n",
       "      <th>pro_precipitacion_mm</th>\n",
       "      <th>oni_trans</th>\n",
       "      <th>minmax_pro_precipitacion_mm</th>\n",
       "    </tr>\n",
       "    <tr>\n",
       "      <th>periodo</th>\n",
       "      <th></th>\n",
       "      <th></th>\n",
       "      <th></th>\n",
       "      <th></th>\n",
       "      <th></th>\n",
       "      <th></th>\n",
       "      <th></th>\n",
       "      <th></th>\n",
       "      <th></th>\n",
       "    </tr>\n",
       "  </thead>\n",
       "  <tbody>\n",
       "    <tr>\n",
       "      <th>1970-02-01</th>\n",
       "      <td>1970-02-01</td>\n",
       "      <td>1</td>\n",
       "      <td>10.31</td>\n",
       "      <td>-69.83</td>\n",
       "      <td>0.081278</td>\n",
       "      <td>-0.831787</td>\n",
       "      <td>-0.910983</td>\n",
       "      <td>0.506771</td>\n",
       "      <td>0.120336</td>\n",
       "    </tr>\n",
       "    <tr>\n",
       "      <th>1970-03-01</th>\n",
       "      <td>1970-03-01</td>\n",
       "      <td>1</td>\n",
       "      <td>10.31</td>\n",
       "      <td>-69.83</td>\n",
       "      <td>0.413783</td>\n",
       "      <td>0.332504</td>\n",
       "      <td>4.090928</td>\n",
       "      <td>0.497505</td>\n",
       "      <td>0.510382</td>\n",
       "    </tr>\n",
       "    <tr>\n",
       "      <th>1970-04-01</th>\n",
       "      <td>1970-04-01</td>\n",
       "      <td>1</td>\n",
       "      <td>10.31</td>\n",
       "      <td>-69.83</td>\n",
       "      <td>0.895653</td>\n",
       "      <td>0.481870</td>\n",
       "      <td>1.164550</td>\n",
       "      <td>0.476123</td>\n",
       "      <td>0.383010</td>\n",
       "    </tr>\n",
       "    <tr>\n",
       "      <th>1970-05-01</th>\n",
       "      <td>1970-05-01</td>\n",
       "      <td>1</td>\n",
       "      <td>10.31</td>\n",
       "      <td>-69.83</td>\n",
       "      <td>2.909450</td>\n",
       "      <td>2.013797</td>\n",
       "      <td>2.248411</td>\n",
       "      <td>0.444048</td>\n",
       "      <td>0.439023</td>\n",
       "    </tr>\n",
       "    <tr>\n",
       "      <th>1970-06-01</th>\n",
       "      <td>1970-06-01</td>\n",
       "      <td>1</td>\n",
       "      <td>10.31</td>\n",
       "      <td>-69.83</td>\n",
       "      <td>1.247108</td>\n",
       "      <td>-1.662342</td>\n",
       "      <td>-0.571359</td>\n",
       "      <td>0.369922</td>\n",
       "      <td>0.220023</td>\n",
       "    </tr>\n",
       "  </tbody>\n",
       "</table>\n",
       "</div>"
      ],
      "text/plain": [
       "              periodo  id_point  latitud  longitud  precipitacion_mm  \\\n",
       "periodo                                                                \n",
       "1970-02-01 1970-02-01         1    10.31    -69.83          0.081278   \n",
       "1970-03-01 1970-03-01         1    10.31    -69.83          0.413783   \n",
       "1970-04-01 1970-04-01         1    10.31    -69.83          0.895653   \n",
       "1970-05-01 1970-05-01         1    10.31    -69.83          2.909450   \n",
       "1970-06-01 1970-06-01         1    10.31    -69.83          1.247108   \n",
       "\n",
       "            dif_precipitacion_mm  pro_precipitacion_mm  oni_trans  \\\n",
       "periodo                                                             \n",
       "1970-02-01             -0.831787             -0.910983   0.506771   \n",
       "1970-03-01              0.332504              4.090928   0.497505   \n",
       "1970-04-01              0.481870              1.164550   0.476123   \n",
       "1970-05-01              2.013797              2.248411   0.444048   \n",
       "1970-06-01             -1.662342             -0.571359   0.369922   \n",
       "\n",
       "            minmax_pro_precipitacion_mm  \n",
       "periodo                                  \n",
       "1970-02-01                     0.120336  \n",
       "1970-03-01                     0.510382  \n",
       "1970-04-01                     0.383010  \n",
       "1970-05-01                     0.439023  \n",
       "1970-06-01                     0.220023  "
      ]
     },
     "execution_count": 21,
     "metadata": {},
     "output_type": "execute_result"
    }
   ],
   "source": [
    "pre_scaler = MinMaxScaler()\n",
    "\n",
    "pre_scaler.fit(pd_model_id[['pro_precipitacion_mm']])\n",
    "#pre_scaler.fit(pd_model_id[['dif_precipitacion_mm']])\n",
    "\n",
    "#pd_model_id[y_output]  = pre_scaler.transform(pd_model_id[['dif_precipitacion_mm']])\n",
    "pd_model_id[y_output]  = pre_scaler.transform(pd_model_id[['pro_precipitacion_mm']])\n",
    "pd_model_id[y_output] = pd_model_id[y_output].apply(lambda x: x**(1./3.))\n",
    "# pd_model_id['minmax_pro_precipitacion_mm'] = np.log(pd_model['minmax_pro_precipitacion_mm'])\n",
    "pd_model_id.head()"
   ]
  },
  {
   "cell_type": "code",
   "execution_count": 22,
   "metadata": {},
   "outputs": [
    {
     "data": {
      "text/plain": [
       "<AxesSubplot:xlabel='periodo'>"
      ]
     },
     "execution_count": 22,
     "metadata": {},
     "output_type": "execute_result"
    },
    {
     "data": {
      "image/png": "[encoded data removed]",
      "text/plain": [
       "<Figure size 432x288 with 1 Axes>"
      ]
     },
     "metadata": {
      "needs_background": "light"
     },
     "output_type": "display_data"
    }
   ],
   "source": [
    "pd_model_id['minmax_pro_precipitacion_mm'].plot()"
   ]
  },
  {
   "cell_type": "markdown",
   "metadata": {},
   "source": [
    "Definiendo estructura de datos"
   ]
  },
  {
   "cell_type": "code",
   "execution_count": 23,
   "metadata": {},
   "outputs": [],
   "source": [
    "def split_data(pd_model_id,exog_order,auto_order,exog_delay,prediction_order):\n",
    "    \"\"\"\n",
    "    Funcion para dale estructura a los datos\n",
    "    \"\"\"\n",
    "\n",
    "    min_index = max([exog_order,auto_order])\n",
    "\n",
    "    x_data = []\n",
    "    y_data = []\n",
    "\n",
    "    for t in pd_model_id[min_index:].index:\n",
    "\n",
    "        #t = pd_model_id[min_index:].index.min()\n",
    "\n",
    "        to_split = pd_model_id[[y_output,exogena]]\n",
    "        to_split = to_split[(t-pd.DateOffset(months=auto_order)):t].copy()\n",
    "\n",
    "        # Exogena\n",
    "        x_exo = to_split[exogena][(t-pd.DateOffset(months=exog_delay+exog_order)):(t-pd.DateOffset(months=exog_delay+1))]\\\n",
    "                            .to_numpy()\\\n",
    "                            .astype(float)\\\n",
    "                            .reshape(-1)\n",
    "\n",
    "        # Auto\n",
    "        x_auto = to_split[y_output][:-1]\\\n",
    "                    .to_numpy()\\\n",
    "                    .astype(float)\\\n",
    "                    .reshape(-1)\n",
    "\n",
    "        x_data.append(np.concatenate([x_exo, x_auto],axis=None))\n",
    "        y_data.append(to_split[y_output][-1])\n",
    "\n",
    "    x_data = np.array(x_data)\n",
    "    y_data = np.array(y_data)\n",
    "\n",
    "    return x_data, y_data"
   ]
  },
  {
   "cell_type": "code",
   "execution_count": 24,
   "metadata": {},
   "outputs": [
    {
     "name": "stdout",
     "output_type": "stream",
     "text": [
      "(472, 216)\n",
      "(472,)\n"
     ]
    }
   ],
   "source": [
    "x_data, y_data = split_data(pd_model_id,exog_order,auto_order,exog_delay,prediction_order)\n",
    "\n",
    "\n",
    "print(x_data.shape)\n",
    "print(y_data.shape)"
   ]
  },
  {
   "cell_type": "markdown",
   "metadata": {},
   "source": [
    "Entrenamiento y validación"
   ]
  },
  {
   "cell_type": "code",
   "execution_count": 25,
   "metadata": {},
   "outputs": [
    {
     "name": "stdout",
     "output_type": "stream",
     "text": [
      "(460, 216)\n",
      "(12, 216)\n",
      "(460,)\n",
      "(12,)\n"
     ]
    }
   ],
   "source": [
    "x_train = x_data[:-prediction_order]\n",
    "x_vasl = x_data[-prediction_order:]\n",
    "\n",
    "y_train = y_data[:-prediction_order]\n",
    "y_vasl = y_data[-prediction_order:]\n",
    "\n",
    "print(x_train.shape)\n",
    "print(x_vasl.shape)\n",
    "\n",
    "print(y_train.shape)\n",
    "print(y_vasl.shape)"
   ]
  },
  {
   "cell_type": "markdown",
   "metadata": {},
   "source": [
    "Modelo NARX"
   ]
  },
  {
   "cell_type": "code",
   "execution_count": 26,
   "metadata": {},
   "outputs": [],
   "source": [
    "import os\n",
    "os.environ['TF_CPP_MIN_LOG_LEVEL'] = '2'"
   ]
  },
  {
   "cell_type": "code",
   "execution_count": 27,
   "metadata": {},
   "outputs": [],
   "source": [
    "# Metrícas\n",
    "mae = keras.metrics.MeanAbsoluteError()\n",
    "rmse = keras.metrics.RootMeanSquaredError()"
   ]
  },
  {
   "cell_type": "code",
   "execution_count": 28,
   "metadata": {},
   "outputs": [],
   "source": [
    "confi = {'Input':{'batch_size':None,\n",
    "                'name':'input',\n",
    "                'dtype':None,\n",
    "                'sparse':None,\n",
    "                'tensor':None,\n",
    "                'ragged':None,\n",
    "                'type_spec':None},\n",
    "        'Dense':{'use_bias':True,\n",
    "                'kernel_regularizer':None,\n",
    "                'bias_regularizer':None,\n",
    "                'activity_regularizer':None,\n",
    "                'kernel_constraint':None,\n",
    "                'bias_constraint':None\n",
    "                }\n",
    "        }"
   ]
  },
  {
   "cell_type": "code",
   "execution_count": 29,
   "metadata": {},
   "outputs": [
    {
     "data": {
      "text/plain": [
       "96"
      ]
     },
     "execution_count": 29,
     "metadata": {},
     "output_type": "execute_result"
    }
   ],
   "source": [
    "total = int(2*x_train.shape[-1]/3)\n",
    "\n",
    "int(2*total/3)"
   ]
  },
  {
   "cell_type": "code",
   "execution_count": 30,
   "metadata": {},
   "outputs": [
    {
     "name": "stdout",
     "output_type": "stream",
     "text": [
      "[72, 57, 28, 1]\n"
     ]
    }
   ],
   "source": [
    "\n",
    "n_neurons = [int(3*total/6), int(2*total/5),int(1*total/5),1]\n",
    "print(n_neurons)\n",
    "activation = ['sigmoid','sigmoid','sigmoid','sigmoid']\n",
    "kernel_initializer = 'lecun_normal'\n",
    "bias_initializer = 'zeros'\n",
    "patience = 10\n",
    "epochs=500\n",
    "\n",
    "\n",
    "# Modelo\n",
    "model = keras.models.Sequential()\n",
    "\n",
    "# Entradas\n",
    "model.add(keras.layers.Input(shape=(x_train.shape[-1],),\n",
    "                                    batch_size = confi.get('Input').get('batch_size'),\n",
    "                                    name = confi.get('Input').get('name'),\n",
    "                                    dtype = confi.get('Input').get('dtype'),\n",
    "                                    sparse = confi.get('Input').get('sparse'),\n",
    "                                    tensor = confi.get('Input').get('tensor'),\n",
    "                                    ragged = confi.get('Input').get('ragged'),\n",
    "                                    type_spec = confi.get('Input').get('type_spec')\n",
    "                                    ))\n",
    "\n",
    "# Hidden Leyers\n",
    "model.add(keras.layers.Dense(   units=n_neurons[0],\n",
    "                                activation=activation[0],\n",
    "                                use_bias = confi.get('Dense').get('use_bias'),\n",
    "                                kernel_initializer=kernel_initializer,\n",
    "                                bias_initializer=bias_initializer,\n",
    "                                kernel_regularizer = confi.get('Dense').get('kernel_regularizer'),\n",
    "                                bias_regularizer = confi.get('Dense').get('bias_regularizer'),\n",
    "                                activity_regularizer = confi.get('Dense').get('activity_regularizer'),\n",
    "                                kernel_constraint = confi.get('Dense').get('kernel_constraint'),\n",
    "                                bias_constraint = confi.get('Dense').get('bias_constraint')\n",
    "                                ))\n",
    "\n",
    "model.add(keras.layers.Dropout(0.2))\n",
    "\n",
    "model.add(keras.layers.Dense(   units=n_neurons[1],\n",
    "                                activation=activation[1],\n",
    "                                use_bias = confi.get('Dense').get('use_bias'),\n",
    "                                kernel_initializer=kernel_initializer,\n",
    "                                bias_initializer=bias_initializer,\n",
    "                                kernel_regularizer = confi.get('Dense').get('kernel_regularizer'),\n",
    "                                bias_regularizer = confi.get('Dense').get('bias_regularizer'),\n",
    "                                activity_regularizer = confi.get('Dense').get('activity_regularizer'),\n",
    "                                kernel_constraint = confi.get('Dense').get('kernel_constraint'),\n",
    "                                bias_constraint = confi.get('Dense').get('bias_constraint')\n",
    "                                ))\n",
    "\n",
    "#model.add(keras.layers.Dropout(0.05))\n",
    "\n",
    "\n",
    "model.add(keras.layers.Dense(   units=n_neurons[2],\n",
    "                                activation=activation[2],\n",
    "                                use_bias = confi.get('Dense').get('use_bias'),\n",
    "                                kernel_initializer=kernel_initializer,\n",
    "                                bias_initializer=bias_initializer,\n",
    "                                kernel_regularizer = confi.get('Dense').get('kernel_regularizer'),\n",
    "                                bias_regularizer = confi.get('Dense').get('bias_regularizer'),\n",
    "                                activity_regularizer = confi.get('Dense').get('activity_regularizer'),\n",
    "                                kernel_constraint = confi.get('Dense').get('kernel_constraint'),\n",
    "                                bias_constraint = confi.get('Dense').get('bias_constraint')\n",
    "                                ))\n",
    "\n",
    "#model.add(keras.layers.Dropout(0.05))\n",
    "\n",
    "model.add(keras.layers.Dense(   units=n_neurons[3],\n",
    "                                activation=activation[3],\n",
    "                                use_bias = confi.get('Dense').get('use_bias'),\n",
    "                                kernel_initializer=kernel_initializer,\n",
    "                                bias_initializer=bias_initializer,\n",
    "                                kernel_regularizer = confi.get('Dense').get('kernel_regularizer'),\n",
    "                                bias_regularizer = confi.get('Dense').get('bias_regularizer'),\n",
    "                                activity_regularizer = confi.get('Dense').get('activity_regularizer'),\n",
    "                                kernel_constraint = confi.get('Dense').get('kernel_constraint'),\n",
    "                                bias_constraint = confi.get('Dense').get('bias_constraint')\n",
    "                                ))\n",
    "\n",
    "#model.add(keras.layers.Dropout(0.05))\n",
    "\n",
    "# Out\n",
    "model.add(keras.layers.Dense(   units=1,\n",
    "                                activation='linear',\n",
    "                                # use_bias = confi.get('Dense').get('use_bias'),\n",
    "                                kernel_initializer=kernel_initializer,\n",
    "                                bias_initializer=bias_initializer,\n",
    "                                # kernel_regularizer = confi.get('Dense').get('kernel_regularizer'),\n",
    "                                # bias_regularizer = confi.get('Dense').get('bias_regularizer'),\n",
    "                                # activity_regularizer = confi.get('Dense').get('activity_regularizer'),\n",
    "                                # kernel_constraint = confi.get('Dense').get('kernel_constraint'),\n",
    "                                # bias_constraint = confi.get('Dense').get('bias_constraint')\n",
    "                                ))\n",
    "                                \n",
    "\n",
    "model.compile(loss='mean_squared_error', optimizer='adam', metrics=[mae,rmse]) "
   ]
  },
  {
   "cell_type": "code",
   "execution_count": 31,
   "metadata": {},
   "outputs": [],
   "source": [
    "callback = keras.callbacks.EarlyStopping(\n",
    "                                            monitor=\"loss\",\n",
    "                                            min_delta=0,\n",
    "                                            patience=patience,\n",
    "                                            verbose=0,\n",
    "                                            mode=\"min\",\n",
    "                                            baseline=None,\n",
    "                                            restore_best_weights=False,\n",
    "                                        )"
   ]
  },
  {
   "cell_type": "markdown",
   "metadata": {},
   "source": [
    "Directorio experimento"
   ]
  },
  {
   "cell_type": "code",
   "execution_count": 32,
   "metadata": {},
   "outputs": [],
   "source": [
    "# experimento = f'experiments/narx/narx_prec_{id_point}_{len(n_neurons)}_{activation[0]}_{prediction_order}_{auto_order}_{exog_order}_{exog_delay}'\n",
    "\n",
    "# try:\n",
    "#     os.mkdir(f'{DIR}/{experimento}')\n",
    "# except:\n",
    "#     pass"
   ]
  },
  {
   "cell_type": "markdown",
   "metadata": {},
   "source": [
    "Entrenamiento"
   ]
  },
  {
   "cell_type": "code",
   "execution_count": 33,
   "metadata": {},
   "outputs": [],
   "source": [
    "history = model.fit(x=x_train,\n",
    "                    y=y_train,\n",
    "                    epochs=epochs,\n",
    "                    batch_size=1,\n",
    "                    verbose=0,\n",
    "                    workers=2,\n",
    "                    callbacks=[callback])"
   ]
  },
  {
   "cell_type": "code",
   "execution_count": 34,
   "metadata": {},
   "outputs": [
    {
     "name": "stdout",
     "output_type": "stream",
     "text": [
      "Total epocas:244\n"
     ]
    }
   ],
   "source": [
    "print(f'Total epocas:{len(history.epoch)}')"
   ]
  },
  {
   "cell_type": "markdown",
   "metadata": {},
   "source": [
    "Guardando experimento"
   ]
  },
  {
   "cell_type": "code",
   "execution_count": 35,
   "metadata": {},
   "outputs": [],
   "source": [
    "# model.save(f'{DIR}/{experimento}/narx_precipitacion_model.h5')\n",
    "# # Save Pesos\n",
    "# model.save_weights(f'{DIR}/{experimento}/narx_precipitacionweights.h5')\n",
    "\n",
    "# # Save History\n",
    "# import pickle\n",
    "# with open(f'{DIR}/{experimento}/narx_precipitacion_history.pkl', 'wb') as file_pi:\n",
    "#     pickle.dump(history.history, file_pi)"
   ]
  },
  {
   "cell_type": "markdown",
   "metadata": {},
   "source": [
    "Evaluación entrenamiento"
   ]
  },
  {
   "cell_type": "code",
   "execution_count": 36,
   "metadata": {},
   "outputs": [],
   "source": [
    "min_index = max([exog_order,auto_order])"
   ]
  },
  {
   "cell_type": "code",
   "execution_count": 37,
   "metadata": {},
   "outputs": [],
   "source": [
    "# make predictions\n",
    "trainPredict = model.predict(x_train, verbose=0).reshape(-1)\n",
    "testPredict = model.predict(x_vasl, verbose=0).reshape(-1)"
   ]
  },
  {
   "cell_type": "code",
   "execution_count": 38,
   "metadata": {},
   "outputs": [
    {
     "data": {
      "text/html": [
       "<div>\n",
       "<style scoped>\n",
       "    .dataframe tbody tr th:only-of-type {\n",
       "        vertical-align: middle;\n",
       "    }\n",
       "\n",
       "    .dataframe tbody tr th {\n",
       "        vertical-align: top;\n",
       "    }\n",
       "\n",
       "    .dataframe thead th {\n",
       "        text-align: right;\n",
       "    }\n",
       "</style>\n",
       "<table border=\"1\" class=\"dataframe\">\n",
       "  <thead>\n",
       "    <tr style=\"text-align: right;\">\n",
       "      <th></th>\n",
       "      <th>prediction</th>\n",
       "      <th>minmax_pro_precipitacion_mm</th>\n",
       "      <th>type</th>\n",
       "      <th>pro_precipitacion_mm</th>\n",
       "      <th>prediction_pro_precipitacion_mm</th>\n",
       "    </tr>\n",
       "    <tr>\n",
       "      <th>periodo</th>\n",
       "      <th></th>\n",
       "      <th></th>\n",
       "      <th></th>\n",
       "      <th></th>\n",
       "      <th></th>\n",
       "    </tr>\n",
       "  </thead>\n",
       "  <tbody>\n",
       "    <tr>\n",
       "      <th>1983-02-01</th>\n",
       "      <td>0.236207</td>\n",
       "      <td>0.245718</td>\n",
       "      <td>training</td>\n",
       "      <td>-0.411836</td>\n",
       "      <td>-0.475005</td>\n",
       "    </tr>\n",
       "    <tr>\n",
       "      <th>1983-03-01</th>\n",
       "      <td>0.433620</td>\n",
       "      <td>0.446369</td>\n",
       "      <td>training</td>\n",
       "      <td>2.413069</td>\n",
       "      <td>2.130778</td>\n",
       "    </tr>\n",
       "    <tr>\n",
       "      <th>1983-04-01</th>\n",
       "      <td>0.516709</td>\n",
       "      <td>0.557533</td>\n",
       "      <td>training</td>\n",
       "      <td>5.629390</td>\n",
       "      <td>4.281762</td>\n",
       "    </tr>\n",
       "    <tr>\n",
       "      <th>1983-05-01</th>\n",
       "      <td>0.242602</td>\n",
       "      <td>0.230030</td>\n",
       "      <td>training</td>\n",
       "      <td>-0.513394</td>\n",
       "      <td>-0.433083</td>\n",
       "    </tr>\n",
       "    <tr>\n",
       "      <th>1983-06-01</th>\n",
       "      <td>0.217985</td>\n",
       "      <td>0.217980</td>\n",
       "      <td>training</td>\n",
       "      <td>-0.582564</td>\n",
       "      <td>-0.582538</td>\n",
       "    </tr>\n",
       "  </tbody>\n",
       "</table>\n",
       "</div>"
      ],
      "text/plain": [
       "            prediction  minmax_pro_precipitacion_mm      type  \\\n",
       "periodo                                                         \n",
       "1983-02-01    0.236207                     0.245718  training   \n",
       "1983-03-01    0.433620                     0.446369  training   \n",
       "1983-04-01    0.516709                     0.557533  training   \n",
       "1983-05-01    0.242602                     0.230030  training   \n",
       "1983-06-01    0.217985                     0.217980  training   \n",
       "\n",
       "            pro_precipitacion_mm  prediction_pro_precipitacion_mm  \n",
       "periodo                                                            \n",
       "1983-02-01             -0.411836                        -0.475005  \n",
       "1983-03-01              2.413069                         2.130778  \n",
       "1983-04-01              5.629390                         4.281762  \n",
       "1983-05-01             -0.513394                        -0.433083  \n",
       "1983-06-01             -0.582564                        -0.582538  "
      ]
     },
     "execution_count": 38,
     "metadata": {},
     "output_type": "execute_result"
    }
   ],
   "source": [
    "# Data de test\n",
    "trainind_pd = pd.DataFrame(trainPredict,\n",
    "                            index = pd_model_id[min_index:(min_index+trainPredict.shape[0])].index,\n",
    "                            columns=['prediction']\n",
    "                            )\n",
    "                            \n",
    "trainind_pd[y_output] = y_train.reshape(-1)\n",
    "trainind_pd['type'] = 'training'\n",
    "\n",
    "trainind_pd['pro_precipitacion_mm'] = trainind_pd[y_output].apply(lambda x: x**3)\n",
    "trainind_pd['pro_precipitacion_mm'] = pre_scaler.inverse_transform(trainind_pd[['pro_precipitacion_mm']])\n",
    "\n",
    "trainind_pd['prediction_pro_precipitacion_mm'] = trainind_pd['prediction'].apply(lambda x: x**3)\n",
    "trainind_pd['prediction_pro_precipitacion_mm'] = pre_scaler.inverse_transform(trainind_pd[['prediction_pro_precipitacion_mm']])\n",
    "\n",
    "\n",
    "trainind_pd.head()"
   ]
  },
  {
   "cell_type": "code",
   "execution_count": 39,
   "metadata": {},
   "outputs": [
    {
     "data": {
      "text/plain": [
       "{'mape': 69.2076610333939,\n",
       " 'mae': 0.29196326314794335,\n",
       " 'mse': 0.6468718137665831,\n",
       " 'rmse': 0.418443143445669,\n",
       " 'r2': 0.950957192571727}"
      ]
     },
     "execution_count": 39,
     "metadata": {},
     "output_type": "execute_result"
    }
   ],
   "source": [
    "trainig_metrics = metrics(observado=trainind_pd.pro_precipitacion_mm,\n",
    "                          prediccion=trainind_pd.prediction_pro_precipitacion_mm)\n",
    "trainig_metrics"
   ]
  },
  {
   "cell_type": "code",
   "execution_count": 40,
   "metadata": {},
   "outputs": [
    {
     "data": {
      "text/plain": [
       "<AxesSubplot:xlabel='periodo'>"
      ]
     },
     "execution_count": 40,
     "metadata": {},
     "output_type": "execute_result"
    },
    {
     "data": {
      "image/png": "[encoded data removed]",
      "text/plain": [
       "<Figure size 432x288 with 1 Axes>"
      ]
     },
     "metadata": {
      "needs_background": "light"
     },
     "output_type": "display_data"
    }
   ],
   "source": [
    "trainind_pd[['pro_precipitacion_mm','prediction_pro_precipitacion_mm']].plot()"
   ]
  },
  {
   "cell_type": "markdown",
   "metadata": {},
   "source": [
    "Evaluación validación"
   ]
  },
  {
   "cell_type": "code",
   "execution_count": 41,
   "metadata": {},
   "outputs": [
    {
     "data": {
      "text/plain": [
       "{'mape': 99.76198887305321,\n",
       " 'mae': 1.3281829001749905,\n",
       " 'mse': 2.181849137851309,\n",
       " 'rmse': 4.7604656603425015,\n",
       " 'r2': 0.2518492854583191}"
      ]
     },
     "execution_count": 41,
     "metadata": {},
     "output_type": "execute_result"
    }
   ],
   "source": [
    "# Data de Validacion\n",
    "validation_pd = pd.DataFrame(testPredict,\n",
    "                            index = pd_model_id[(min_index+trainPredict.shape[0]):(min_index+trainPredict.shape[0]+prediction_order)].index,\n",
    "                            columns=['prediction']\n",
    "                            )\n",
    "\n",
    "validation_pd[y_output] = y_vasl.reshape(-1)\n",
    "validation_pd['type'] = 'validation'\n",
    "\n",
    "\n",
    "validation_pd['pro_precipitacion_mm'] = validation_pd[y_output].apply(lambda x: x**3)\n",
    "validation_pd['pro_precipitacion_mm'] = pre_scaler.inverse_transform(validation_pd[['pro_precipitacion_mm']])\n",
    "\n",
    "validation_pd['prediction_pro_precipitacion_mm'] = validation_pd['prediction'].apply(lambda x: x**3)\n",
    "validation_pd['prediction_pro_precipitacion_mm'] = pre_scaler.inverse_transform(validation_pd[['prediction_pro_precipitacion_mm']])\n",
    "\n",
    "\n",
    "# Validacion entrenamiento\n",
    "validation_metrics = metrics(observado=validation_pd.pro_precipitacion_mm,\n",
    "                          prediccion=validation_pd.prediction_pro_precipitacion_mm)\n",
    "validation_metrics"
   ]
  },
  {
   "cell_type": "code",
   "execution_count": 42,
   "metadata": {},
   "outputs": [
    {
     "data": {
      "text/plain": [
       "<AxesSubplot:xlabel='periodo'>"
      ]
     },
     "execution_count": 42,
     "metadata": {},
     "output_type": "execute_result"
    },
    {
     "data": {
      "image/png": "[encoded data removed]",
      "text/plain": [
       "<Figure size 432x288 with 1 Axes>"
      ]
     },
     "metadata": {
      "needs_background": "light"
     },
     "output_type": "display_data"
    }
   ],
   "source": [
    "validation_pd[['pro_precipitacion_mm','prediction_pro_precipitacion_mm']].plot()"
   ]
  },
  {
   "cell_type": "markdown",
   "metadata": {},
   "source": [
    "Test"
   ]
  },
  {
   "cell_type": "code",
   "execution_count": 43,
   "metadata": {},
   "outputs": [],
   "source": [
    "def predict_one_stap_narx(model,data_predict,data_exogena,exog_order,auto_order,exog_delay,prediction_order):\n",
    "  \"\"\"\n",
    "  Funcion para predecir a un paso\n",
    "  \"\"\"\n",
    "  data_predict = data_predict.copy()\n",
    "  data_predict['type'] = 'data_in'\n",
    "\n",
    "  for t in data_exogena.index:\n",
    "    \n",
    "      x_data_test, y_data_test = split_data(data_predict,\n",
    "                                          exog_order,\n",
    "                                          auto_order,\n",
    "                                          exog_delay,\n",
    "                                          prediction_order)\n",
    "\n",
    "\n",
    "      predit = model.predict(x_data_test[-1].reshape(1, x_data_test.shape[1]), verbose=0).reshape(-1)\n",
    "      exo = data_exogena[data_exogena.index==t][exogena][0]\n",
    "\n",
    "      data_test = pd.DataFrame({'periodo':t, y_output:predit, exogena:exo,'type':'data_out'},index=[0])\n",
    "      data_test.index = pd.to_datetime(data_test.periodo)\n",
    "\n",
    "      data_predict = pd.concat([data_predict,\n",
    "                                data_test[list(data_predict)]\n",
    "                              ])\n",
    "\n",
    "  return data_predict"
   ]
  },
  {
   "cell_type": "code",
   "execution_count": 44,
   "metadata": {},
   "outputs": [
    {
     "data": {
      "text/plain": [
       "{'mape': 210.95155216781438,\n",
       " 'mae': 2.0671621620755936,\n",
       " 'mse': 3.176501648067321,\n",
       " 'rmse': 10.090162720174407,\n",
       " 'r2': -0.5857613493208536}"
      ]
     },
     "execution_count": 44,
     "metadata": {},
     "output_type": "execute_result"
    }
   ],
   "source": [
    "data_predict = pd_model_id[pd_model_id.index<=trainind_pd.index.max()][[y_output,exogena]]\n",
    "data_exogena = pd_model_id[pd_model_id.index>trainind_pd.index.max()][[exogena]]\n",
    "\n",
    "pd_test = predict_one_stap_narx(model,data_predict,data_exogena,exog_order,auto_order,exog_delay,prediction_order)\n",
    "\n",
    "pd_test = pd_test[pd_test.type=='data_out']\n",
    "pd_test['type'] = 'test'\n",
    "\n",
    "pd_test['prediction'] = pd_test[y_output]\n",
    "pd_test[y_output] = pd_model_id[pd_model_id.index>=pd_test.index.min()][y_output]\n",
    "\n",
    "\n",
    "pd_test['pro_precipitacion_mm'] = pd_test[y_output].apply(lambda x: x**3)\n",
    "pd_test['pro_precipitacion_mm'] = pre_scaler.inverse_transform(pd_test[['pro_precipitacion_mm']])\n",
    "\n",
    "pd_test['prediction_pro_precipitacion_mm'] = pd_test['prediction'].apply(lambda x: x**3)\n",
    "pd_test['prediction_pro_precipitacion_mm'] = pre_scaler.inverse_transform(pd_test[['prediction_pro_precipitacion_mm']])\n",
    "\n",
    "\n",
    "\n",
    "# Validacion entrenamiento\n",
    "test_metrics = metrics(observado=pd_test.pro_precipitacion_mm,\n",
    "                        prediccion=pd_test.prediction_pro_precipitacion_mm)\n",
    "\n",
    "test_metrics"
   ]
  },
  {
   "cell_type": "code",
   "execution_count": 45,
   "metadata": {},
   "outputs": [
    {
     "data": {
      "text/plain": [
       "<AxesSubplot:xlabel='periodo'>"
      ]
     },
     "execution_count": 45,
     "metadata": {},
     "output_type": "execute_result"
    },
    {
     "data": {
      "image/png": "[encoded data removed]",
      "text/plain": [
       "<Figure size 432x288 with 1 Axes>"
      ]
     },
     "metadata": {
      "needs_background": "light"
     },
     "output_type": "display_data"
    }
   ],
   "source": [
    "pd_test[['pro_precipitacion_mm','prediction_pro_precipitacion_mm']].plot()"
   ]
  }
 ],
 "metadata": {
  "kernelspec": {
   "display_name": "Python 3.9.0 ('ssev_analytics')",
   "language": "python",
   "name": "python3"
  },
  "language_info": {
   "codemirror_mode": {
    "name": "ipython",
    "version": 3
   },
   "file_extension": ".py",
   "mimetype": "text/x-python",
   "name": "python",
   "nbconvert_exporter": "python",
   "pygments_lexer": "ipython3",
   "version": "3.9.0"
  },
  "orig_nbformat": 4,
  "vscode": {
   "interpreter": {
    "hash": "7962acab993cb47be2d59fc45292cc4ac077641aa9e9bf66ffc44da07d377859"
   }
  }
 },
 "nbformat": 4,
 "nbformat_minor": 2
}
