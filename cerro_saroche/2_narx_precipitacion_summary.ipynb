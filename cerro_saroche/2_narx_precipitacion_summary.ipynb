{
 "cells": [
  {
   "cell_type": "markdown",
   "metadata": {},
   "source": [
    "## Análisis Precipitación Total Parque Nacional Cerro Saroche\n",
    "\n",
    "**PROYECTO:** SISTEMA PARA EL SEGUIMIENTO DE ECOSISTEMAS VENEZOLANOS \\\n",
    "**AUTOR:** Javier Martinez"
   ]
  },
  {
   "cell_type": "code",
   "execution_count": 1,
   "metadata": {},
   "outputs": [],
   "source": [
    "import os\n",
    "\n",
    "import pandas as pd"
   ]
  },
  {
   "cell_type": "markdown",
   "metadata": {},
   "source": [
    "Experimentos"
   ]
  },
  {
   "cell_type": "code",
   "execution_count": 2,
   "metadata": {},
   "outputs": [],
   "source": [
    "DIR = f'./experiments/narx/precipitacion/'\n",
    "experiments = [DIR + x for x in os.listdir(DIR)]"
   ]
  },
  {
   "cell_type": "code",
   "execution_count": 3,
   "metadata": {},
   "outputs": [],
   "source": [
    "precipitacion_experiments = pd.concat([pd.read_csv(f'{x}/summary.csv') for x in experiments])"
   ]
  },
  {
   "cell_type": "code",
   "execution_count": 4,
   "metadata": {},
   "outputs": [],
   "source": [
    "resumen = precipitacion_experiments[['epocas',\n",
    "                                    'prediction_order',\n",
    "                                    'auto_order',\n",
    "                                    'exog_order',\n",
    "                                    'exog_delay',\n",
    "                                    'activation',\n",
    "                                    'id_point',\n",
    "                                    'n_neurons',\n",
    "                                    'capas',\n",
    "                                    'training_mse',\n",
    "                                    'training_rmse',\n",
    "                                    'training_mae',\n",
    "                                    'trainig_mape',\n",
    "                                    'trainig_r',\n",
    "                                    # 'validation_mse',\n",
    "                                    # 'validation_rmse',\n",
    "                                    # 'validation_mae',\n",
    "                                    # 'validation_mape',\n",
    "                                    'validation_r',\n",
    "                                    # 'test_mse',\n",
    "                                    # 'test_rmse',\n",
    "                                    # 'test_mae',\n",
    "                                    # 'test_mape',\n",
    "                                    'test_r']].sort_values(['id_point','auto_order'])\n",
    "resumen.to_csv('./experiments/narx/resumen_precipitacion_narx.csv')"
   ]
  }
 ],
 "metadata": {
  "kernelspec": {
   "display_name": "Python 3.9.0 ('ssev_analytics')",
   "language": "python",
   "name": "python3"
  },
  "language_info": {
   "codemirror_mode": {
    "name": "ipython",
    "version": 3
   },
   "file_extension": ".py",
   "mimetype": "text/x-python",
   "name": "python",
   "nbconvert_exporter": "python",
   "pygments_lexer": "ipython3",
   "version": "3.9.0"
  },
  "orig_nbformat": 4,
  "vscode": {
   "interpreter": {
    "hash": "7962acab993cb47be2d59fc45292cc4ac077641aa9e9bf66ffc44da07d377859"
   }
  }
 },
 "nbformat": 4,
 "nbformat_minor": 2
}
