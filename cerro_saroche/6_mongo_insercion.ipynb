{
 "cells": [
  {
   "cell_type": "markdown",
   "metadata": {},
   "source": [
    "## Integración de base de datos\n",
    "\n",
    "**PROYECTO:** SISTEMA PARA EL SEGUIMIENTO DE ECOSISTEMAS VENEZOLANOS \\\n",
    "**AUTOR:** Javier Martinez"
   ]
  },
  {
   "cell_type": "markdown",
   "metadata": {},
   "source": [
    "Directorio"
   ]
  },
  {
   "cell_type": "code",
   "execution_count": 1,
   "metadata": {},
   "outputs": [
    {
     "name": "stdout",
     "output_type": "stream",
     "text": [
      "> Directorio actual:  /media/javier/Compartida28/doctorado/ssev-analytics/cerro_saroche\n",
      "> Directorio actual:  /media/javier/Compartida28/doctorado/ssev-analytics\n"
     ]
    }
   ],
   "source": [
    "import os\n",
    "\n",
    "print('> Directorio actual: ', os.getcwd())  \n",
    "os.chdir('../')\n",
    "print('> Directorio actual: ', os.getcwd()) "
   ]
  },
  {
   "cell_type": "code",
   "execution_count": 2,
   "metadata": {},
   "outputs": [],
   "source": [
    "import pandas as pd\n",
    "\n",
    "from utils.MONGO import CONEXION\n",
    "from utils.UTILS import *\n",
    "from datetime import datetime"
   ]
  },
  {
   "cell_type": "code",
   "execution_count": 3,
   "metadata": {},
   "outputs": [],
   "source": [
    "import warnings\n",
    "warnings.filterwarnings('ignore')"
   ]
  },
  {
   "cell_type": "markdown",
   "metadata": {},
   "source": [
    "Parque"
   ]
  },
  {
   "cell_type": "code",
   "execution_count": 4,
   "metadata": {},
   "outputs": [],
   "source": [
    "park = 'cerro_saroche'\n",
    "\n",
    "DIR = f'./{park}/'"
   ]
  },
  {
   "cell_type": "markdown",
   "metadata": {},
   "source": [
    "Data NARX precipitación"
   ]
  },
  {
   "cell_type": "code",
   "execution_count": 5,
   "metadata": {},
   "outputs": [
    {
     "data": {
      "text/html": [
       "<div>\n",
       "<style scoped>\n",
       "    .dataframe tbody tr th:only-of-type {\n",
       "        vertical-align: middle;\n",
       "    }\n",
       "\n",
       "    .dataframe tbody tr th {\n",
       "        vertical-align: top;\n",
       "    }\n",
       "\n",
       "    .dataframe thead th {\n",
       "        text-align: right;\n",
       "    }\n",
       "</style>\n",
       "<table border=\"1\" class=\"dataframe\">\n",
       "  <thead>\n",
       "    <tr style=\"text-align: right;\">\n",
       "      <th></th>\n",
       "      <th>park</th>\n",
       "      <th>periodo</th>\n",
       "      <th>year</th>\n",
       "      <th>month</th>\n",
       "      <th>id_point</th>\n",
       "      <th>latitud</th>\n",
       "      <th>longitud</th>\n",
       "      <th>type</th>\n",
       "      <th>precipitacion_mm</th>\n",
       "      <th>prediction_precipitacion_mm</th>\n",
       "      <th>elevacion_media</th>\n",
       "    </tr>\n",
       "  </thead>\n",
       "  <tbody>\n",
       "    <tr>\n",
       "      <th>0</th>\n",
       "      <td>cerro_saroche</td>\n",
       "      <td>1995-01-01</td>\n",
       "      <td>1995</td>\n",
       "      <td>1</td>\n",
       "      <td>1</td>\n",
       "      <td>10.31</td>\n",
       "      <td>-69.83</td>\n",
       "      <td>training</td>\n",
       "      <td>0.072351</td>\n",
       "      <td>0.108708</td>\n",
       "      <td>508.541046</td>\n",
       "    </tr>\n",
       "    <tr>\n",
       "      <th>1</th>\n",
       "      <td>cerro_saroche</td>\n",
       "      <td>1995-02-01</td>\n",
       "      <td>1995</td>\n",
       "      <td>2</td>\n",
       "      <td>1</td>\n",
       "      <td>10.31</td>\n",
       "      <td>-69.83</td>\n",
       "      <td>training</td>\n",
       "      <td>0.340843</td>\n",
       "      <td>0.299087</td>\n",
       "      <td>508.541046</td>\n",
       "    </tr>\n",
       "    <tr>\n",
       "      <th>2</th>\n",
       "      <td>cerro_saroche</td>\n",
       "      <td>1995-03-01</td>\n",
       "      <td>1995</td>\n",
       "      <td>3</td>\n",
       "      <td>1</td>\n",
       "      <td>10.31</td>\n",
       "      <td>-69.83</td>\n",
       "      <td>training</td>\n",
       "      <td>2.290730</td>\n",
       "      <td>2.657068</td>\n",
       "      <td>508.541046</td>\n",
       "    </tr>\n",
       "    <tr>\n",
       "      <th>3</th>\n",
       "      <td>cerro_saroche</td>\n",
       "      <td>1995-04-01</td>\n",
       "      <td>1995</td>\n",
       "      <td>4</td>\n",
       "      <td>1</td>\n",
       "      <td>10.31</td>\n",
       "      <td>-69.83</td>\n",
       "      <td>training</td>\n",
       "      <td>1.064486</td>\n",
       "      <td>1.260912</td>\n",
       "      <td>508.541046</td>\n",
       "    </tr>\n",
       "    <tr>\n",
       "      <th>4</th>\n",
       "      <td>cerro_saroche</td>\n",
       "      <td>1995-05-01</td>\n",
       "      <td>1995</td>\n",
       "      <td>5</td>\n",
       "      <td>1</td>\n",
       "      <td>10.31</td>\n",
       "      <td>-69.83</td>\n",
       "      <td>training</td>\n",
       "      <td>1.114330</td>\n",
       "      <td>1.177589</td>\n",
       "      <td>508.541046</td>\n",
       "    </tr>\n",
       "  </tbody>\n",
       "</table>\n",
       "</div>"
      ],
      "text/plain": [
       "            park    periodo  year  month  id_point  latitud  longitud  \\\n",
       "0  cerro_saroche 1995-01-01  1995      1         1    10.31    -69.83   \n",
       "1  cerro_saroche 1995-02-01  1995      2         1    10.31    -69.83   \n",
       "2  cerro_saroche 1995-03-01  1995      3         1    10.31    -69.83   \n",
       "3  cerro_saroche 1995-04-01  1995      4         1    10.31    -69.83   \n",
       "4  cerro_saroche 1995-05-01  1995      5         1    10.31    -69.83   \n",
       "\n",
       "       type  precipitacion_mm  prediction_precipitacion_mm  elevacion_media  \n",
       "0  training          0.072351                     0.108708       508.541046  \n",
       "1  training          0.340843                     0.299087       508.541046  \n",
       "2  training          2.290730                     2.657068       508.541046  \n",
       "3  training          1.064486                     1.260912       508.541046  \n",
       "4  training          1.114330                     1.177589       508.541046  "
      ]
     },
     "execution_count": 5,
     "metadata": {},
     "output_type": "execute_result"
    }
   ],
   "source": [
    "pd_narx_precipitacion = pd.read_pickle(f'{DIR}data/narx_precipitacion.pkl')\n",
    "pd_narx_precipitacion.head()"
   ]
  },
  {
   "cell_type": "markdown",
   "metadata": {},
   "source": [
    "Data ANN precipitación"
   ]
  },
  {
   "cell_type": "code",
   "execution_count": 6,
   "metadata": {},
   "outputs": [
    {
     "data": {
      "text/html": [
       "<div>\n",
       "<style scoped>\n",
       "    .dataframe tbody tr th:only-of-type {\n",
       "        vertical-align: middle;\n",
       "    }\n",
       "\n",
       "    .dataframe tbody tr th {\n",
       "        vertical-align: top;\n",
       "    }\n",
       "\n",
       "    .dataframe thead th {\n",
       "        text-align: right;\n",
       "    }\n",
       "</style>\n",
       "<table border=\"1\" class=\"dataframe\">\n",
       "  <thead>\n",
       "    <tr style=\"text-align: right;\">\n",
       "      <th></th>\n",
       "      <th>park</th>\n",
       "      <th>periodo</th>\n",
       "      <th>year</th>\n",
       "      <th>month</th>\n",
       "      <th>id_point</th>\n",
       "      <th>latitud</th>\n",
       "      <th>longitud</th>\n",
       "      <th>type</th>\n",
       "      <th>precipitacion_mm</th>\n",
       "      <th>prediction_precipitacion_mm</th>\n",
       "      <th>elevacion_media</th>\n",
       "      <th>precipitacion_narx</th>\n",
       "      <th>prediction_ann</th>\n",
       "      <th>ndvi_media</th>\n",
       "    </tr>\n",
       "  </thead>\n",
       "  <tbody>\n",
       "    <tr>\n",
       "      <th>0</th>\n",
       "      <td>cerro_saroche</td>\n",
       "      <td>1995-01-01</td>\n",
       "      <td>1995</td>\n",
       "      <td>1</td>\n",
       "      <td>1</td>\n",
       "      <td>10.31</td>\n",
       "      <td>-69.83</td>\n",
       "      <td>training</td>\n",
       "      <td>0.072351</td>\n",
       "      <td>0.108708</td>\n",
       "      <td>508.541046</td>\n",
       "      <td>0.108708</td>\n",
       "      <td>0.207416</td>\n",
       "      <td>NaN</td>\n",
       "    </tr>\n",
       "    <tr>\n",
       "      <th>1</th>\n",
       "      <td>cerro_saroche</td>\n",
       "      <td>1995-02-01</td>\n",
       "      <td>1995</td>\n",
       "      <td>2</td>\n",
       "      <td>1</td>\n",
       "      <td>10.31</td>\n",
       "      <td>-69.83</td>\n",
       "      <td>training</td>\n",
       "      <td>0.340843</td>\n",
       "      <td>0.299087</td>\n",
       "      <td>508.541046</td>\n",
       "      <td>0.299087</td>\n",
       "      <td>0.262076</td>\n",
       "      <td>NaN</td>\n",
       "    </tr>\n",
       "    <tr>\n",
       "      <th>2</th>\n",
       "      <td>cerro_saroche</td>\n",
       "      <td>1995-03-01</td>\n",
       "      <td>1995</td>\n",
       "      <td>3</td>\n",
       "      <td>1</td>\n",
       "      <td>10.31</td>\n",
       "      <td>-69.83</td>\n",
       "      <td>training</td>\n",
       "      <td>2.290730</td>\n",
       "      <td>2.657068</td>\n",
       "      <td>508.541046</td>\n",
       "      <td>2.657068</td>\n",
       "      <td>0.698307</td>\n",
       "      <td>NaN</td>\n",
       "    </tr>\n",
       "    <tr>\n",
       "      <th>3</th>\n",
       "      <td>cerro_saroche</td>\n",
       "      <td>1995-04-01</td>\n",
       "      <td>1995</td>\n",
       "      <td>4</td>\n",
       "      <td>1</td>\n",
       "      <td>10.31</td>\n",
       "      <td>-69.83</td>\n",
       "      <td>training</td>\n",
       "      <td>1.064486</td>\n",
       "      <td>1.260912</td>\n",
       "      <td>508.541046</td>\n",
       "      <td>1.260912</td>\n",
       "      <td>1.442033</td>\n",
       "      <td>NaN</td>\n",
       "    </tr>\n",
       "    <tr>\n",
       "      <th>4</th>\n",
       "      <td>cerro_saroche</td>\n",
       "      <td>1995-05-01</td>\n",
       "      <td>1995</td>\n",
       "      <td>5</td>\n",
       "      <td>1</td>\n",
       "      <td>10.31</td>\n",
       "      <td>-69.83</td>\n",
       "      <td>training</td>\n",
       "      <td>1.114330</td>\n",
       "      <td>1.177589</td>\n",
       "      <td>508.541046</td>\n",
       "      <td>1.177589</td>\n",
       "      <td>1.287615</td>\n",
       "      <td>NaN</td>\n",
       "    </tr>\n",
       "  </tbody>\n",
       "</table>\n",
       "</div>"
      ],
      "text/plain": [
       "            park    periodo  year  month  id_point  latitud  longitud  \\\n",
       "0  cerro_saroche 1995-01-01  1995      1         1    10.31    -69.83   \n",
       "1  cerro_saroche 1995-02-01  1995      2         1    10.31    -69.83   \n",
       "2  cerro_saroche 1995-03-01  1995      3         1    10.31    -69.83   \n",
       "3  cerro_saroche 1995-04-01  1995      4         1    10.31    -69.83   \n",
       "4  cerro_saroche 1995-05-01  1995      5         1    10.31    -69.83   \n",
       "\n",
       "       type  precipitacion_mm  prediction_precipitacion_mm  elevacion_media  \\\n",
       "0  training          0.072351                     0.108708       508.541046   \n",
       "1  training          0.340843                     0.299087       508.541046   \n",
       "2  training          2.290730                     2.657068       508.541046   \n",
       "3  training          1.064486                     1.260912       508.541046   \n",
       "4  training          1.114330                     1.177589       508.541046   \n",
       "\n",
       "   precipitacion_narx  prediction_ann  ndvi_media  \n",
       "0            0.108708        0.207416         NaN  \n",
       "1            0.299087        0.262076         NaN  \n",
       "2            2.657068        0.698307         NaN  \n",
       "3            1.260912        1.442033         NaN  \n",
       "4            1.177589        1.287615         NaN  "
      ]
     },
     "execution_count": 6,
     "metadata": {},
     "output_type": "execute_result"
    }
   ],
   "source": [
    "pd_ann_precipitacion = pd.read_pickle(f'{DIR}data/ann_precipitacion.pkl')\n",
    "pd_ann_precipitacion.head()"
   ]
  },
  {
   "cell_type": "markdown",
   "metadata": {},
   "source": [
    "Data NARX NDVI"
   ]
  },
  {
   "cell_type": "code",
   "execution_count": 7,
   "metadata": {},
   "outputs": [
    {
     "data": {
      "text/html": [
       "<div>\n",
       "<style scoped>\n",
       "    .dataframe tbody tr th:only-of-type {\n",
       "        vertical-align: middle;\n",
       "    }\n",
       "\n",
       "    .dataframe tbody tr th {\n",
       "        vertical-align: top;\n",
       "    }\n",
       "\n",
       "    .dataframe thead th {\n",
       "        text-align: right;\n",
       "    }\n",
       "</style>\n",
       "<table border=\"1\" class=\"dataframe\">\n",
       "  <thead>\n",
       "    <tr style=\"text-align: right;\">\n",
       "      <th></th>\n",
       "      <th>id_point</th>\n",
       "      <th>periodo</th>\n",
       "      <th>type</th>\n",
       "      <th>ndvi_prediction</th>\n",
       "      <th>ndvi_media</th>\n",
       "    </tr>\n",
       "  </thead>\n",
       "  <tbody>\n",
       "    <tr>\n",
       "      <th>0</th>\n",
       "      <td>1</td>\n",
       "      <td>2013-02-01</td>\n",
       "      <td>training</td>\n",
       "      <td>0.497152</td>\n",
       "      <td>0.499354</td>\n",
       "    </tr>\n",
       "    <tr>\n",
       "      <th>1</th>\n",
       "      <td>1</td>\n",
       "      <td>2013-03-01</td>\n",
       "      <td>training</td>\n",
       "      <td>0.394080</td>\n",
       "      <td>0.423398</td>\n",
       "    </tr>\n",
       "    <tr>\n",
       "      <th>2</th>\n",
       "      <td>1</td>\n",
       "      <td>2013-04-01</td>\n",
       "      <td>training</td>\n",
       "      <td>0.453817</td>\n",
       "      <td>0.441592</td>\n",
       "    </tr>\n",
       "    <tr>\n",
       "      <th>3</th>\n",
       "      <td>1</td>\n",
       "      <td>2013-05-01</td>\n",
       "      <td>training</td>\n",
       "      <td>0.528053</td>\n",
       "      <td>0.634015</td>\n",
       "    </tr>\n",
       "    <tr>\n",
       "      <th>4</th>\n",
       "      <td>1</td>\n",
       "      <td>2013-06-01</td>\n",
       "      <td>training</td>\n",
       "      <td>0.571129</td>\n",
       "      <td>0.582212</td>\n",
       "    </tr>\n",
       "  </tbody>\n",
       "</table>\n",
       "</div>"
      ],
      "text/plain": [
       "   id_point    periodo      type  ndvi_prediction  ndvi_media\n",
       "0         1 2013-02-01  training         0.497152    0.499354\n",
       "1         1 2013-03-01  training         0.394080    0.423398\n",
       "2         1 2013-04-01  training         0.453817    0.441592\n",
       "3         1 2013-05-01  training         0.528053    0.634015\n",
       "4         1 2013-06-01  training         0.571129    0.582212"
      ]
     },
     "execution_count": 7,
     "metadata": {},
     "output_type": "execute_result"
    }
   ],
   "source": [
    "pd_narx_ndvi = pd.read_pickle(f'{DIR}data/narx_ndvi.pkl')\n",
    "pd_narx_ndvi.periodo = pd.to_datetime(pd_narx_ndvi.periodo)\n",
    "pd_narx_ndvi.head()"
   ]
  },
  {
   "cell_type": "markdown",
   "metadata": {},
   "source": [
    "Integración de base de datos"
   ]
  },
  {
   "cell_type": "code",
   "execution_count": 8,
   "metadata": {},
   "outputs": [
    {
     "data": {
      "text/html": [
       "<div>\n",
       "<style scoped>\n",
       "    .dataframe tbody tr th:only-of-type {\n",
       "        vertical-align: middle;\n",
       "    }\n",
       "\n",
       "    .dataframe tbody tr th {\n",
       "        vertical-align: top;\n",
       "    }\n",
       "\n",
       "    .dataframe thead th {\n",
       "        text-align: right;\n",
       "    }\n",
       "</style>\n",
       "<table border=\"1\" class=\"dataframe\">\n",
       "  <thead>\n",
       "    <tr style=\"text-align: right;\">\n",
       "      <th></th>\n",
       "      <th>park</th>\n",
       "      <th>year</th>\n",
       "      <th>month</th>\n",
       "      <th>id_point</th>\n",
       "      <th>latitud</th>\n",
       "      <th>longitud</th>\n",
       "      <th>type</th>\n",
       "      <th>precipitacion_mm</th>\n",
       "      <th>precipitacion_narx</th>\n",
       "      <th>prediction_ann</th>\n",
       "      <th>elevacion_media</th>\n",
       "      <th>ndvi_prediction</th>\n",
       "      <th>ndvi_media</th>\n",
       "      <th>time</th>\n",
       "      <th>time_actualizacion</th>\n",
       "    </tr>\n",
       "  </thead>\n",
       "  <tbody>\n",
       "    <tr>\n",
       "      <th>0</th>\n",
       "      <td>cerro_saroche</td>\n",
       "      <td>1995</td>\n",
       "      <td>1</td>\n",
       "      <td>1</td>\n",
       "      <td>10.31</td>\n",
       "      <td>-69.83</td>\n",
       "      <td>training</td>\n",
       "      <td>0.072351</td>\n",
       "      <td>0.108708</td>\n",
       "      <td>0.207416</td>\n",
       "      <td>508.541046</td>\n",
       "      <td>NaN</td>\n",
       "      <td>NaN</td>\n",
       "      <td>728294</td>\n",
       "      <td>738506</td>\n",
       "    </tr>\n",
       "    <tr>\n",
       "      <th>1</th>\n",
       "      <td>cerro_saroche</td>\n",
       "      <td>1995</td>\n",
       "      <td>2</td>\n",
       "      <td>1</td>\n",
       "      <td>10.31</td>\n",
       "      <td>-69.83</td>\n",
       "      <td>training</td>\n",
       "      <td>0.340843</td>\n",
       "      <td>0.299087</td>\n",
       "      <td>0.262076</td>\n",
       "      <td>508.541046</td>\n",
       "      <td>NaN</td>\n",
       "      <td>NaN</td>\n",
       "      <td>728325</td>\n",
       "      <td>738506</td>\n",
       "    </tr>\n",
       "    <tr>\n",
       "      <th>2</th>\n",
       "      <td>cerro_saroche</td>\n",
       "      <td>1995</td>\n",
       "      <td>3</td>\n",
       "      <td>1</td>\n",
       "      <td>10.31</td>\n",
       "      <td>-69.83</td>\n",
       "      <td>training</td>\n",
       "      <td>2.290730</td>\n",
       "      <td>2.657068</td>\n",
       "      <td>0.698307</td>\n",
       "      <td>508.541046</td>\n",
       "      <td>NaN</td>\n",
       "      <td>NaN</td>\n",
       "      <td>728353</td>\n",
       "      <td>738506</td>\n",
       "    </tr>\n",
       "    <tr>\n",
       "      <th>3</th>\n",
       "      <td>cerro_saroche</td>\n",
       "      <td>1995</td>\n",
       "      <td>4</td>\n",
       "      <td>1</td>\n",
       "      <td>10.31</td>\n",
       "      <td>-69.83</td>\n",
       "      <td>training</td>\n",
       "      <td>1.064486</td>\n",
       "      <td>1.260912</td>\n",
       "      <td>1.442033</td>\n",
       "      <td>508.541046</td>\n",
       "      <td>NaN</td>\n",
       "      <td>NaN</td>\n",
       "      <td>728384</td>\n",
       "      <td>738506</td>\n",
       "    </tr>\n",
       "    <tr>\n",
       "      <th>4</th>\n",
       "      <td>cerro_saroche</td>\n",
       "      <td>1995</td>\n",
       "      <td>5</td>\n",
       "      <td>1</td>\n",
       "      <td>10.31</td>\n",
       "      <td>-69.83</td>\n",
       "      <td>training</td>\n",
       "      <td>1.114330</td>\n",
       "      <td>1.177589</td>\n",
       "      <td>1.287615</td>\n",
       "      <td>508.541046</td>\n",
       "      <td>NaN</td>\n",
       "      <td>NaN</td>\n",
       "      <td>728414</td>\n",
       "      <td>738506</td>\n",
       "    </tr>\n",
       "  </tbody>\n",
       "</table>\n",
       "</div>"
      ],
      "text/plain": [
       "            park  year  month  id_point  latitud  longitud      type  \\\n",
       "0  cerro_saroche  1995      1         1    10.31    -69.83  training   \n",
       "1  cerro_saroche  1995      2         1    10.31    -69.83  training   \n",
       "2  cerro_saroche  1995      3         1    10.31    -69.83  training   \n",
       "3  cerro_saroche  1995      4         1    10.31    -69.83  training   \n",
       "4  cerro_saroche  1995      5         1    10.31    -69.83  training   \n",
       "\n",
       "   precipitacion_mm  precipitacion_narx  prediction_ann  elevacion_media  \\\n",
       "0          0.072351            0.108708        0.207416       508.541046   \n",
       "1          0.340843            0.299087        0.262076       508.541046   \n",
       "2          2.290730            2.657068        0.698307       508.541046   \n",
       "3          1.064486            1.260912        1.442033       508.541046   \n",
       "4          1.114330            1.177589        1.287615       508.541046   \n",
       "\n",
       "   ndvi_prediction  ndvi_media    time  time_actualizacion  \n",
       "0              NaN         NaN  728294              738506  \n",
       "1              NaN         NaN  728325              738506  \n",
       "2              NaN         NaN  728353              738506  \n",
       "3              NaN         NaN  728384              738506  \n",
       "4              NaN         NaN  728414              738506  "
      ]
     },
     "execution_count": 8,
     "metadata": {},
     "output_type": "execute_result"
    }
   ],
   "source": [
    "pd_analisis = pd.merge(pd_ann_precipitacion[['park',\n",
    "                                            'periodo',\n",
    "                                            'year',\n",
    "                                            'month',\n",
    "                                            'id_point',\n",
    "                                            'latitud',\n",
    "                                            'longitud',\n",
    "                                            'type',\n",
    "                                            'precipitacion_mm',\n",
    "                                            'precipitacion_narx',\n",
    "                                            'prediction_ann',\n",
    "                                            'elevacion_media']],\n",
    "                        pd_narx_ndvi[['id_point', 'periodo','ndvi_prediction', 'ndvi_media']],\n",
    "                        on=['id_point','periodo'],\n",
    "                        how='left')\n",
    "\n",
    "pd_analisis['time'] = pd_analisis['periodo'].apply(lambda x: datetime.toordinal(x))\n",
    "pd_analisis['time_actualizacion'] = int(datetime.today().toordinal())\n",
    "pd_analisis = pd_analisis[['park',\n",
    "                        'year',\n",
    "                        'month',\n",
    "                        'id_point',\n",
    "                        'latitud',\n",
    "                        'longitud',\n",
    "                        'type',\n",
    "                        'precipitacion_mm',\n",
    "                        'precipitacion_narx',\n",
    "                        'prediction_ann',\n",
    "                        'elevacion_media',\n",
    "                        'ndvi_prediction',\n",
    "                        'ndvi_media',\n",
    "                        'time',\n",
    "                        'time_actualizacion']]\n",
    "pd_analisis.head()"
   ]
  },
  {
   "cell_type": "code",
   "execution_count": 9,
   "metadata": {},
   "outputs": [
    {
     "data": {
      "text/plain": [
       "array(['training', 'test', 'prediction'], dtype=object)"
      ]
     },
     "execution_count": 9,
     "metadata": {},
     "output_type": "execute_result"
    }
   ],
   "source": [
    "pd_analisis.type.unique()"
   ]
  },
  {
   "cell_type": "code",
   "execution_count": 10,
   "metadata": {},
   "outputs": [],
   "source": [
    "import json\n",
    "\n",
    "json_data = '{ \"data\":' + pd_analisis.to_json(orient=\"records\") +\\\n",
    "                ',\"park\" : \"terepaima\"' + \"}\"\n",
    "\n",
    "with open(f'{DIR}data/json_data.json', 'w') as outfile:\n",
    "    outfile.write(json_data)"
   ]
  },
  {
   "cell_type": "code",
   "execution_count": 11,
   "metadata": {},
   "outputs": [
    {
     "data": {
      "text/plain": [
       "{'park': 'cerro_saroche',\n",
       " 'year': 2023,\n",
       " 'month': 5,\n",
       " 'id_point': 9,\n",
       " 'latitud': 10.21,\n",
       " 'longitud': -69.53,\n",
       " 'type': 'prediction',\n",
       " 'precipitacion_mm': None,\n",
       " 'precipitacion_narx': 2.465892701,\n",
       " 'prediction_ann': 1.4775212163,\n",
       " 'elevacion_media': 769.9250488281,\n",
       " 'ndvi_prediction': 0.3697563107,\n",
       " 'ndvi_media': None,\n",
       " 'time': 738641,\n",
       " 'time_actualizacion': 738506}"
      ]
     },
     "execution_count": 11,
     "metadata": {},
     "output_type": "execute_result"
    }
   ],
   "source": [
    "# Mongo coleccion\n",
    "documentos = json.loads( pd_analisis.to_json(orient=\"records\") )\n",
    "\n",
    "documentos[-1]"
   ]
  },
  {
   "cell_type": "markdown",
   "metadata": {},
   "source": [
    "Conexión Mongo DB"
   ]
  },
  {
   "cell_type": "code",
   "execution_count": 12,
   "metadata": {},
   "outputs": [
    {
     "data": {
      "text/plain": [
       "['estimateMeteorological',\n",
       " 'meteorological',\n",
       " 'estimateSSTNino34',\n",
       " 'polygons',\n",
       " 'SSTNino34']"
      ]
     },
     "execution_count": 12,
     "metadata": {},
     "output_type": "execute_result"
    }
   ],
   "source": [
    "# Creando la conexión con MongoDB\n",
    "db = CONEXION.conexion()\n",
    "db.list_collection_names()"
   ]
  },
  {
   "cell_type": "code",
   "execution_count": 13,
   "metadata": {},
   "outputs": [],
   "source": [
    "# insertando coleccion\n",
    "coleccion = db['estimateMeteorological']"
   ]
  },
  {
   "cell_type": "code",
   "execution_count": 14,
   "metadata": {},
   "outputs": [],
   "source": [
    "# Insertando documentos\n",
    "for doc in documentos:\n",
    "  coleccion.update_one({\"time\":doc.get('time'),\n",
    "                        \"id_point\":doc.get('id_point'),\n",
    "                        \"park\":\"cerro_saroche\"}, {\"$set\":doc}, upsert=True)"
   ]
  }
 ],
 "metadata": {
  "kernelspec": {
   "display_name": "Python 3.9.0 ('ssev_analytics')",
   "language": "python",
   "name": "python3"
  },
  "language_info": {
   "codemirror_mode": {
    "name": "ipython",
    "version": 3
   },
   "file_extension": ".py",
   "mimetype": "text/x-python",
   "name": "python",
   "nbconvert_exporter": "python",
   "pygments_lexer": "ipython3",
   "version": "3.9.0"
  },
  "orig_nbformat": 4,
  "vscode": {
   "interpreter": {
    "hash": "e56c79560264b688af88e93518e3937fef1fa675f081f3314d93243bb8758e38"
   }
  }
 },
 "nbformat": 4,
 "nbformat_minor": 2
}
