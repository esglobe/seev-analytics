{
 "cells": [
  {
   "cell_type": "markdown",
   "metadata": {},
   "source": [
    "## NARX SST Región Niño 3.4\n",
    "\n",
    "**PROYECTO:** SISTEMA PARA EL SEGUIMIENTO DE ECOSISTEMAS VENEZOLANOS \\\n",
    "**AUTOR:** Javier Martinez"
   ]
  },
  {
   "cell_type": "code",
   "execution_count": 1,
   "metadata": {},
   "outputs": [],
   "source": [
    "#https://www.tensorflow.org/tutorials/structured_data/time_series"
   ]
  },
  {
   "cell_type": "code",
   "execution_count": 2,
   "metadata": {},
   "outputs": [],
   "source": [
    "from MONGO import CONEXION\n",
    "from datetime import datetime\n",
    "import pandas as pd\n",
    "import numpy as np\n",
    "\n",
    "import tensorflow as tf\n",
    "from tensorflow import keras"
   ]
  },
  {
   "cell_type": "markdown",
   "metadata": {},
   "source": [
    "# Creando Coenxión con Mongo DB"
   ]
  },
  {
   "cell_type": "code",
   "execution_count": 3,
   "metadata": {},
   "outputs": [
    {
     "data": {
      "text/plain": [
       "['polygons', 'meteorological', 'SSTNino34']"
      ]
     },
     "execution_count": 3,
     "metadata": {},
     "output_type": "execute_result"
    }
   ],
   "source": [
    "# Creando la conexión con MongoDB\n",
    "db = CONEXION.conexion()\n",
    "db.list_collection_names()"
   ]
  },
  {
   "cell_type": "markdown",
   "metadata": {},
   "source": [
    "# Descargando la Información SST NIÑO3.4"
   ]
  },
  {
   "cell_type": "code",
   "execution_count": 4,
   "metadata": {},
   "outputs": [
    {
     "data": {
      "text/html": [
       "<div>\n",
       "<style scoped>\n",
       "    .dataframe tbody tr th:only-of-type {\n",
       "        vertical-align: middle;\n",
       "    }\n",
       "\n",
       "    .dataframe tbody tr th {\n",
       "        vertical-align: top;\n",
       "    }\n",
       "\n",
       "    .dataframe thead th {\n",
       "        text-align: right;\n",
       "    }\n",
       "</style>\n",
       "<table border=\"1\" class=\"dataframe\">\n",
       "  <thead>\n",
       "    <tr style=\"text-align: right;\">\n",
       "      <th></th>\n",
       "      <th>_id</th>\n",
       "      <th>year</th>\n",
       "      <th>month</th>\n",
       "      <th>nino34_mean</th>\n",
       "      <th>climatologica</th>\n",
       "      <th>anomalias</th>\n",
       "      <th>mes</th>\n",
       "      <th>time</th>\n",
       "      <th>time_actualizacion</th>\n",
       "      <th>periodo</th>\n",
       "      <th>mes_year</th>\n",
       "    </tr>\n",
       "    <tr>\n",
       "      <th>periodo</th>\n",
       "      <th></th>\n",
       "      <th></th>\n",
       "      <th></th>\n",
       "      <th></th>\n",
       "      <th></th>\n",
       "      <th></th>\n",
       "      <th></th>\n",
       "      <th></th>\n",
       "      <th></th>\n",
       "      <th></th>\n",
       "      <th></th>\n",
       "    </tr>\n",
       "  </thead>\n",
       "  <tbody>\n",
       "    <tr>\n",
       "      <th>2022-06-01</th>\n",
       "      <td>62e6d1d870bebdf1983a27a9</td>\n",
       "      <td>2022</td>\n",
       "      <td>6</td>\n",
       "      <td>26.96</td>\n",
       "      <td>27.73</td>\n",
       "      <td>-0.77</td>\n",
       "      <td>junio</td>\n",
       "      <td>738307</td>\n",
       "      <td>738367</td>\n",
       "      <td>2022-06-01</td>\n",
       "      <td>June-2022</td>\n",
       "    </tr>\n",
       "    <tr>\n",
       "      <th>2022-05-01</th>\n",
       "      <td>62e6d1d870bebdf1983a27a8</td>\n",
       "      <td>2022</td>\n",
       "      <td>5</td>\n",
       "      <td>26.82</td>\n",
       "      <td>27.94</td>\n",
       "      <td>-1.12</td>\n",
       "      <td>mayo</td>\n",
       "      <td>738276</td>\n",
       "      <td>738367</td>\n",
       "      <td>2022-05-01</td>\n",
       "      <td>May-2022</td>\n",
       "    </tr>\n",
       "    <tr>\n",
       "      <th>2022-04-01</th>\n",
       "      <td>62e6d1d870bebdf1983a27a7</td>\n",
       "      <td>2022</td>\n",
       "      <td>4</td>\n",
       "      <td>26.71</td>\n",
       "      <td>27.83</td>\n",
       "      <td>-1.12</td>\n",
       "      <td>abril</td>\n",
       "      <td>738246</td>\n",
       "      <td>738367</td>\n",
       "      <td>2022-04-01</td>\n",
       "      <td>April-2022</td>\n",
       "    </tr>\n",
       "    <tr>\n",
       "      <th>2022-03-01</th>\n",
       "      <td>62e6d1d870bebdf1983a27a6</td>\n",
       "      <td>2022</td>\n",
       "      <td>3</td>\n",
       "      <td>26.32</td>\n",
       "      <td>27.29</td>\n",
       "      <td>-0.98</td>\n",
       "      <td>marzo</td>\n",
       "      <td>738215</td>\n",
       "      <td>738367</td>\n",
       "      <td>2022-03-01</td>\n",
       "      <td>March-2022</td>\n",
       "    </tr>\n",
       "    <tr>\n",
       "      <th>2022-02-01</th>\n",
       "      <td>62e6d1d870bebdf1983a27a5</td>\n",
       "      <td>2022</td>\n",
       "      <td>2</td>\n",
       "      <td>25.87</td>\n",
       "      <td>26.76</td>\n",
       "      <td>-0.90</td>\n",
       "      <td>febrero</td>\n",
       "      <td>738187</td>\n",
       "      <td>738367</td>\n",
       "      <td>2022-02-01</td>\n",
       "      <td>February-2022</td>\n",
       "    </tr>\n",
       "    <tr>\n",
       "      <th>2022-01-01</th>\n",
       "      <td>62e6d1d870bebdf1983a27a4</td>\n",
       "      <td>2022</td>\n",
       "      <td>1</td>\n",
       "      <td>25.60</td>\n",
       "      <td>26.55</td>\n",
       "      <td>-0.95</td>\n",
       "      <td>enero</td>\n",
       "      <td>738156</td>\n",
       "      <td>738367</td>\n",
       "      <td>2022-01-01</td>\n",
       "      <td>January-2022</td>\n",
       "    </tr>\n",
       "    <tr>\n",
       "      <th>2021-12-01</th>\n",
       "      <td>62e6d1d870bebdf1983a27a3</td>\n",
       "      <td>2021</td>\n",
       "      <td>12</td>\n",
       "      <td>25.54</td>\n",
       "      <td>26.60</td>\n",
       "      <td>-1.06</td>\n",
       "      <td>diciembre</td>\n",
       "      <td>738125</td>\n",
       "      <td>738367</td>\n",
       "      <td>2021-12-01</td>\n",
       "      <td>December-2021</td>\n",
       "    </tr>\n",
       "    <tr>\n",
       "      <th>2021-11-01</th>\n",
       "      <td>62e6d1d870bebdf1983a27a2</td>\n",
       "      <td>2021</td>\n",
       "      <td>11</td>\n",
       "      <td>25.76</td>\n",
       "      <td>26.70</td>\n",
       "      <td>-0.94</td>\n",
       "      <td>noviembre</td>\n",
       "      <td>738095</td>\n",
       "      <td>738367</td>\n",
       "      <td>2021-11-01</td>\n",
       "      <td>November-2021</td>\n",
       "    </tr>\n",
       "    <tr>\n",
       "      <th>2021-10-01</th>\n",
       "      <td>62e6d1d870bebdf1983a27a1</td>\n",
       "      <td>2021</td>\n",
       "      <td>10</td>\n",
       "      <td>25.78</td>\n",
       "      <td>26.72</td>\n",
       "      <td>-0.94</td>\n",
       "      <td>octubre</td>\n",
       "      <td>738064</td>\n",
       "      <td>738367</td>\n",
       "      <td>2021-10-01</td>\n",
       "      <td>October-2021</td>\n",
       "    </tr>\n",
       "    <tr>\n",
       "      <th>2021-09-01</th>\n",
       "      <td>62e6d1d870bebdf1983a27a0</td>\n",
       "      <td>2021</td>\n",
       "      <td>9</td>\n",
       "      <td>26.16</td>\n",
       "      <td>26.72</td>\n",
       "      <td>-0.55</td>\n",
       "      <td>septiembre</td>\n",
       "      <td>738034</td>\n",
       "      <td>738367</td>\n",
       "      <td>2021-09-01</td>\n",
       "      <td>September-2021</td>\n",
       "    </tr>\n",
       "  </tbody>\n",
       "</table>\n",
       "</div>"
      ],
      "text/plain": [
       "                                 _id  year  month  nino34_mean  climatologica  \\\n",
       "periodo                                                                         \n",
       "2022-06-01  62e6d1d870bebdf1983a27a9  2022      6        26.96          27.73   \n",
       "2022-05-01  62e6d1d870bebdf1983a27a8  2022      5        26.82          27.94   \n",
       "2022-04-01  62e6d1d870bebdf1983a27a7  2022      4        26.71          27.83   \n",
       "2022-03-01  62e6d1d870bebdf1983a27a6  2022      3        26.32          27.29   \n",
       "2022-02-01  62e6d1d870bebdf1983a27a5  2022      2        25.87          26.76   \n",
       "2022-01-01  62e6d1d870bebdf1983a27a4  2022      1        25.60          26.55   \n",
       "2021-12-01  62e6d1d870bebdf1983a27a3  2021     12        25.54          26.60   \n",
       "2021-11-01  62e6d1d870bebdf1983a27a2  2021     11        25.76          26.70   \n",
       "2021-10-01  62e6d1d870bebdf1983a27a1  2021     10        25.78          26.72   \n",
       "2021-09-01  62e6d1d870bebdf1983a27a0  2021      9        26.16          26.72   \n",
       "\n",
       "            anomalias         mes    time  time_actualizacion    periodo  \\\n",
       "periodo                                                                    \n",
       "2022-06-01      -0.77       junio  738307              738367 2022-06-01   \n",
       "2022-05-01      -1.12        mayo  738276              738367 2022-05-01   \n",
       "2022-04-01      -1.12       abril  738246              738367 2022-04-01   \n",
       "2022-03-01      -0.98       marzo  738215              738367 2022-03-01   \n",
       "2022-02-01      -0.90     febrero  738187              738367 2022-02-01   \n",
       "2022-01-01      -0.95       enero  738156              738367 2022-01-01   \n",
       "2021-12-01      -1.06   diciembre  738125              738367 2021-12-01   \n",
       "2021-11-01      -0.94   noviembre  738095              738367 2021-11-01   \n",
       "2021-10-01      -0.94     octubre  738064              738367 2021-10-01   \n",
       "2021-09-01      -0.55  septiembre  738034              738367 2021-09-01   \n",
       "\n",
       "                  mes_year  \n",
       "periodo                     \n",
       "2022-06-01       June-2022  \n",
       "2022-05-01        May-2022  \n",
       "2022-04-01      April-2022  \n",
       "2022-03-01      March-2022  \n",
       "2022-02-01   February-2022  \n",
       "2022-01-01    January-2022  \n",
       "2021-12-01   December-2021  \n",
       "2021-11-01   November-2021  \n",
       "2021-10-01    October-2021  \n",
       "2021-09-01  September-2021  "
      ]
     },
     "execution_count": 4,
     "metadata": {},
     "output_type": "execute_result"
    }
   ],
   "source": [
    "# Fecha actual\n",
    "time = datetime.today().toordinal()\n",
    "\n",
    "# Realizando consulta\n",
    "sst_data = db.SSTNino34.find({\"time\":{\"$lte\":time}})\n",
    "\n",
    "# Generando pandas dataframe\n",
    "data_pandas = pd.DataFrame([file for file in sst_data])\n",
    "data_pandas['periodo'] = data_pandas.time.apply(lambda x: datetime.fromordinal(x))\n",
    "data_pandas['mes_year'] =  data_pandas['periodo'].dt.strftime('%B-%Y')\n",
    "data_pandas.index = pd.to_datetime(data_pandas.periodo)\n",
    "data_pandas.head(10)"
   ]
  },
  {
   "cell_type": "code",
   "execution_count": 5,
   "metadata": {},
   "outputs": [
    {
     "name": "stdout",
     "output_type": "stream",
     "text": [
      "(870, 11)\n"
     ]
    }
   ],
   "source": [
    "# Registros\n",
    "print(data_pandas.shape)"
   ]
  },
  {
   "cell_type": "code",
   "execution_count": 6,
   "metadata": {},
   "outputs": [
    {
     "name": "stdout",
     "output_type": "stream",
     "text": [
      "1950-01-01 00:00:00\n",
      "2022-06-01 00:00:00\n"
     ]
    }
   ],
   "source": [
    "# Data disponible\n",
    "print(data_pandas.index.min())\n",
    "print(data_pandas.index.max())"
   ]
  },
  {
   "cell_type": "markdown",
   "metadata": {},
   "source": [
    "### Modelos NARX"
   ]
  },
  {
   "cell_type": "markdown",
   "metadata": {},
   "source": [
    "Data para el modelo NAARX"
   ]
  },
  {
   "cell_type": "code",
   "execution_count": 7,
   "metadata": {},
   "outputs": [],
   "source": [
    "# Data modelo\n",
    "data_model = data_pandas[['nino34_mean']].dropna().copy()\n",
    "data_model['nino34_mean_exogena'] = data_model.nino34_mean"
   ]
  },
  {
   "cell_type": "code",
   "execution_count": 8,
   "metadata": {},
   "outputs": [
    {
     "data": {
      "text/plain": [
       "<AxesSubplot:xlabel='periodo'>"
      ]
     },
     "execution_count": 8,
     "metadata": {},
     "output_type": "execute_result"
    },
    {
     "data": {
      "image/png": "[encoded data removed]",
      "text/plain": [
       "<Figure size 432x288 with 1 Axes>"
      ]
     },
     "metadata": {
      "needs_background": "light"
     },
     "output_type": "display_data"
    }
   ],
   "source": [
    "data_model.plot()"
   ]
  },
  {
   "cell_type": "markdown",
   "metadata": {},
   "source": [
    "Definiendo variable de entrada y exógena"
   ]
  },
  {
   "cell_type": "code",
   "execution_count": 9,
   "metadata": {},
   "outputs": [
    {
     "data": {
      "text/html": [
       "<div>\n",
       "<style scoped>\n",
       "    .dataframe tbody tr th:only-of-type {\n",
       "        vertical-align: middle;\n",
       "    }\n",
       "\n",
       "    .dataframe tbody tr th {\n",
       "        vertical-align: top;\n",
       "    }\n",
       "\n",
       "    .dataframe thead th {\n",
       "        text-align: right;\n",
       "    }\n",
       "</style>\n",
       "<table border=\"1\" class=\"dataframe\">\n",
       "  <thead>\n",
       "    <tr style=\"text-align: right;\">\n",
       "      <th></th>\n",
       "      <th>nino34_mean</th>\n",
       "      <th>nino34_mean_exogena</th>\n",
       "    </tr>\n",
       "    <tr>\n",
       "      <th>periodo</th>\n",
       "      <th></th>\n",
       "      <th></th>\n",
       "    </tr>\n",
       "  </thead>\n",
       "  <tbody>\n",
       "    <tr>\n",
       "      <th>1950-01-01</th>\n",
       "      <td>24.56</td>\n",
       "      <td>24.56</td>\n",
       "    </tr>\n",
       "    <tr>\n",
       "      <th>1950-02-01</th>\n",
       "      <td>25.07</td>\n",
       "      <td>25.07</td>\n",
       "    </tr>\n",
       "    <tr>\n",
       "      <th>1950-03-01</th>\n",
       "      <td>25.88</td>\n",
       "      <td>25.88</td>\n",
       "    </tr>\n",
       "    <tr>\n",
       "      <th>1950-04-01</th>\n",
       "      <td>26.29</td>\n",
       "      <td>26.29</td>\n",
       "    </tr>\n",
       "    <tr>\n",
       "      <th>1950-05-01</th>\n",
       "      <td>26.19</td>\n",
       "      <td>26.19</td>\n",
       "    </tr>\n",
       "    <tr>\n",
       "      <th>1950-06-01</th>\n",
       "      <td>26.47</td>\n",
       "      <td>26.47</td>\n",
       "    </tr>\n",
       "    <tr>\n",
       "      <th>1950-07-01</th>\n",
       "      <td>26.28</td>\n",
       "      <td>26.28</td>\n",
       "    </tr>\n",
       "    <tr>\n",
       "      <th>1950-08-01</th>\n",
       "      <td>25.88</td>\n",
       "      <td>25.88</td>\n",
       "    </tr>\n",
       "    <tr>\n",
       "      <th>1950-09-01</th>\n",
       "      <td>25.73</td>\n",
       "      <td>25.73</td>\n",
       "    </tr>\n",
       "    <tr>\n",
       "      <th>1950-10-01</th>\n",
       "      <td>25.68</td>\n",
       "      <td>25.68</td>\n",
       "    </tr>\n",
       "  </tbody>\n",
       "</table>\n",
       "</div>"
      ],
      "text/plain": [
       "            nino34_mean  nino34_mean_exogena\n",
       "periodo                                     \n",
       "1950-01-01        24.56                24.56\n",
       "1950-02-01        25.07                25.07\n",
       "1950-03-01        25.88                25.88\n",
       "1950-04-01        26.29                26.29\n",
       "1950-05-01        26.19                26.19\n",
       "1950-06-01        26.47                26.47\n",
       "1950-07-01        26.28                26.28\n",
       "1950-08-01        25.88                25.88\n",
       "1950-09-01        25.73                25.73\n",
       "1950-10-01        25.68                25.68"
      ]
     },
     "execution_count": 9,
     "metadata": {},
     "output_type": "execute_result"
    }
   ],
   "source": [
    "y_output = 'nino34_mean'\n",
    "exogena = ['nino34_mean_exogena']\n",
    "\n",
    "pd_model = data_model[ [y_output] + exogena].sort_index(ascending=True)\n",
    "pd_model.head(10)"
   ]
  },
  {
   "cell_type": "markdown",
   "metadata": {},
   "source": [
    "Normalización de los datos"
   ]
  },
  {
   "cell_type": "code",
   "execution_count": 10,
   "metadata": {},
   "outputs": [],
   "source": [
    "# t_exogena = ['t_' + x for x in exogena]\n",
    "# t_output = 't_' + y_output\n",
    "\n",
    "\n",
    "# data_mean = pd_model.mean()\n",
    "# data_std = pd_model.std()\n",
    "\n",
    "# pd_model[t_output] = (pd_model[y_output] - data_mean[data_mean.index==y_output][0])/data_std[data_std.index==y_output][0]\n",
    "\n",
    "# for x in exogena:\n",
    "#     pd_model['t_' + x] = (pd_model[x] - data_mean[data_mean.index==x][0])/data_std[data_std.index==x][0]"
   ]
  },
  {
   "cell_type": "code",
   "execution_count": 11,
   "metadata": {},
   "outputs": [],
   "source": [
    "# data_modelo = pd_model[[t_output]+t_exogena]\n",
    "# data_modelo.head(10)"
   ]
  },
  {
   "cell_type": "markdown",
   "metadata": {},
   "source": [
    "Parámetros de del modelo NARX "
   ]
  },
  {
   "cell_type": "code",
   "execution_count": 12,
   "metadata": {},
   "outputs": [],
   "source": [
    "prediction_order = 12 # rango de prediccion\n",
    "auto_order = 12 # componente autoregresiva\n",
    "exog_order = 36 # componente exogena qm\n",
    "exog_delay = 1 # componente exogena dm"
   ]
  },
  {
   "cell_type": "code",
   "execution_count": 13,
   "metadata": {},
   "outputs": [],
   "source": [
    "def date_window(pd_model,auto_order,exog_order,exog_delay,exogena,output):\n",
    "    \"\"\"\n",
    "    Funcion para estructurar los datos de entrada del modelo NARX\n",
    "    \"\"\"\n",
    "\n",
    "    X = pd_model[exogena].to_numpy().astype(float)\n",
    "    y = pd_model[[output]].to_numpy().astype(float)\n",
    "\n",
    "    # Data para el mmodelo\n",
    "    input_data = []\n",
    "    output_data = []\n",
    "    for t in range(max(auto_order, exog_order), len(y)):\n",
    "        input_data.append(np.concatenate((y[(t - auto_order + 1):(t + 1)], X[(t - exog_delay - exog_order + 1):(t - exog_delay + 1)]), axis=0) )\n",
    "        output_data.append(np.array(y[t]))\n",
    "\n",
    "    # Input del modelo\n",
    "    input_data = np.array(input_data)\n",
    "    # Output del modelo\n",
    "    output_data = np.array(output_data)\n",
    "\n",
    "    return (input_data.reshape(input_data.shape[0],input_data.shape[1]), output_data)"
   ]
  },
  {
   "cell_type": "code",
   "execution_count": 14,
   "metadata": {},
   "outputs": [
    {
     "name": "stdout",
     "output_type": "stream",
     "text": [
      "(822, 48)\n",
      "(822, 1)\n"
     ]
    }
   ],
   "source": [
    "# Data Test\n",
    "data_test = pd_model[:-prediction_order]\n",
    "input_data, output_data = date_window(pd_model=data_test,\n",
    "                                        auto_order=auto_order,\n",
    "                                        exog_order=exog_order,\n",
    "                                        exog_delay=exog_delay,\n",
    "                                        exogena=exogena,\n",
    "                                        output=y_output)\n",
    "\n",
    "print(input_data.shape)\n",
    "print(output_data.shape)"
   ]
  },
  {
   "cell_type": "code",
   "execution_count": 15,
   "metadata": {},
   "outputs": [
    {
     "data": {
      "text/html": [
       "<div>\n",
       "<style scoped>\n",
       "    .dataframe tbody tr th:only-of-type {\n",
       "        vertical-align: middle;\n",
       "    }\n",
       "\n",
       "    .dataframe tbody tr th {\n",
       "        vertical-align: top;\n",
       "    }\n",
       "\n",
       "    .dataframe thead th {\n",
       "        text-align: right;\n",
       "    }\n",
       "</style>\n",
       "<table border=\"1\" class=\"dataframe\">\n",
       "  <thead>\n",
       "    <tr style=\"text-align: right;\">\n",
       "      <th></th>\n",
       "      <th>nino34_mean</th>\n",
       "      <th>nino34_mean_exogena</th>\n",
       "    </tr>\n",
       "    <tr>\n",
       "      <th>periodo</th>\n",
       "      <th></th>\n",
       "      <th></th>\n",
       "    </tr>\n",
       "  </thead>\n",
       "  <tbody>\n",
       "    <tr>\n",
       "      <th>1950-01-01</th>\n",
       "      <td>24.56</td>\n",
       "      <td>24.56</td>\n",
       "    </tr>\n",
       "    <tr>\n",
       "      <th>1950-02-01</th>\n",
       "      <td>25.07</td>\n",
       "      <td>25.07</td>\n",
       "    </tr>\n",
       "    <tr>\n",
       "      <th>1950-03-01</th>\n",
       "      <td>25.88</td>\n",
       "      <td>25.88</td>\n",
       "    </tr>\n",
       "    <tr>\n",
       "      <th>1950-04-01</th>\n",
       "      <td>26.29</td>\n",
       "      <td>26.29</td>\n",
       "    </tr>\n",
       "    <tr>\n",
       "      <th>1950-05-01</th>\n",
       "      <td>26.19</td>\n",
       "      <td>26.19</td>\n",
       "    </tr>\n",
       "    <tr>\n",
       "      <th>...</th>\n",
       "      <td>...</td>\n",
       "      <td>...</td>\n",
       "    </tr>\n",
       "    <tr>\n",
       "      <th>2021-02-01</th>\n",
       "      <td>25.76</td>\n",
       "      <td>25.76</td>\n",
       "    </tr>\n",
       "    <tr>\n",
       "      <th>2021-03-01</th>\n",
       "      <td>26.50</td>\n",
       "      <td>26.50</td>\n",
       "    </tr>\n",
       "    <tr>\n",
       "      <th>2021-04-01</th>\n",
       "      <td>27.11</td>\n",
       "      <td>27.11</td>\n",
       "    </tr>\n",
       "    <tr>\n",
       "      <th>2021-05-01</th>\n",
       "      <td>27.48</td>\n",
       "      <td>27.48</td>\n",
       "    </tr>\n",
       "    <tr>\n",
       "      <th>2021-06-01</th>\n",
       "      <td>27.45</td>\n",
       "      <td>27.45</td>\n",
       "    </tr>\n",
       "  </tbody>\n",
       "</table>\n",
       "<p>858 rows × 2 columns</p>\n",
       "</div>"
      ],
      "text/plain": [
       "            nino34_mean  nino34_mean_exogena\n",
       "periodo                                     \n",
       "1950-01-01        24.56                24.56\n",
       "1950-02-01        25.07                25.07\n",
       "1950-03-01        25.88                25.88\n",
       "1950-04-01        26.29                26.29\n",
       "1950-05-01        26.19                26.19\n",
       "...                 ...                  ...\n",
       "2021-02-01        25.76                25.76\n",
       "2021-03-01        26.50                26.50\n",
       "2021-04-01        27.11                27.11\n",
       "2021-05-01        27.48                27.48\n",
       "2021-06-01        27.45                27.45\n",
       "\n",
       "[858 rows x 2 columns]"
      ]
     },
     "execution_count": 15,
     "metadata": {},
     "output_type": "execute_result"
    }
   ],
   "source": [
    "pd_model[:-prediction_order]"
   ]
  },
  {
   "cell_type": "code",
   "execution_count": 16,
   "metadata": {},
   "outputs": [
    {
     "name": "stderr",
     "output_type": "stream",
     "text": [
      "2022-08-09 20:35:21.656625: I tensorflow/core/platform/cpu_feature_guard.cc:193] This TensorFlow binary is optimized with oneAPI Deep Neural Network Library (oneDNN) to use the following CPU instructions in performance-critical operations:  AVX2 FMA\n",
      "To enable them in other operations, rebuild TensorFlow with the appropriate compiler flags.\n"
     ]
    }
   ],
   "source": [
    "# Neuronas capa entrada\n",
    "_ , ninp = input_data.shape\n",
    "\n",
    "# Capas de la red\n",
    "input_ = keras.layers.Input(shape=(ninp,))\n",
    "hidden1 = keras.layers.Dense(ninp, activation=\"selu\",kernel_initializer=\"lecun_normal\",)(input_)\n",
    "hidden2 = keras.layers.Dense(ninp, activation=\"selu\",kernel_initializer=\"lecun_normal\")(hidden1)\n",
    "hidden3 = keras.layers.Dense(ninp, activation=\"selu\",kernel_initializer=\"lecun_normal\")(hidden2)\n",
    "output = keras.layers.Dense(1)(hidden3)\n",
    "\n",
    "# Definiendo red \n",
    "model = keras.models.Model(inputs=[input_],outputs=[output])\n",
    "\n",
    "# Definiendo optimizador y learning rate\n",
    "optimizer = keras.optimizers.Nadam(learning_rate = 1e-3)\n",
    "\n",
    "# Compilando el modelo a entrenar\n",
    "model.compile(loss=\"mean_squared_error\", optimizer=optimizer)"
   ]
  },
  {
   "cell_type": "code",
   "execution_count": 17,
   "metadata": {},
   "outputs": [
    {
     "name": "stdout",
     "output_type": "stream",
     "text": [
      "Model: \"model\"\n",
      "_________________________________________________________________\n",
      " Layer (type)                Output Shape              Param #   \n",
      "=================================================================\n",
      " input_1 (InputLayer)        [(None, 48)]              0         \n",
      "                                                                 \n",
      " dense (Dense)               (None, 48)                2352      \n",
      "                                                                 \n",
      " dense_1 (Dense)             (None, 48)                2352      \n",
      "                                                                 \n",
      " dense_2 (Dense)             (None, 48)                2352      \n",
      "                                                                 \n",
      " dense_3 (Dense)             (None, 1)                 49        \n",
      "                                                                 \n",
      "=================================================================\n",
      "Total params: 7,105\n",
      "Trainable params: 7,105\n",
      "Non-trainable params: 0\n",
      "_________________________________________________________________\n"
     ]
    }
   ],
   "source": [
    "# Parametros de entrenamiento\n",
    "epochs = 1000\n",
    "batch_size = 32\n",
    "validation_split = 0.30\n",
    "\n",
    "path_checkpoint = \"./model_checkpoint/narx_sst_nino34.h5\"\n",
    "\n",
    "patience = 10\n",
    "min_delta = 0\n",
    "\n",
    "# Entrenando la red\n",
    "es_callback = keras.callbacks\\\n",
    "                    .EarlyStopping(monitor=\"val_loss\",\n",
    "                                   min_delta=min_delta,\n",
    "                                   patience=patience,\n",
    "                                   mode='min')\n",
    "\n",
    "modelckpt_callback = keras.callbacks\\\n",
    "                            .ModelCheckpoint(\n",
    "                                    monitor=\"val_loss\",\n",
    "                                    filepath=path_checkpoint,\n",
    "                                    verbose=0,\n",
    "                                    save_weights_only=True,\n",
    "                                    save_best_only=True)\n",
    "\n",
    "history = model.fit(\n",
    "                x=input_data,\n",
    "                y=output_data,\n",
    "                epochs=epochs,\n",
    "                verbose=0,\n",
    "                validation_split=validation_split,\n",
    "                callbacks=[es_callback, modelckpt_callback])\n",
    "\n",
    "model.summary()"
   ]
  },
  {
   "cell_type": "code",
   "execution_count": 18,
   "metadata": {},
   "outputs": [
    {
     "data": {
      "image/png": "[encoded data removed]",
      "text/plain": [
       "<Figure size 1080x720 with 1 Axes>"
      ]
     },
     "metadata": {
      "needs_background": "light"
     },
     "output_type": "display_data"
    }
   ],
   "source": [
    "import matplotlib.pyplot as plt\n",
    "import matplotlib.pylab as pylab\n",
    "\n",
    "def visualizar_perdida(history, title):\n",
    "    \"\"\"\n",
    "    Funcion para visualizar la funcion de perdida de la red NARX\n",
    "    \"\"\"\n",
    "    params = {'legend.fontsize': 'x-large',\n",
    "            #'figure.figsize': (15, 10),\n",
    "            'axes.labelsize': 'x-large',\n",
    "            'axes.titlesize':'x-large',\n",
    "            'xtick.labelsize':'x-large',\n",
    "            'ytick.labelsize':'x-large'}\n",
    "\n",
    "    loss = history.history[\"loss\"]\n",
    "    val_loss = history.history[\"val_loss\"]\n",
    "    epochs = range(len(loss))\n",
    "    plt.figure(figsize=(15,10))\n",
    "    pylab.rcParams.update(params)\n",
    "    plt.plot(epochs, loss, \"b\", label=\"Entrenamiento\")\n",
    "    plt.plot(epochs, val_loss, \"r\", label=\"Validación\")\n",
    "    \n",
    "    plt.title('Pérdida en el entrenamiento y validación',loc='left',fontsize=18)\n",
    "    plt.suptitle(title,ha='left',fontsize=30,x=0.12)\n",
    "    plt.xlabel(\"Épocas\",fontsize=18)\n",
    "    plt.ylabel(\"Pérdida\",fontsize=18)\n",
    "    plt.legend()\n",
    "    plt.show()\n",
    "\n",
    "visualizar_perdida(history, \"NARX SST Región NIÑO 3.4\")"
   ]
  },
  {
   "cell_type": "markdown",
   "metadata": {},
   "source": [
    "# Validación del modelo"
   ]
  },
  {
   "cell_type": "markdown",
   "metadata": {},
   "source": [
    "Datos para validación"
   ]
  },
  {
   "cell_type": "code",
   "execution_count": 19,
   "metadata": {},
   "outputs": [],
   "source": [
    "prediction_test = model.predict(input_data,\n",
    "                                batch_size=batch_size,\n",
    "                                verbose=0,\n",
    "                                steps=None,\n",
    "                                callbacks=None,\n",
    "                                max_queue_size=10,\n",
    "                                workers=1,\n",
    "                                use_multiprocessing=False)"
   ]
  },
  {
   "cell_type": "code",
   "execution_count": 20,
   "metadata": {},
   "outputs": [
    {
     "data": {
      "text/html": [
       "<div>\n",
       "<style scoped>\n",
       "    .dataframe tbody tr th:only-of-type {\n",
       "        vertical-align: middle;\n",
       "    }\n",
       "\n",
       "    .dataframe tbody tr th {\n",
       "        vertical-align: top;\n",
       "    }\n",
       "\n",
       "    .dataframe thead th {\n",
       "        text-align: right;\n",
       "    }\n",
       "</style>\n",
       "<table border=\"1\" class=\"dataframe\">\n",
       "  <thead>\n",
       "    <tr style=\"text-align: right;\">\n",
       "      <th></th>\n",
       "      <th>periodo</th>\n",
       "      <th>nino34_mean</th>\n",
       "      <th>nino34_mean_exogena</th>\n",
       "      <th>prediction</th>\n",
       "      <th>type</th>\n",
       "    </tr>\n",
       "  </thead>\n",
       "  <tbody>\n",
       "    <tr>\n",
       "      <th>0</th>\n",
       "      <td>1950-01-01</td>\n",
       "      <td>24.56</td>\n",
       "      <td>24.56</td>\n",
       "      <td>NaN</td>\n",
       "      <td>training</td>\n",
       "    </tr>\n",
       "    <tr>\n",
       "      <th>1</th>\n",
       "      <td>1950-02-01</td>\n",
       "      <td>25.07</td>\n",
       "      <td>25.07</td>\n",
       "      <td>NaN</td>\n",
       "      <td>training</td>\n",
       "    </tr>\n",
       "    <tr>\n",
       "      <th>2</th>\n",
       "      <td>1950-03-01</td>\n",
       "      <td>25.88</td>\n",
       "      <td>25.88</td>\n",
       "      <td>NaN</td>\n",
       "      <td>training</td>\n",
       "    </tr>\n",
       "    <tr>\n",
       "      <th>3</th>\n",
       "      <td>1950-04-01</td>\n",
       "      <td>26.29</td>\n",
       "      <td>26.29</td>\n",
       "      <td>NaN</td>\n",
       "      <td>training</td>\n",
       "    </tr>\n",
       "    <tr>\n",
       "      <th>4</th>\n",
       "      <td>1950-05-01</td>\n",
       "      <td>26.19</td>\n",
       "      <td>26.19</td>\n",
       "      <td>NaN</td>\n",
       "      <td>training</td>\n",
       "    </tr>\n",
       "  </tbody>\n",
       "</table>\n",
       "</div>"
      ],
      "text/plain": [
       "     periodo  nino34_mean  nino34_mean_exogena  prediction      type\n",
       "0 1950-01-01        24.56                24.56         NaN  training\n",
       "1 1950-02-01        25.07                25.07         NaN  training\n",
       "2 1950-03-01        25.88                25.88         NaN  training\n",
       "3 1950-04-01        26.29                26.29         NaN  training\n",
       "4 1950-05-01        26.19                26.19         NaN  training"
      ]
     },
     "execution_count": 20,
     "metadata": {},
     "output_type": "execute_result"
    }
   ],
   "source": [
    "pd_validation = pd_model.copy().reset_index(drop=False)\n",
    "pd_validation['prediction'] = np.nan\n",
    "pd_validation['type'] = 'training'\n",
    "pd_validation.loc[ data_test.shape[0]: , 'type' ] = 'validation'\n",
    "\n",
    "# Prediccion training\n",
    "pd_validation.loc[ range(max(auto_order, exog_order),(data_test.shape[0])), 'prediction' ] = prediction_test\n",
    "\n",
    "pd_validation.head()"
   ]
  },
  {
   "cell_type": "code",
   "execution_count": 21,
   "metadata": {},
   "outputs": [
    {
     "data": {
      "text/plain": [
       "<AxesSubplot:>"
      ]
     },
     "execution_count": 21,
     "metadata": {},
     "output_type": "execute_result"
    },
    {
     "data": {
      "image/png": "[encoded data removed]",
      "text/plain": [
       "<Figure size 432x288 with 1 Axes>"
      ]
     },
     "metadata": {
      "needs_background": "light"
     },
     "output_type": "display_data"
    }
   ],
   "source": [
    "pd_validation[pd_validation.type=='validation'][['nino34_mean','prediction']].plot()"
   ]
  },
  {
   "cell_type": "code",
   "execution_count": 22,
   "metadata": {},
   "outputs": [],
   "source": [
    "data_pandas['periodo'] = data_pandas.time.apply(lambda x: datetime.fromordinal(x))\n",
    "data_pandas['mes_year'] =  data_pandas['periodo'].dt.strftime('%B-%Y')\n",
    "data_pandas.index = pd.to_datetime(data_pandas.periodo)"
   ]
  },
  {
   "cell_type": "code",
   "execution_count": 23,
   "metadata": {},
   "outputs": [
    {
     "data": {
      "text/plain": [
       "DatetimeIndex(['2022-06-01', '2022-05-01', '2022-04-01', '2022-03-01',\n",
       "               '2022-02-01', '2022-01-01', '2021-12-01', '2021-11-01',\n",
       "               '2021-10-01', '2021-09-01',\n",
       "               ...\n",
       "               '1950-10-01', '1950-09-01', '1950-08-01', '1950-07-01',\n",
       "               '1950-06-01', '1950-05-01', '1950-04-01', '1950-03-01',\n",
       "               '1950-02-01', '1950-01-01'],\n",
       "              dtype='datetime64[ns]', name='periodo', length=870, freq=None)"
      ]
     },
     "execution_count": 23,
     "metadata": {},
     "output_type": "execute_result"
    }
   ],
   "source": [
    "data_pandas.index "
   ]
  },
  {
   "cell_type": "code",
   "execution_count": 24,
   "metadata": {},
   "outputs": [
    {
     "data": {
      "text/plain": [
       "'2021-06'"
      ]
     },
     "execution_count": 24,
     "metadata": {},
     "output_type": "execute_result"
    }
   ],
   "source": [
    "data_test.index.max().strftime('%Y-%m')"
   ]
  },
  {
   "cell_type": "code",
   "execution_count": 25,
   "metadata": {},
   "outputs": [
    {
     "data": {
      "text/plain": [
       "Timestamp('2021-07-01 00:00:00')"
      ]
     },
     "execution_count": 25,
     "metadata": {},
     "output_type": "execute_result"
    }
   ],
   "source": [
    "data_test.index.max()  + pd.DateOffset(months=1)"
   ]
  },
  {
   "cell_type": "code",
   "execution_count": 26,
   "metadata": {},
   "outputs": [],
   "source": [
    "def forecast_one_step(data,model,auto_order,exog_order,exog_delay,exogena,y_output,batch_size):\n",
    "    \"\"\"\n",
    "    Funcion para la prediccion a one step\n",
    "    \"\"\"\n",
    "\n",
    "    # Pandas Data Frame\n",
    "    pd_update = pd.DataFrame()\n",
    "    # Agregando Index \n",
    "    pd_update['periodo'] = pd.to_datetime([ (data.index.max() + pd.DateOffset(months=1) ).strftime('%Y-%m')])\n",
    "    pd_update = pd_update.set_index('periodo')\n",
    "    #print(pd_update.index )\n",
    "    pd_update[y_output] = np.nan\n",
    "    for col in exogena:\n",
    "        pd_update[col] = np.nan\n",
    "\n",
    "    pd_update['type'] = 'self_prediction'\n",
    "\n",
    "    # Formato a los datos\n",
    "    input_data_validate, _ = date_window(pd_model=data.copy(),\n",
    "                                        auto_order=auto_order,\n",
    "                                        exog_order=exog_order,\n",
    "                                        exog_delay=exog_delay,\n",
    "                                        exogena=exogena,\n",
    "                                        output=y_output)\n",
    "\n",
    "    # Data para pronostico\n",
    "    past_row = input_data_validate[-1].reshape(1, input_data_validate.shape[1])\n",
    "\n",
    "    # prediccion\n",
    "    prediction_validation = model.predict(  past_row,\n",
    "                                            batch_size=batch_size,\n",
    "                                            verbose=0,\n",
    "                                            steps=None,\n",
    "                                            callbacks=None,\n",
    "                                            max_queue_size=10,\n",
    "                                            workers=1,\n",
    "                                            use_multiprocessing=False)\n",
    "\n",
    "    pd_update[y_output] = prediction_validation.flat[0]\n",
    "\n",
    "    return pd_update"
   ]
  },
  {
   "cell_type": "code",
   "execution_count": 27,
   "metadata": {},
   "outputs": [
    {
     "data": {
      "text/html": [
       "<div>\n",
       "<style scoped>\n",
       "    .dataframe tbody tr th:only-of-type {\n",
       "        vertical-align: middle;\n",
       "    }\n",
       "\n",
       "    .dataframe tbody tr th {\n",
       "        vertical-align: top;\n",
       "    }\n",
       "\n",
       "    .dataframe thead th {\n",
       "        text-align: right;\n",
       "    }\n",
       "</style>\n",
       "<table border=\"1\" class=\"dataframe\">\n",
       "  <thead>\n",
       "    <tr style=\"text-align: right;\">\n",
       "      <th></th>\n",
       "      <th>nino34_mean</th>\n",
       "      <th>nino34_mean_exogena</th>\n",
       "      <th>type</th>\n",
       "    </tr>\n",
       "    <tr>\n",
       "      <th>periodo</th>\n",
       "      <th></th>\n",
       "      <th></th>\n",
       "      <th></th>\n",
       "    </tr>\n",
       "  </thead>\n",
       "  <tbody>\n",
       "    <tr>\n",
       "      <th>1950-01-01</th>\n",
       "      <td>24.560000</td>\n",
       "      <td>24.560000</td>\n",
       "      <td>historical</td>\n",
       "    </tr>\n",
       "    <tr>\n",
       "      <th>1950-02-01</th>\n",
       "      <td>25.070000</td>\n",
       "      <td>25.070000</td>\n",
       "      <td>historical</td>\n",
       "    </tr>\n",
       "    <tr>\n",
       "      <th>1950-03-01</th>\n",
       "      <td>25.880000</td>\n",
       "      <td>25.880000</td>\n",
       "      <td>historical</td>\n",
       "    </tr>\n",
       "    <tr>\n",
       "      <th>1950-04-01</th>\n",
       "      <td>26.290000</td>\n",
       "      <td>26.290000</td>\n",
       "      <td>historical</td>\n",
       "    </tr>\n",
       "    <tr>\n",
       "      <th>1950-05-01</th>\n",
       "      <td>26.190000</td>\n",
       "      <td>26.190000</td>\n",
       "      <td>historical</td>\n",
       "    </tr>\n",
       "    <tr>\n",
       "      <th>...</th>\n",
       "      <td>...</td>\n",
       "      <td>...</td>\n",
       "      <td>...</td>\n",
       "    </tr>\n",
       "    <tr>\n",
       "      <th>2022-02-01</th>\n",
       "      <td>25.950472</td>\n",
       "      <td>25.950472</td>\n",
       "      <td>self_prediction</td>\n",
       "    </tr>\n",
       "    <tr>\n",
       "      <th>2022-03-01</th>\n",
       "      <td>26.106585</td>\n",
       "      <td>26.106585</td>\n",
       "      <td>self_prediction</td>\n",
       "    </tr>\n",
       "    <tr>\n",
       "      <th>2022-04-01</th>\n",
       "      <td>26.007635</td>\n",
       "      <td>26.007635</td>\n",
       "      <td>self_prediction</td>\n",
       "    </tr>\n",
       "    <tr>\n",
       "      <th>2022-05-01</th>\n",
       "      <td>25.920578</td>\n",
       "      <td>25.920578</td>\n",
       "      <td>self_prediction</td>\n",
       "    </tr>\n",
       "    <tr>\n",
       "      <th>2022-06-01</th>\n",
       "      <td>25.961153</td>\n",
       "      <td>25.961153</td>\n",
       "      <td>self_prediction</td>\n",
       "    </tr>\n",
       "  </tbody>\n",
       "</table>\n",
       "<p>870 rows × 3 columns</p>\n",
       "</div>"
      ],
      "text/plain": [
       "            nino34_mean  nino34_mean_exogena             type\n",
       "periodo                                                      \n",
       "1950-01-01    24.560000            24.560000       historical\n",
       "1950-02-01    25.070000            25.070000       historical\n",
       "1950-03-01    25.880000            25.880000       historical\n",
       "1950-04-01    26.290000            26.290000       historical\n",
       "1950-05-01    26.190000            26.190000       historical\n",
       "...                 ...                  ...              ...\n",
       "2022-02-01    25.950472            25.950472  self_prediction\n",
       "2022-03-01    26.106585            26.106585  self_prediction\n",
       "2022-04-01    26.007635            26.007635  self_prediction\n",
       "2022-05-01    25.920578            25.920578  self_prediction\n",
       "2022-06-01    25.961153            25.961153  self_prediction\n",
       "\n",
       "[870 rows x 3 columns]"
      ]
     },
     "execution_count": 27,
     "metadata": {},
     "output_type": "execute_result"
    }
   ],
   "source": [
    "# Generando auto predicion\n",
    "pd_selfPrediction = data_test.copy()\n",
    "pd_selfPrediction['type'] = 'historical'\n",
    "\n",
    "for x in range(prediction_order):\n",
    "    selfPrediction = forecast_one_step( data=pd_selfPrediction.copy(),\n",
    "                                        model=model,\n",
    "                                        auto_order=auto_order,\n",
    "                                        exog_order=exog_order,\n",
    "                                        exog_delay=exog_delay,\n",
    "                                        exogena=exogena,\n",
    "                                        y_output=y_output,\n",
    "                                        batch_size=batch_size)\n",
    "\n",
    "    selfPrediction[exogena] = selfPrediction[y_output]\n",
    "\n",
    "    pd_selfPrediction = pd.concat([pd_selfPrediction, selfPrediction]).copy()  \n",
    "\n",
    "pd_selfPrediction"
   ]
  },
  {
   "cell_type": "code",
   "execution_count": 28,
   "metadata": {},
   "outputs": [],
   "source": [
    "pd_test = pd.DataFrame()\n",
    "\n",
    "pd_test['real'] = pd_model[-prediction_order:][y_output]\n",
    "pd_test['prediccion'] = pd_selfPrediction[-prediction_order:][y_output]"
   ]
  },
  {
   "cell_type": "code",
   "execution_count": 29,
   "metadata": {},
   "outputs": [
    {
     "data": {
      "text/plain": [
       "<AxesSubplot:xlabel='periodo'>"
      ]
     },
     "execution_count": 29,
     "metadata": {},
     "output_type": "execute_result"
    },
    {
     "data": {
      "image/png": "[encoded data removed]",
      "text/plain": [
       "<Figure size 432x288 with 1 Axes>"
      ]
     },
     "metadata": {
      "needs_background": "light"
     },
     "output_type": "display_data"
    }
   ],
   "source": [
    "pd_test.plot()"
   ]
  },
  {
   "cell_type": "code",
   "execution_count": 30,
   "metadata": {},
   "outputs": [],
   "source": [
    "pd_test['residuos'] = pd_test.real-pd_test.prediccion"
   ]
  },
  {
   "cell_type": "code",
   "execution_count": 31,
   "metadata": {},
   "outputs": [
    {
     "data": {
      "text/plain": [
       "real          26.228333\n",
       "prediccion    26.112995\n",
       "residuos       0.115338\n",
       "dtype: float64"
      ]
     },
     "execution_count": 31,
     "metadata": {},
     "output_type": "execute_result"
    }
   ],
   "source": [
    "pd_test.mean()"
   ]
  },
  {
   "cell_type": "code",
   "execution_count": null,
   "metadata": {},
   "outputs": [],
   "source": []
  }
 ],
 "metadata": {
  "kernelspec": {
   "display_name": "Python 3.9.0 ('ssev_analytics')",
   "language": "python",
   "name": "python3"
  },
  "language_info": {
   "codemirror_mode": {
    "name": "ipython",
    "version": 3
   },
   "file_extension": ".py",
   "mimetype": "text/x-python",
   "name": "python",
   "nbconvert_exporter": "python",
   "pygments_lexer": "ipython3",
   "version": "3.9.0"
  },
  "orig_nbformat": 4,
  "vscode": {
   "interpreter": {
    "hash": "7962acab993cb47be2d59fc45292cc4ac077641aa9e9bf66ffc44da07d377859"
   }
  }
 },
 "nbformat": 4,
 "nbformat_minor": 2
}
