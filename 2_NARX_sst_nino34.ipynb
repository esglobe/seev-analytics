{
 "cells": [
  {
   "cell_type": "markdown",
   "metadata": {},
   "source": [
    "## NARX SST Región Niño 3.4\n",
    "\n",
    "**PROYECTO:** SISTEMA PARA EL SEGUIMIENTO DE ECOSISTEMAS VENEZOLANOS \\\n",
    "**AUTOR:** Javier Martinez"
   ]
  },
  {
   "cell_type": "code",
   "execution_count": null,
   "metadata": {},
   "outputs": [],
   "source": [
    "#https://www.tensorflow.org/tutorials/structured_data/time_series"
   ]
  },
  {
   "cell_type": "code",
   "execution_count": 1,
   "metadata": {},
   "outputs": [],
   "source": [
    "from MONGO import CONEXION\n",
    "from datetime import datetime\n",
    "import pandas as pd\n",
    "import numpy as np\n",
    "\n",
    "import tensorflow as tf\n",
    "from tensorflow import keras"
   ]
  },
  {
   "cell_type": "markdown",
   "metadata": {},
   "source": [
    "# Creando Coenxión con Mongo DB"
   ]
  },
  {
   "cell_type": "code",
   "execution_count": 2,
   "metadata": {},
   "outputs": [
    {
     "data": {
      "text/plain": [
       "['polygons', 'meteorological', 'SSTNino34']"
      ]
     },
     "execution_count": 2,
     "metadata": {},
     "output_type": "execute_result"
    }
   ],
   "source": [
    "# Creando la conexión con MongoDB\n",
    "db = CONEXION.conexion()\n",
    "db.list_collection_names()"
   ]
  },
  {
   "cell_type": "markdown",
   "metadata": {},
   "source": [
    "# Descargando la Información SST NIÑO3.4"
   ]
  },
  {
   "cell_type": "code",
   "execution_count": 3,
   "metadata": {},
   "outputs": [
    {
     "data": {
      "text/html": [
       "<div>\n",
       "<style scoped>\n",
       "    .dataframe tbody tr th:only-of-type {\n",
       "        vertical-align: middle;\n",
       "    }\n",
       "\n",
       "    .dataframe tbody tr th {\n",
       "        vertical-align: top;\n",
       "    }\n",
       "\n",
       "    .dataframe thead th {\n",
       "        text-align: right;\n",
       "    }\n",
       "</style>\n",
       "<table border=\"1\" class=\"dataframe\">\n",
       "  <thead>\n",
       "    <tr style=\"text-align: right;\">\n",
       "      <th></th>\n",
       "      <th>_id</th>\n",
       "      <th>year</th>\n",
       "      <th>month</th>\n",
       "      <th>nino34_mean</th>\n",
       "      <th>climatologica</th>\n",
       "      <th>anomalias</th>\n",
       "      <th>mes</th>\n",
       "      <th>time</th>\n",
       "      <th>time_actualizacion</th>\n",
       "      <th>periodo</th>\n",
       "      <th>mes_year</th>\n",
       "    </tr>\n",
       "    <tr>\n",
       "      <th>periodo</th>\n",
       "      <th></th>\n",
       "      <th></th>\n",
       "      <th></th>\n",
       "      <th></th>\n",
       "      <th></th>\n",
       "      <th></th>\n",
       "      <th></th>\n",
       "      <th></th>\n",
       "      <th></th>\n",
       "      <th></th>\n",
       "      <th></th>\n",
       "    </tr>\n",
       "  </thead>\n",
       "  <tbody>\n",
       "    <tr>\n",
       "      <th>2022-06-01</th>\n",
       "      <td>62e6d1d870bebdf1983a27a9</td>\n",
       "      <td>2022</td>\n",
       "      <td>6</td>\n",
       "      <td>26.96</td>\n",
       "      <td>27.73</td>\n",
       "      <td>-0.77</td>\n",
       "      <td>junio</td>\n",
       "      <td>738307</td>\n",
       "      <td>738367</td>\n",
       "      <td>2022-06-01</td>\n",
       "      <td>June-2022</td>\n",
       "    </tr>\n",
       "    <tr>\n",
       "      <th>2022-05-01</th>\n",
       "      <td>62e6d1d870bebdf1983a27a8</td>\n",
       "      <td>2022</td>\n",
       "      <td>5</td>\n",
       "      <td>26.82</td>\n",
       "      <td>27.94</td>\n",
       "      <td>-1.12</td>\n",
       "      <td>mayo</td>\n",
       "      <td>738276</td>\n",
       "      <td>738367</td>\n",
       "      <td>2022-05-01</td>\n",
       "      <td>May-2022</td>\n",
       "    </tr>\n",
       "    <tr>\n",
       "      <th>2022-04-01</th>\n",
       "      <td>62e6d1d870bebdf1983a27a7</td>\n",
       "      <td>2022</td>\n",
       "      <td>4</td>\n",
       "      <td>26.71</td>\n",
       "      <td>27.83</td>\n",
       "      <td>-1.12</td>\n",
       "      <td>abril</td>\n",
       "      <td>738246</td>\n",
       "      <td>738367</td>\n",
       "      <td>2022-04-01</td>\n",
       "      <td>April-2022</td>\n",
       "    </tr>\n",
       "    <tr>\n",
       "      <th>2022-03-01</th>\n",
       "      <td>62e6d1d870bebdf1983a27a6</td>\n",
       "      <td>2022</td>\n",
       "      <td>3</td>\n",
       "      <td>26.32</td>\n",
       "      <td>27.29</td>\n",
       "      <td>-0.98</td>\n",
       "      <td>marzo</td>\n",
       "      <td>738215</td>\n",
       "      <td>738367</td>\n",
       "      <td>2022-03-01</td>\n",
       "      <td>March-2022</td>\n",
       "    </tr>\n",
       "    <tr>\n",
       "      <th>2022-02-01</th>\n",
       "      <td>62e6d1d870bebdf1983a27a5</td>\n",
       "      <td>2022</td>\n",
       "      <td>2</td>\n",
       "      <td>25.87</td>\n",
       "      <td>26.76</td>\n",
       "      <td>-0.90</td>\n",
       "      <td>febrero</td>\n",
       "      <td>738187</td>\n",
       "      <td>738367</td>\n",
       "      <td>2022-02-01</td>\n",
       "      <td>February-2022</td>\n",
       "    </tr>\n",
       "  </tbody>\n",
       "</table>\n",
       "</div>"
      ],
      "text/plain": [
       "                                 _id  year  month  nino34_mean  climatologica  \\\n",
       "periodo                                                                         \n",
       "2022-06-01  62e6d1d870bebdf1983a27a9  2022      6        26.96          27.73   \n",
       "2022-05-01  62e6d1d870bebdf1983a27a8  2022      5        26.82          27.94   \n",
       "2022-04-01  62e6d1d870bebdf1983a27a7  2022      4        26.71          27.83   \n",
       "2022-03-01  62e6d1d870bebdf1983a27a6  2022      3        26.32          27.29   \n",
       "2022-02-01  62e6d1d870bebdf1983a27a5  2022      2        25.87          26.76   \n",
       "\n",
       "            anomalias      mes    time  time_actualizacion    periodo  \\\n",
       "periodo                                                                 \n",
       "2022-06-01      -0.77    junio  738307              738367 2022-06-01   \n",
       "2022-05-01      -1.12     mayo  738276              738367 2022-05-01   \n",
       "2022-04-01      -1.12    abril  738246              738367 2022-04-01   \n",
       "2022-03-01      -0.98    marzo  738215              738367 2022-03-01   \n",
       "2022-02-01      -0.90  febrero  738187              738367 2022-02-01   \n",
       "\n",
       "                 mes_year  \n",
       "periodo                    \n",
       "2022-06-01      June-2022  \n",
       "2022-05-01       May-2022  \n",
       "2022-04-01     April-2022  \n",
       "2022-03-01     March-2022  \n",
       "2022-02-01  February-2022  "
      ]
     },
     "execution_count": 3,
     "metadata": {},
     "output_type": "execute_result"
    }
   ],
   "source": [
    "# Fecha actual\n",
    "time = datetime.today().toordinal()\n",
    "\n",
    "# Realizando consulta\n",
    "sst_data = db.SSTNino34.find({\"time\":{\"$lte\":time}})\n",
    "\n",
    "# Generando pandas dataframe\n",
    "data_pandas = pd.DataFrame([file for file in sst_data])\n",
    "data_pandas['periodo'] = data_pandas.time.apply(lambda x: datetime.fromordinal(x))\n",
    "data_pandas['mes_year'] =  data_pandas['periodo'].dt.strftime('%B-%Y')\n",
    "data_pandas.index = pd.to_datetime(data_pandas.periodo)\n",
    "data_pandas.head()"
   ]
  },
  {
   "cell_type": "code",
   "execution_count": 4,
   "metadata": {},
   "outputs": [
    {
     "name": "stdout",
     "output_type": "stream",
     "text": [
      "(870, 11)\n"
     ]
    }
   ],
   "source": [
    "# Registros\n",
    "print(data_pandas.shape)"
   ]
  },
  {
   "cell_type": "code",
   "execution_count": 5,
   "metadata": {},
   "outputs": [
    {
     "name": "stdout",
     "output_type": "stream",
     "text": [
      "1950-01-01 00:00:00\n",
      "2022-06-01 00:00:00\n"
     ]
    }
   ],
   "source": [
    "# Data disponible\n",
    "print(data_pandas.index.min())\n",
    "print(data_pandas.index.max())"
   ]
  },
  {
   "cell_type": "markdown",
   "metadata": {},
   "source": [
    "### Modelos NARX"
   ]
  },
  {
   "cell_type": "code",
   "execution_count": 6,
   "metadata": {},
   "outputs": [],
   "source": [
    "# Data modelo\n",
    "data_model = data_pandas[['nino34_mean']].dropna().copy()\n",
    "data_model['nino34_mean_exogena'] = data_model.nino34_mean"
   ]
  },
  {
   "cell_type": "code",
   "execution_count": 7,
   "metadata": {},
   "outputs": [
    {
     "data": {
      "text/plain": [
       "<AxesSubplot:xlabel='periodo'>"
      ]
     },
     "execution_count": 7,
     "metadata": {},
     "output_type": "execute_result"
    },
    {
     "data": {
      "image/png": "[encoded data removed]",
      "text/plain": [
       "<Figure size 432x288 with 1 Axes>"
      ]
     },
     "metadata": {
      "needs_background": "light"
     },
     "output_type": "display_data"
    }
   ],
   "source": [
    "data_model.plot()"
   ]
  },
  {
   "cell_type": "code",
   "execution_count": 8,
   "metadata": {},
   "outputs": [
    {
     "data": {
      "text/plain": [
       "(870, 2)"
      ]
     },
     "execution_count": 8,
     "metadata": {},
     "output_type": "execute_result"
    }
   ],
   "source": [
    "data_model.shape"
   ]
  },
  {
   "cell_type": "code",
   "execution_count": 9,
   "metadata": {},
   "outputs": [
    {
     "data": {
      "text/html": [
       "<div>\n",
       "<style scoped>\n",
       "    .dataframe tbody tr th:only-of-type {\n",
       "        vertical-align: middle;\n",
       "    }\n",
       "\n",
       "    .dataframe tbody tr th {\n",
       "        vertical-align: top;\n",
       "    }\n",
       "\n",
       "    .dataframe thead th {\n",
       "        text-align: right;\n",
       "    }\n",
       "</style>\n",
       "<table border=\"1\" class=\"dataframe\">\n",
       "  <thead>\n",
       "    <tr style=\"text-align: right;\">\n",
       "      <th></th>\n",
       "      <th>nino34_mean</th>\n",
       "      <th>nino34_mean_exogena</th>\n",
       "    </tr>\n",
       "    <tr>\n",
       "      <th>periodo</th>\n",
       "      <th></th>\n",
       "      <th></th>\n",
       "    </tr>\n",
       "  </thead>\n",
       "  <tbody>\n",
       "    <tr>\n",
       "      <th>1950-01-01</th>\n",
       "      <td>24.56</td>\n",
       "      <td>24.56</td>\n",
       "    </tr>\n",
       "    <tr>\n",
       "      <th>1950-02-01</th>\n",
       "      <td>25.07</td>\n",
       "      <td>25.07</td>\n",
       "    </tr>\n",
       "    <tr>\n",
       "      <th>1950-03-01</th>\n",
       "      <td>25.88</td>\n",
       "      <td>25.88</td>\n",
       "    </tr>\n",
       "    <tr>\n",
       "      <th>1950-04-01</th>\n",
       "      <td>26.29</td>\n",
       "      <td>26.29</td>\n",
       "    </tr>\n",
       "    <tr>\n",
       "      <th>1950-05-01</th>\n",
       "      <td>26.19</td>\n",
       "      <td>26.19</td>\n",
       "    </tr>\n",
       "    <tr>\n",
       "      <th>...</th>\n",
       "      <td>...</td>\n",
       "      <td>...</td>\n",
       "    </tr>\n",
       "    <tr>\n",
       "      <th>2022-02-01</th>\n",
       "      <td>25.87</td>\n",
       "      <td>25.87</td>\n",
       "    </tr>\n",
       "    <tr>\n",
       "      <th>2022-03-01</th>\n",
       "      <td>26.32</td>\n",
       "      <td>26.32</td>\n",
       "    </tr>\n",
       "    <tr>\n",
       "      <th>2022-04-01</th>\n",
       "      <td>26.71</td>\n",
       "      <td>26.71</td>\n",
       "    </tr>\n",
       "    <tr>\n",
       "      <th>2022-05-01</th>\n",
       "      <td>26.82</td>\n",
       "      <td>26.82</td>\n",
       "    </tr>\n",
       "    <tr>\n",
       "      <th>2022-06-01</th>\n",
       "      <td>26.96</td>\n",
       "      <td>26.96</td>\n",
       "    </tr>\n",
       "  </tbody>\n",
       "</table>\n",
       "<p>870 rows × 2 columns</p>\n",
       "</div>"
      ],
      "text/plain": [
       "            nino34_mean  nino34_mean_exogena\n",
       "periodo                                     \n",
       "1950-01-01        24.56                24.56\n",
       "1950-02-01        25.07                25.07\n",
       "1950-03-01        25.88                25.88\n",
       "1950-04-01        26.29                26.29\n",
       "1950-05-01        26.19                26.19\n",
       "...                 ...                  ...\n",
       "2022-02-01        25.87                25.87\n",
       "2022-03-01        26.32                26.32\n",
       "2022-04-01        26.71                26.71\n",
       "2022-05-01        26.82                26.82\n",
       "2022-06-01        26.96                26.96\n",
       "\n",
       "[870 rows x 2 columns]"
      ]
     },
     "execution_count": 9,
     "metadata": {},
     "output_type": "execute_result"
    }
   ],
   "source": [
    "y_output = 'nino34_mean'\n",
    "exogena = ['nino34_mean_exogena']\n",
    "\n",
    "pd_model = data_model[ [y_output] + exogena].sort_index(ascending=True)\n",
    "pd_model"
   ]
  },
  {
   "cell_type": "markdown",
   "metadata": {},
   "source": [
    "Normalización de los datos"
   ]
  },
  {
   "cell_type": "code",
   "execution_count": 10,
   "metadata": {},
   "outputs": [],
   "source": [
    "t_exogena = ['t_' + x for x in exogena]\n",
    "t_output = 't_' + y_output\n",
    "\n",
    "\n",
    "data_mean = pd_model.mean()\n",
    "data_std = pd_model.std()\n",
    "\n",
    "pd_model[t_output] = (pd_model[y_output] - data_mean[data_mean.index==y_output][0])/data_std[data_std.index==y_output][0]\n",
    "\n",
    "for x in exogena:\n",
    "    pd_model['t_' + x] = (pd_model[x] - data_mean[data_mean.index==x][0])/data_std[data_std.index==x][0]"
   ]
  },
  {
   "cell_type": "code",
   "execution_count": 11,
   "metadata": {},
   "outputs": [
    {
     "data": {
      "text/html": [
       "<div>\n",
       "<style scoped>\n",
       "    .dataframe tbody tr th:only-of-type {\n",
       "        vertical-align: middle;\n",
       "    }\n",
       "\n",
       "    .dataframe tbody tr th {\n",
       "        vertical-align: top;\n",
       "    }\n",
       "\n",
       "    .dataframe thead th {\n",
       "        text-align: right;\n",
       "    }\n",
       "</style>\n",
       "<table border=\"1\" class=\"dataframe\">\n",
       "  <thead>\n",
       "    <tr style=\"text-align: right;\">\n",
       "      <th></th>\n",
       "      <th>t_nino34_mean</th>\n",
       "      <th>t_nino34_mean_exogena</th>\n",
       "    </tr>\n",
       "    <tr>\n",
       "      <th>periodo</th>\n",
       "      <th></th>\n",
       "      <th></th>\n",
       "    </tr>\n",
       "  </thead>\n",
       "  <tbody>\n",
       "    <tr>\n",
       "      <th>1950-01-01</th>\n",
       "      <td>-2.380617</td>\n",
       "      <td>-2.380617</td>\n",
       "    </tr>\n",
       "    <tr>\n",
       "      <th>1950-02-01</th>\n",
       "      <td>-1.859887</td>\n",
       "      <td>-1.859887</td>\n",
       "    </tr>\n",
       "    <tr>\n",
       "      <th>1950-03-01</th>\n",
       "      <td>-1.032845</td>\n",
       "      <td>-1.032845</td>\n",
       "    </tr>\n",
       "    <tr>\n",
       "      <th>1950-04-01</th>\n",
       "      <td>-0.614219</td>\n",
       "      <td>-0.614219</td>\n",
       "    </tr>\n",
       "    <tr>\n",
       "      <th>1950-05-01</th>\n",
       "      <td>-0.716323</td>\n",
       "      <td>-0.716323</td>\n",
       "    </tr>\n",
       "    <tr>\n",
       "      <th>...</th>\n",
       "      <td>...</td>\n",
       "      <td>...</td>\n",
       "    </tr>\n",
       "    <tr>\n",
       "      <th>2022-02-01</th>\n",
       "      <td>-1.043056</td>\n",
       "      <td>-1.043056</td>\n",
       "    </tr>\n",
       "    <tr>\n",
       "      <th>2022-03-01</th>\n",
       "      <td>-0.583588</td>\n",
       "      <td>-0.583588</td>\n",
       "    </tr>\n",
       "    <tr>\n",
       "      <th>2022-04-01</th>\n",
       "      <td>-0.185383</td>\n",
       "      <td>-0.185383</td>\n",
       "    </tr>\n",
       "    <tr>\n",
       "      <th>2022-05-01</th>\n",
       "      <td>-0.073069</td>\n",
       "      <td>-0.073069</td>\n",
       "    </tr>\n",
       "    <tr>\n",
       "      <th>2022-06-01</th>\n",
       "      <td>0.069877</td>\n",
       "      <td>0.069877</td>\n",
       "    </tr>\n",
       "  </tbody>\n",
       "</table>\n",
       "<p>870 rows × 2 columns</p>\n",
       "</div>"
      ],
      "text/plain": [
       "            t_nino34_mean  t_nino34_mean_exogena\n",
       "periodo                                         \n",
       "1950-01-01      -2.380617              -2.380617\n",
       "1950-02-01      -1.859887              -1.859887\n",
       "1950-03-01      -1.032845              -1.032845\n",
       "1950-04-01      -0.614219              -0.614219\n",
       "1950-05-01      -0.716323              -0.716323\n",
       "...                   ...                    ...\n",
       "2022-02-01      -1.043056              -1.043056\n",
       "2022-03-01      -0.583588              -0.583588\n",
       "2022-04-01      -0.185383              -0.185383\n",
       "2022-05-01      -0.073069              -0.073069\n",
       "2022-06-01       0.069877               0.069877\n",
       "\n",
       "[870 rows x 2 columns]"
      ]
     },
     "execution_count": 11,
     "metadata": {},
     "output_type": "execute_result"
    }
   ],
   "source": [
    "data_modelo = pd_model[[t_output]+t_exogena]\n",
    "data_modelo"
   ]
  },
  {
   "cell_type": "markdown",
   "metadata": {},
   "source": [
    "Utilizará una división (70%, 20%, 10%) para los conjuntos de entrenamiento, validación y prueba"
   ]
  },
  {
   "cell_type": "code",
   "execution_count": 12,
   "metadata": {},
   "outputs": [],
   "source": [
    "prediction_order = 12 # rango de prediccion\n",
    "auto_order = 24 # componente autoregresiva\n",
    "exog_order = 12 # componente exogena qm\n",
    "exog_delay = 0 # componente exogena dm"
   ]
  },
  {
   "cell_type": "code",
   "execution_count": 13,
   "metadata": {},
   "outputs": [],
   "source": [
    "def date_window(pd_model,auto_order,exog_order,exog_delay,exogena,output):\n",
    "\n",
    "    X = pd_model[exogena].to_numpy().astype(float)\n",
    "    y = pd_model[[output]].to_numpy().astype(float)\n",
    "\n",
    "    # Data para el mmodelo\n",
    "    input_data = []\n",
    "    output_data = []\n",
    "    for t in range(max(auto_order, exog_order), len(y)):\n",
    "        input_data.append(np.concatenate((y[(t - auto_order + 1):(t + 1)], X[(t - exog_delay - exog_order + 1):(t - exog_delay + 1)]), axis=0) )\n",
    "        output_data.append(np.array(y[t]))\n",
    "\n",
    "    # Input del modelo\n",
    "    input_data = np.array(input_data)\n",
    "    # Output del modelo\n",
    "    output_data = np.array(output_data)\n",
    "\n",
    "    return (input_data,output_data)"
   ]
  },
  {
   "cell_type": "code",
   "execution_count": 14,
   "metadata": {},
   "outputs": [
    {
     "name": "stdout",
     "output_type": "stream",
     "text": [
      "(834, 36, 1)\n",
      "(834, 1)\n"
     ]
    }
   ],
   "source": [
    "# Data Test\n",
    "data_test = data_modelo[:-prediction_order]\n",
    "input_data, output_data = date_window(data_test,auto_order,exog_order,exog_delay,t_exogena,t_output)\n",
    "\n",
    "print(input_data.shape)\n",
    "print(output_data.shape)"
   ]
  },
  {
   "cell_type": "code",
   "execution_count": 15,
   "metadata": {},
   "outputs": [
    {
     "name": "stderr",
     "output_type": "stream",
     "text": [
      "2022-08-07 18:30:36.086308: I tensorflow/core/platform/cpu_feature_guard.cc:193] This TensorFlow binary is optimized with oneAPI Deep Neural Network Library (oneDNN) to use the following CPU instructions in performance-critical operations:  AVX2 FMA\n",
      "To enable them in other operations, rebuild TensorFlow with the appropriate compiler flags.\n"
     ]
    }
   ],
   "source": [
    "# Modelo en Keras\n",
    "_ , ninp, _ = input_data.shape\n",
    "\n",
    "\n",
    "# model definition\n",
    "input_ = keras.layers.Input(shape=(ninp,))\n",
    "hidden1 = keras.layers.Dense(ninp, activation=\"selu\",kernel_initializer=\"lecun_normal\",)(input_)\n",
    "hidden2 = keras.layers.Dense(ninp, activation=\"selu\",kernel_initializer=\"lecun_normal\")(hidden1)\n",
    "hidden3 = keras.layers.Dense(ninp, activation=\"selu\",kernel_initializer=\"lecun_normal\")(hidden2)\n",
    "output = keras.layers.Dense(ninp)(hidden3)\n",
    "\n",
    "# instantiate model\n",
    "model = keras.models.Model(inputs=[input_],outputs=[output])\n",
    "\n",
    "# define optimizer and learning rate\n",
    "optimizer = keras.optimizers.Nadam(learning_rate = 1e-3)\n",
    "\n",
    "# compile model to train it\n",
    "model.compile(loss=\"mean_squared_error\", optimizer=optimizer)"
   ]
  },
  {
   "cell_type": "code",
   "execution_count": 16,
   "metadata": {},
   "outputs": [],
   "source": [
    "history = model.fit(input_data,\n",
    "                    output_data,\n",
    "                    epochs=100,\n",
    "                    batch_size = 32,\n",
    "                    verbose = 0,\n",
    "                    validation_split = 0.30)"
   ]
  },
  {
   "cell_type": "code",
   "execution_count": 17,
   "metadata": {},
   "outputs": [
    {
     "name": "stdout",
     "output_type": "stream",
     "text": [
      "Model: \"model\"\n",
      "_________________________________________________________________\n",
      " Layer (type)                Output Shape              Param #   \n",
      "=================================================================\n",
      " input_1 (InputLayer)        [(None, 36)]              0         \n",
      "                                                                 \n",
      " dense (Dense)               (None, 36)                1332      \n",
      "                                                                 \n",
      " dense_1 (Dense)             (None, 36)                1332      \n",
      "                                                                 \n",
      " dense_2 (Dense)             (None, 36)                1332      \n",
      "                                                                 \n",
      " dense_3 (Dense)             (None, 36)                1332      \n",
      "                                                                 \n",
      "=================================================================\n",
      "Total params: 5,328\n",
      "Trainable params: 5,328\n",
      "Non-trainable params: 0\n",
      "_________________________________________________________________\n"
     ]
    }
   ],
   "source": [
    "model.summary()"
   ]
  },
  {
   "cell_type": "code",
   "execution_count": 18,
   "metadata": {},
   "outputs": [
    {
     "data": {
      "image/png": "[encoded data removed]",
      "text/plain": [
       "<Figure size 432x288 with 1 Axes>"
      ]
     },
     "metadata": {
      "needs_background": "light"
     },
     "output_type": "display_data"
    }
   ],
   "source": [
    "import matplotlib.pyplot as plt\n",
    "\n",
    "def visualize_loss(history, title):\n",
    "    loss = history.history[\"loss\"]\n",
    "    val_loss = history.history[\"val_loss\"]\n",
    "    epochs = range(len(loss))\n",
    "    plt.figure()\n",
    "    plt.plot(epochs, loss, \"b\", label=\"Training loss\")\n",
    "    plt.plot(epochs, val_loss, \"r\", label=\"Validation loss\")\n",
    "    plt.title(title)\n",
    "    plt.xlabel(\"Epochs\")\n",
    "    plt.ylabel(\"Loss\")\n",
    "    plt.legend()\n",
    "    plt.show()\n",
    "\n",
    "\n",
    "visualize_loss(history, \"Training and Validation Loss\")"
   ]
  },
  {
   "cell_type": "code",
   "execution_count": null,
   "metadata": {},
   "outputs": [],
   "source": []
  }
 ],
 "metadata": {
  "kernelspec": {
   "display_name": "Python 3.9.0 ('ssev_analytics')",
   "language": "python",
   "name": "python3"
  },
  "language_info": {
   "codemirror_mode": {
    "name": "ipython",
    "version": 3
   },
   "file_extension": ".py",
   "mimetype": "text/x-python",
   "name": "python",
   "nbconvert_exporter": "python",
   "pygments_lexer": "ipython3",
   "version": "3.9.0"
  },
  "orig_nbformat": 4,
  "vscode": {
   "interpreter": {
    "hash": "7962acab993cb47be2d59fc45292cc4ac077641aa9e9bf66ffc44da07d377859"
   }
  }
 },
 "nbformat": 4,
 "nbformat_minor": 2
}
